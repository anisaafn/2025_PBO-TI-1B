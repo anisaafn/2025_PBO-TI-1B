{
  "nbformat": 4,
  "nbformat_minor": 0,
  "metadata": {
    "colab": {
      "provenance": [],
      "authorship_tag": "ABX9TyNIyQq+X56/piTmiz0l70ao",
      "include_colab_link": true
    },
    "kernelspec": {
      "name": "python3",
      "display_name": "Python 3"
    },
    "language_info": {
      "name": "python"
    }
  },
  "cells": [
    {
      "cell_type": "markdown",
      "metadata": {
        "id": "view-in-github",
        "colab_type": "text"
      },
      "source": [
        "<a href=\"https://colab.research.google.com/github/anisaafn/2025_PBO-TI-1B/blob/main/Jobsheet_4.ipynb\" target=\"_parent\"><img src=\"https://colab.research.google.com/assets/colab-badge.svg\" alt=\"Open In Colab\"/></a>"
      ]
    },
    {
      "cell_type": "markdown",
      "source": [
        "#JOBSHEET 04: MEMAHAMI PEWARISAN (INHERITANCE) DALAM PYTHON"
      ],
      "metadata": {
        "id": "Ty1OHnew19ei"
      }
    },
    {
      "cell_type": "markdown",
      "source": [
        "## Praktikum 01: Inheritance Dasar\n",
        "Berikut adalah contoh sederhana dalam Python yang mendemonstrasikan proses pewarisan  (inheritance). Kelas diagram berikut memberikan contoh proses pewarisan.\n",
        "Berikut adalah penjelasan untuk kelas diagram dari Praktikum 1,  \n",
        "* Kelas Kendaraan:\n",
        "\n",
        "o Atribut Publik (+):\n",
        "▪ merk: str: Menyimpan merk kendaraan.\n",
        "o Metode Publik (+):\n",
        "▪ __init__(merk: str) : void: Konstruktor untuk inisialisasi merk. ▪ mulai_mesin() : void: Metode untuk simulasi menyalakan mesin.\n",
        "* Kelas Mobil (Mewarisi dari Kendaraan):\n",
        "o Atribut Publik (+):\n",
        "▪ warna: str: Menyimpan warna mobil (atribut spesifik Mobil).\n",
        "▪ merk: str: Diwarisi dari Kendaraan, namun dalam contoh kode Praktikum  1 ini, nilainya diatur ulang secara eksplisit di dalam konstruktor Mobil.\n",
        "o Metode Publik (+):\n",
        "▪ __init__(merk: str, warna: str) : void: Konstruktor untuk Mobil,  menginisialisasi merk dan warna. (Belum menggunakan super() di  praktikum ini).\n",
        "▪ info_mobil() : void: Metode spesifik untuk menampilkan info mobil.  (Metode mulai_mesin diwarisi dari Kendaraan).\n",
        "Diagram ini menunjukkan hubungan pewarisan dasar dimana kelas Mobil mewarisi (<|--) dari  kelas Kendaraan. Objek Mobil dapat mengakses metode mulai_mesin yang didefinisikan di  Kendaraan.\n",
        "Kemudian untuk kode praktikum dalam python dapat dilihat sebagai berikut:\n"
      ],
      "metadata": {
        "id": "57LiWgDD29f9"
      }
    },
    {
      "cell_type": "code",
      "execution_count": null,
      "metadata": {
        "id": "HUOgbgl413oA",
        "colab": {
          "base_uri": "https://localhost:8080/"
        },
        "outputId": "cf466545-c949-444b-b63b-2602fdcca7c2"
      },
      "outputs": [
        {
          "output_type": "stream",
          "name": "stdout",
          "text": [
            "Ini adalah mobil Tesla Model S berwarna Merah.\n",
            "Mesin kendaraan Tesla Model S dinyalakan.\n",
            "Merk mobil: Tesla Model S\n"
          ]
        }
      ],
      "source": [
        "#Kelas Induk\n",
        "class Kendaraan:\n",
        "  def __init__(self, merk):\n",
        "    self.merk = merk\n",
        "\n",
        "  def mulai_mesin(self):\n",
        "    print(f\"Mesin kendaraan {self.merk} dinyalakan.\")\n",
        "\n",
        "#Kelas Anak (mewarisi dari Kendaraan)\n",
        "class Mobil (Kendaraan):\n",
        "  def __init__(self, merk, warna):\n",
        "    #Memanggil __init__ kelas induk (akan dibahas di praktikum 2)\n",
        "    #Untuk sekarang, kita set mer secara manual\n",
        "    self.merk = merk #Mewarisi 'merk' tapi di-set ulang disini\n",
        "    self.warna = warna #Atribut khusus Mobil\n",
        "\n",
        "  def info_mobil(self):\n",
        "    print(f\"Ini adalah mobil {self.merk} berwarna {self.warna}.\")\n",
        "\n",
        "#--- Kode Utama ---\n",
        "if __name__ == \"__main__\":\n",
        "    mobil_tesla = Mobil(\"Tesla Model S\", \"Merah\")\n",
        "\n",
        "    #Memanggil metode dari kelas anak\n",
        "    mobil_tesla.info_mobil()\n",
        "\n",
        "#Memanggil metode yang diwarisi dari kelas induk\n",
        "mobil_tesla.mulai_mesin()\n",
        "\n",
        "#Mengakses atribut yang diwarisi (dan di-set di anak)\n",
        "print (f\"Merk mobil: {mobil_tesla.merk}\")\n"
      ]
    },
    {
      "cell_type": "markdown",
      "source": [
        "## Praktikum 02: Menggunakan super() dalam konstruktor\n",
        "Tujuan: Menggunakan super().__init__() untuk inisialisasi atribut kelas induk (Person)  dari dalam konstruktor kelas anak (Student).\n",
        "\n",
        "\n",
        "• Kelas Person:\n",
        "o Atribut Publik (+): nama, usia.\n",
        "o Metode Publik (+): __init__(nama, usia), perkenalkan_diri().\n",
        "• Kelas Student (Mewarisi dari Person):\n",
        "o Atribut Publik (+): student_id, jurusan. (Atribut nama dan usia diwarisi). o Metode Publik (+): __init__(nama, usia, student_id, jurusan) (memanggil  super().__init__()), info_akademik(), perkenalkan_diri() (meng-override metode induk). Diagram ini menunjukkan kelas Student yang mewarisi dari Person. Fokus utama praktikum ini  adalah pada metode __init__ di Student yang menggunakan super().__init__() untuk memanggil  konstruktor Person, memastikan inisialisasi yang benar dari atribut nama dan usia sebelum  menambahkan atribut spesifik Student.\n",
        "\n",
        "Kode Python:"
      ],
      "metadata": {
        "id": "g90QOOdOUoV0"
      }
    },
    {
      "cell_type": "code",
      "source": [
        "#Kelas Induk\n",
        "class Person:\n",
        "  def __init__(self, nama, usia):\n",
        "    print(f\"(Memanggil __init__ Person untuk '{nama}')\")\n",
        "    self.nama = nama\n",
        "    self.usia = usia\n",
        "\n",
        "  def perkenalkan_diri(self):\n",
        "    print(f\"Halo, nama saya {self.nama} usia saya {self.usia} tahun.\")\n",
        "\n",
        "#Kelas ANak (Mewarisi dari Person)\n",
        "class Student (Person):\n",
        "  def __init__(self, nama, usia, student_id, jurusan):\n",
        "    print(f\"(Memanggil __init__ Sudent untuk '{nama}')\")\n",
        "    #Memanggil __init__ dari kelas Person untuk inisialisasi nama dan usia\n",
        "    super().__init__(nama, usia)\n",
        "    #Menambahkan atribut khusus Student\n",
        "    self.student_id = student_id\n",
        "    self.jurusan = jurusan\n",
        "    print(f\"(Inisialisasi atribut Student selesai untuk '{nama}')\")\n",
        "\n",
        "\n",
        "  def info_akademik(self):\n",
        "    print(f\"ID Mahasiswa: {self.student_id}\")\n",
        "    print(f\"Jurusan: {self.jurusan}\")\n",
        "\n",
        "    #Override perkenalkan diri untuk menambahkan info Student\n",
        "    def perkenalkan_diri(self):\n",
        "      super().perkenalkan_diri()\n",
        "      print(f\"Saya adalah mahasiswa dengan ID {self.student_id}, jurusan{self.jurusan}.\")\n",
        "\n",
        "# --- Kode Utama ---\n",
        "if __name__ == \"__main__\":\n",
        "  #Membuat objek Person\n",
        "  dosen = Person (\"Pak Anton\", 45)\n",
        "  print(\"-\" * 20)\n",
        "  dosen.perkenalkan_diri()\n",
        "  print(\"\\n\" + \"-\" * 20 + \"\\n\")\n",
        "\n",
        "  #Membuat objek Student\n",
        "  mahasiswa = Student(\"Dewi\", 20, \"MHS001\", \"Teknik Komputer\")\n",
        "  print (\"-\" * 20)\n",
        "  mahasiswa.perkenalkan_diri() #Panggil versi override di Student\n",
        "  mahasiswa.info_akademik() #Panggil metode khusus Student\n",
        "  #Cek atribut yang diwarisi\n",
        "  print (f\"\\nUsia mahasiswa {mahasiswa.nama}: {mahasiswa.usia}\") #usia diwarisi dari Person)"
      ],
      "metadata": {
        "id": "kmU8b79BUvIr",
        "outputId": "5c5c059b-cd35-42fb-fba6-7d2ff1512805",
        "colab": {
          "base_uri": "https://localhost:8080/"
        }
      },
      "execution_count": 1,
      "outputs": [
        {
          "output_type": "stream",
          "name": "stdout",
          "text": [
            "(Memanggil __init__ Person untuk 'Pak Anton')\n",
            "--------------------\n",
            "Halo, nama saya Pak Anton usia saya 45 tahun.\n",
            "\n",
            "--------------------\n",
            "\n",
            "(Memanggil __init__ Sudent untuk 'Dewi')\n",
            "(Memanggil __init__ Person untuk 'Dewi')\n",
            "(Inisialisasi atribut Student selesai untuk 'Dewi')\n",
            "--------------------\n",
            "Halo, nama saya Dewi usia saya 20 tahun.\n",
            "ID Mahasiswa: MHS001\n",
            "Jurusan: Teknik Komputer\n",
            "\n",
            "Usia mahasiswa Dewi: 20\n"
          ]
        }
      ]
    },
    {
      "cell_type": "markdown",
      "source": [
        "Observasi: Perhatikan pesan print yang menunjukkan urutan pemanggilan __init__. Amati  bagaimana super().__init__(nama, usia) dalam Student memastikan bahwa nama dan usia diinisialisasi  oleh konstruktor Person sebelum atribut student_id dan jurusan ditambahkan. Bandingkan output  perkenalkan_diri() dari objek dosen dan mahasiswa."
      ],
      "metadata": {
        "id": "aUsGIBKgZE4l"
      }
    },
    {
      "cell_type": "markdown",
      "source": [
        "## Praktikum 03: Method Overriding dan super()\n",
        "Tujuan: Mengganti (override) metode dari kelas induk di kelas anak dan menggunakan super()  untuk memanggil implementasi asli dari induk.\n",
        "\n",
        "Penjelasan Kelas Diagram:\n",
        "• Kelas Hewan:\n",
        "o Atribut Publik (+):\n",
        "▪ nama: str: Menyimpan nama hewan.\n",
        "o Metode Publik (+):\n",
        "▪ __init__(nama: str) : void: Konstruktor untuk inisialisasi nama.\n",
        "▪ bersuara() : void: Metode dasar untuk hewan bersuara.\n",
        "▪ tampilkan_info() : void: Metode dasar untuk menampilkan info hewan.\n",
        "• Kelas Kucing (Mewarisi dari Hewan):\n",
        "o Atribut Publik (+):\n",
        "▪ ras: str: Menyimpan ras kucing. (Atribut nama diwarisi).\n",
        "o Metode Publik (+):\n",
        "▪ __init__(nama: str, ras: str) : void: Konstruktor Kucing. Memanggil  super().__init__(nama) untuk inisialisasi nama dari Hewan, lalu inisialisasi ras. ▪ bersuara() : void: Override metode bersuara dari Hewan untuk memberikan  implementasi suara kucing yang spesifik (\"Meow!\").\n",
        "▪ tampilkan_info() : void: Override metode tampilkan_info dari Hewan. Metode ini  memanggil super().tampilkan_info() untuk menjalankan implementasi asli dari  Hewan, kemudian menambahkan informasi spesifik tentang ras kucing.\n",
        "Diagram ini menunjukkan bagaimana kelas anak (Kucing) dapat mengganti (override) metode  (bersuara, tampilkan_info) yang diwarisi dari kelas induk (Hewan). Kelas Kucing menyediakan  perilakunya sendiri untuk metode-metode ini. Penggunaan super().tampilkan_info() dalam metode  tampilkan_info yang di-override menunjukkan cara memperluas fungsionalitas induk, bukan  hanya menggantinya sepenuhnya.\n",
        "\n",
        "\n",
        "Kode Program:\n"
      ],
      "metadata": {
        "id": "6cPUa7KYbBSY"
      }
    },
    {
      "cell_type": "code",
      "source": [
        "#Kelas Induk\n",
        "class Hewan:\n",
        "  def __init__(self, nama):\n",
        "    self.nama = nama\n",
        "\n",
        "  def bersuara(self):\n",
        "    print(f\"{self.nama} mengeluarkan suara generik.\")\n",
        "\n",
        "  def tampilkan_info(self):\n",
        "    print(f\"Ini adalah hewan bernama {self.nama}.\")\n",
        "#Kelas Anak\n",
        "class Kucing(Hewan):\n",
        "  def __init__(self, nama, ras):\n",
        "    super().__init__(nama) #Panggil init induk\n",
        "    self.ras = ras\n",
        "\n",
        "  #Method Overriding untuk bersuara\n",
        "  def bersuara(self):\n",
        "    print (f\"{self.nama} (Kucing) mengeong: Meow!\")\n",
        "\n",
        "  #Method Overriding untuk tampilkan_info, memanggil versi induk\n",
        "  def tampilkan_info(self):\n",
        "    super().tampilkan_info() #Panggil implementasi dari Hewan\n",
        "    print(f\"Ini adalah kucing ras {self.ras}.\") #Tambahkan info spesifik\n",
        "\n",
        "# --Kode Utama--\n",
        "if __name__ == \"__main__\":\n",
        "  hewan_umum = Hewan (\"Makhluk\")\n",
        "  kucing_persia = Kucing(\"Puspus\", \"Persia\")\n",
        "\n",
        "  print (\"Info Hewan Umum:\")\n",
        "  hewan_umum.tampilkan_info()\n",
        "  hewan_umum.bersuara()\n",
        "  print (\"-\" * 20)\n",
        "\n",
        "  print (\"Info Kucing Persia:\")\n",
        "  kucing_persia.tampilkan_info() #akan memanggil versi kuing\n",
        "  kucing_persia.bersuara() #akan memanggil versi kucing"
      ],
      "metadata": {
        "colab": {
          "base_uri": "https://localhost:8080/"
        },
        "id": "JcYufgUTbJny",
        "outputId": "ba635b19-af87-45b2-c268-5591a635757b"
      },
      "execution_count": null,
      "outputs": [
        {
          "output_type": "stream",
          "name": "stdout",
          "text": [
            "Info Hewan Umum:\n",
            "Ini adalah hewan bernama Makhluk.\n",
            "Makhluk mengeluarkan suara generik.\n",
            "--------------------\n",
            "Info Kucing Persia:\n",
            "Ini adalah hewan bernama Puspus.\n",
            "Ini adalah kucing ras Persia.\n",
            "Puspus (Kucing) mengeong: Meow!\n"
          ]
        }
      ]
    },
    {
      "cell_type": "markdown",
      "source": [
        "Observasi: Bandingkan output dari bersuara() dan tampilkan_info() saat dipanggil pada objek  hewan_umum dan kucing_persia. Perhatikan bagaimana super().tampilkan_info() di dalam  Kucing.tampilkan_info() memungkinkan penambahan fungsionalitas tanpa menghilangkan  fungsionalitas asli dari induk."
      ],
      "metadata": {
        "id": "BggU3nXgeN_c"
      }
    },
    {
      "cell_type": "markdown",
      "source": [
        "## Praktikum 04: Multi-level Inheritance (Pewarisan Bertingkat)\n",
        "Tujuan: Memahami bagaimana sebuah kelas dapat mewarisi dari kelas anak lain, membentuk  rantai pewarisan (A -> B -> C).\n",
        "\n",
        "Kelas Organisme:\n",
        "o Atribut Publik (+):\n",
        "▪ nama: str: Menyimpan nama organisme.\n",
        "o Metode Publik (+):\n",
        "▪ __init__(nama: str) : void: Konstruktor untuk inisialisasi nama.\n",
        "▪ bernapas() : void: Metode untuk simulasi pernapasan.\n",
        "• Kelas Hewan (Mewarisi dari Organisme):\n",
        "o Atribut Publik (+):\n",
        "▪ jenis_makanan: str: Menyimpan jenis makanan hewan. (Atribut nama diwarisi dari Organisme).\n",
        "o Metode Publik (+):\n",
        "▪ __init__(nama: str, jenis_makanan: str) : void: Konstruktor, memanggil  super().__init__() untuk inisialisasi nama dari Organisme, lalu inisialisasi  jenis_makanan.\n",
        "▪ bergerak() : void: Metode untuk simulasi pergerakan. (Metode bernapas diwarisi).\n",
        "• Kelas Mamalia (Mewarisi dari Hewan):\n",
        "o Atribut Publik (+):\n",
        "▪ jumlah_kaki: int: Menyimpan jumlah kaki mamalia. (Atribut nama dan  jenis_makanan diwarisi).\n",
        "o Metode Publik (+):\n",
        "▪ __init__(nama: str, jenis_makanan: str, jumlah_kaki: int) : void: Konstruktor,  memanggil super().__init__() untuk inisialisasi nama dan jenis_makanan dari  \n",
        "Hewan, lalu inisialisasi jumlah_kaki.\n",
        "▪ menyusui() : void: Metode spesifik untuk mamalia. (Metode bernapas dan  bergerak diwarisi).\n",
        "Diagram ini menunjukkan hierarki pewarisan bertingkat (Organisme <- Hewan <- Mamalia), di  mana Mamalia mewarisi fitur dari Hewan, yang pada gilirannya mewarisi fitur dari Organisme.  Panah (<|--) menunjukkan arah pewarisan (dari anak ke induk).\n",
        "Kode Program:\n"
      ],
      "metadata": {
        "id": "C0Jfyr5YeO3C"
      }
    }
  ]
}