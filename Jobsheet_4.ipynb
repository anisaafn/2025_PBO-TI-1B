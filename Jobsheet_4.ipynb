{
  "nbformat": 4,
  "nbformat_minor": 0,
  "metadata": {
    "colab": {
      "provenance": [],
      "toc_visible": true,
      "authorship_tag": "ABX9TyPVcJ4ecKPxucfaA5TssbH/",
      "include_colab_link": true
    },
    "kernelspec": {
      "name": "python3",
      "display_name": "Python 3"
    },
    "language_info": {
      "name": "python"
    }
  },
  "cells": [
    {
      "cell_type": "markdown",
      "metadata": {
        "id": "view-in-github",
        "colab_type": "text"
      },
      "source": [
        "<a href=\"https://colab.research.google.com/github/anisaafn/2025_PBO-TI-1B/blob/main/Jobsheet_4.ipynb\" target=\"_parent\"><img src=\"https://colab.research.google.com/assets/colab-badge.svg\" alt=\"Open In Colab\"/></a>"
      ]
    },
    {
      "cell_type": "markdown",
      "source": [
        "#JOBSHEET 04: MEMAHAMI PEWARISAN (INHERITANCE) DALAM PYTHON"
      ],
      "metadata": {
        "id": "Ty1OHnew19ei"
      }
    },
    {
      "cell_type": "markdown",
      "source": [
        "## Praktikum 01: Inheritance Dasar\n",
        "Berikut adalah contoh sederhana dalam Python yang mendemonstrasikan proses pewarisan  (inheritance). Kelas diagram berikut memberikan contoh proses pewarisan.\n",
        "Berikut adalah penjelasan untuk kelas diagram dari Praktikum 1,  \n",
        "* Kelas Kendaraan:\n",
        "\n",
        "o Atribut Publik (+):\n",
        "▪ merk: str: Menyimpan merk kendaraan.\n",
        "o Metode Publik (+):\n",
        "▪ __init__(merk: str) : void: Konstruktor untuk inisialisasi merk. ▪ mulai_mesin() : void: Metode untuk simulasi menyalakan mesin.\n",
        "* Kelas Mobil (Mewarisi dari Kendaraan):\n",
        "o Atribut Publik (+):\n",
        "▪ warna: str: Menyimpan warna mobil (atribut spesifik Mobil).\n",
        "▪ merk: str: Diwarisi dari Kendaraan, namun dalam contoh kode Praktikum  1 ini, nilainya diatur ulang secara eksplisit di dalam konstruktor Mobil.\n",
        "o Metode Publik (+):\n",
        "▪ __init__(merk: str, warna: str) : void: Konstruktor untuk Mobil,  menginisialisasi merk dan warna. (Belum menggunakan super() di  praktikum ini).\n",
        "▪ info_mobil() : void: Metode spesifik untuk menampilkan info mobil.  (Metode mulai_mesin diwarisi dari Kendaraan).\n",
        "Diagram ini menunjukkan hubungan pewarisan dasar dimana kelas Mobil mewarisi (<|--) dari  kelas Kendaraan. Objek Mobil dapat mengakses metode mulai_mesin yang didefinisikan di  Kendaraan.\n",
        "Kemudian untuk kode praktikum dalam python dapat dilihat sebagai berikut:\n"
      ],
      "metadata": {
        "id": "57LiWgDD29f9"
      }
    },
    {
      "cell_type": "code",
      "execution_count": null,
      "metadata": {
        "id": "HUOgbgl413oA",
        "colab": {
          "base_uri": "https://localhost:8080/"
        },
        "outputId": "cf466545-c949-444b-b63b-2602fdcca7c2"
      },
      "outputs": [
        {
          "output_type": "stream",
          "name": "stdout",
          "text": [
            "Ini adalah mobil Tesla Model S berwarna Merah.\n",
            "Mesin kendaraan Tesla Model S dinyalakan.\n",
            "Merk mobil: Tesla Model S\n"
          ]
        }
      ],
      "source": [
        "#Kelas Induk\n",
        "class Kendaraan:\n",
        "  def __init__(self, merk):\n",
        "    self.merk = merk\n",
        "\n",
        "  def mulai_mesin(self):\n",
        "    print(f\"Mesin kendaraan {self.merk} dinyalakan.\")\n",
        "\n",
        "#Kelas Anak (mewarisi dari Kendaraan)\n",
        "class Mobil (Kendaraan):\n",
        "  def __init__(self, merk, warna):\n",
        "    #Memanggil __init__ kelas induk (akan dibahas di praktikum 2)\n",
        "    #Untuk sekarang, kita set mer secara manual\n",
        "    self.merk = merk #Mewarisi 'merk' tapi di-set ulang disini\n",
        "    self.warna = warna #Atribut khusus Mobil\n",
        "\n",
        "  def info_mobil(self):\n",
        "    print(f\"Ini adalah mobil {self.merk} berwarna {self.warna}.\")\n",
        "\n",
        "#--- Kode Utama ---\n",
        "if __name__ == \"__main__\":\n",
        "    mobil_tesla = Mobil(\"Tesla Model S\", \"Merah\")\n",
        "\n",
        "    #Memanggil metode dari kelas anak\n",
        "    mobil_tesla.info_mobil()\n",
        "\n",
        "#Memanggil metode yang diwarisi dari kelas induk\n",
        "mobil_tesla.mulai_mesin()\n",
        "\n",
        "#Mengakses atribut yang diwarisi (dan di-set di anak)\n",
        "print (f\"Merk mobil: {mobil_tesla.merk}\")\n"
      ]
    },
    {
      "cell_type": "markdown",
      "source": [
        "## Praktikum 02: Menggunakan super() dalam konstruktor\n",
        "Tujuan: Menggunakan super().__init__() untuk inisialisasi atribut kelas induk (Person)  dari dalam konstruktor kelas anak (Student).\n",
        "\n",
        "\n",
        "• Kelas Person:\n",
        "o Atribut Publik (+): nama, usia.\n",
        "o Metode Publik (+): __init__(nama, usia), perkenalkan_diri().\n",
        "• Kelas Student (Mewarisi dari Person):\n",
        "o Atribut Publik (+): student_id, jurusan. (Atribut nama dan usia diwarisi). o Metode Publik (+): __init__(nama, usia, student_id, jurusan) (memanggil  super().__init__()), info_akademik(), perkenalkan_diri() (meng-override metode induk). Diagram ini menunjukkan kelas Student yang mewarisi dari Person. Fokus utama praktikum ini  adalah pada metode __init__ di Student yang menggunakan super().__init__() untuk memanggil  konstruktor Person, memastikan inisialisasi yang benar dari atribut nama dan usia sebelum  menambahkan atribut spesifik Student.\n",
        "\n",
        "Kode Python:"
      ],
      "metadata": {
        "id": "g90QOOdOUoV0"
      }
    },
    {
      "cell_type": "code",
      "source": [
        "#Kelas Induk\n",
        "class Person:\n",
        "  def __init__(self, nama, usia):\n",
        "    print(f\"(Memanggil __init__ Person untuk '{nama}')\")\n",
        "    self.nama = nama\n",
        "    self.usia = usia\n",
        "\n",
        "  def perkenalkan_diri(self):\n",
        "    print(f\"Halo, nama saya {self.nama} usia saya {self.usia} tahun.\")\n",
        "\n",
        "#Kelas ANak (Mewarisi dari Person)\n",
        "class Student (Person):\n",
        "  def __init__(self, nama, usia, student_id, jurusan):\n",
        "    print(f\"(Memanggil __init__ Sudent untuk '{nama}')\")\n",
        "    #Memanggil __init__ dari kelas Person untuk inisialisasi nama dan usia\n",
        "    super().__init__(nama, usia)\n",
        "    #Menambahkan atribut khusus Student\n",
        "    self.student_id = student_id\n",
        "    self.jurusan = jurusan\n",
        "    print(f\"(Inisialisasi atribut Student selesai untuk '{nama}')\")\n",
        "\n",
        "\n",
        "  def info_akademik(self):\n",
        "    print(f\"ID Mahasiswa: {self.student_id}\")\n",
        "    print(f\"Jurusan: {self.jurusan}\")\n",
        "\n",
        "    #Override perkenalkan diri untuk menambahkan info Student\n",
        "    def perkenalkan_diri(self):\n",
        "      super().perkenalkan_diri()\n",
        "      print(f\"Saya adalah mahasiswa dengan ID {self.student_id}, jurusan{self.jurusan}.\")\n",
        "\n",
        "# --- Kode Utama ---\n",
        "if __name__ == \"__main__\":\n",
        "  #Membuat objek Person\n",
        "  dosen = Person (\"Pak Anton\", 45)\n",
        "  print(\"-\" * 20)\n",
        "  dosen.perkenalkan_diri()\n",
        "  print(\"\\n\" + \"-\" * 20 + \"\\n\")\n",
        "\n",
        "  #Membuat objek Student\n",
        "  mahasiswa = Student(\"Dewi\", 20, \"MHS001\", \"Teknik Komputer\")\n",
        "  print (\"-\" * 20)\n",
        "  mahasiswa.perkenalkan_diri() #Panggil versi override di Student\n",
        "  mahasiswa.info_akademik() #Panggil metode khusus Student\n",
        "  #Cek atribut yang diwarisi\n",
        "  print (f\"\\nUsia mahasiswa {mahasiswa.nama}: {mahasiswa.usia}\") #usia diwarisi dari Person)"
      ],
      "metadata": {
        "id": "kmU8b79BUvIr",
        "outputId": "5c5c059b-cd35-42fb-fba6-7d2ff1512805",
        "colab": {
          "base_uri": "https://localhost:8080/"
        }
      },
      "execution_count": null,
      "outputs": [
        {
          "output_type": "stream",
          "name": "stdout",
          "text": [
            "(Memanggil __init__ Person untuk 'Pak Anton')\n",
            "--------------------\n",
            "Halo, nama saya Pak Anton usia saya 45 tahun.\n",
            "\n",
            "--------------------\n",
            "\n",
            "(Memanggil __init__ Sudent untuk 'Dewi')\n",
            "(Memanggil __init__ Person untuk 'Dewi')\n",
            "(Inisialisasi atribut Student selesai untuk 'Dewi')\n",
            "--------------------\n",
            "Halo, nama saya Dewi usia saya 20 tahun.\n",
            "ID Mahasiswa: MHS001\n",
            "Jurusan: Teknik Komputer\n",
            "\n",
            "Usia mahasiswa Dewi: 20\n"
          ]
        }
      ]
    },
    {
      "cell_type": "markdown",
      "source": [
        "Observasi: Perhatikan pesan print yang menunjukkan urutan pemanggilan __init__. Amati  bagaimana super().__init__(nama, usia) dalam Student memastikan bahwa nama dan usia diinisialisasi  oleh konstruktor Person sebelum atribut student_id dan jurusan ditambahkan. Bandingkan output  perkenalkan_diri() dari objek dosen dan mahasiswa."
      ],
      "metadata": {
        "id": "aUsGIBKgZE4l"
      }
    },
    {
      "cell_type": "markdown",
      "source": [
        "## Praktikum 03: Method Overriding dan super()\n",
        "Tujuan: Mengganti (override) metode dari kelas induk di kelas anak dan menggunakan super()  untuk memanggil implementasi asli dari induk.\n",
        "\n",
        "Penjelasan Kelas Diagram:\n",
        "• Kelas Hewan:\n",
        "o Atribut Publik (+):\n",
        "▪ nama: str: Menyimpan nama hewan.\n",
        "o Metode Publik (+):\n",
        "▪ __init__(nama: str) : void: Konstruktor untuk inisialisasi nama.\n",
        "▪ bersuara() : void: Metode dasar untuk hewan bersuara.\n",
        "▪ tampilkan_info() : void: Metode dasar untuk menampilkan info hewan.\n",
        "• Kelas Kucing (Mewarisi dari Hewan):\n",
        "o Atribut Publik (+):\n",
        "▪ ras: str: Menyimpan ras kucing. (Atribut nama diwarisi).\n",
        "o Metode Publik (+):\n",
        "▪ __init__(nama: str, ras: str) : void: Konstruktor Kucing. Memanggil  super().__init__(nama) untuk inisialisasi nama dari Hewan, lalu inisialisasi ras. ▪ bersuara() : void: Override metode bersuara dari Hewan untuk memberikan  implementasi suara kucing yang spesifik (\"Meow!\").\n",
        "▪ tampilkan_info() : void: Override metode tampilkan_info dari Hewan. Metode ini  memanggil super().tampilkan_info() untuk menjalankan implementasi asli dari  Hewan, kemudian menambahkan informasi spesifik tentang ras kucing.\n",
        "Diagram ini menunjukkan bagaimana kelas anak (Kucing) dapat mengganti (override) metode  (bersuara, tampilkan_info) yang diwarisi dari kelas induk (Hewan). Kelas Kucing menyediakan  perilakunya sendiri untuk metode-metode ini. Penggunaan super().tampilkan_info() dalam metode  tampilkan_info yang di-override menunjukkan cara memperluas fungsionalitas induk, bukan  hanya menggantinya sepenuhnya.\n",
        "\n",
        "\n",
        "Kode Program:\n"
      ],
      "metadata": {
        "id": "6cPUa7KYbBSY"
      }
    },
    {
      "cell_type": "code",
      "source": [
        "#Kelas Induk\n",
        "class Hewan:\n",
        "  def __init__(self, nama):\n",
        "    self.nama = nama\n",
        "\n",
        "  def bersuara(self):\n",
        "    print(f\"{self.nama} mengeluarkan suara generik.\")\n",
        "\n",
        "  def tampilkan_info(self):\n",
        "    print(f\"Ini adalah hewan bernama {self.nama}.\")\n",
        "#Kelas Anak\n",
        "class Kucing(Hewan):\n",
        "  def __init__(self, nama, ras):\n",
        "    super().__init__(nama) #Panggil init induk\n",
        "    self.ras = ras\n",
        "\n",
        "  #Method Overriding untuk bersuara\n",
        "  def bersuara(self):\n",
        "    print (f\"{self.nama} (Kucing) mengeong: Meow!\")\n",
        "\n",
        "  #Method Overriding untuk tampilkan_info, memanggil versi induk\n",
        "  def tampilkan_info(self):\n",
        "    super().tampilkan_info() #Panggil implementasi dari Hewan\n",
        "    print(f\"Ini adalah kucing ras {self.ras}.\") #Tambahkan info spesifik\n",
        "\n",
        "# --Kode Utama--\n",
        "if __name__ == \"__main__\":\n",
        "  hewan_umum = Hewan (\"Makhluk\")\n",
        "  kucing_persia = Kucing(\"Puspus\", \"Persia\")\n",
        "\n",
        "  print (\"Info Hewan Umum:\")\n",
        "  hewan_umum.tampilkan_info()\n",
        "  hewan_umum.bersuara()\n",
        "  print (\"-\" * 20)\n",
        "\n",
        "  print (\"Info Kucing Persia:\")\n",
        "  kucing_persia.tampilkan_info() #akan memanggil versi kuing\n",
        "  kucing_persia.bersuara() #akan memanggil versi kucing"
      ],
      "metadata": {
        "colab": {
          "base_uri": "https://localhost:8080/"
        },
        "id": "JcYufgUTbJny",
        "outputId": "ba635b19-af87-45b2-c268-5591a635757b"
      },
      "execution_count": null,
      "outputs": [
        {
          "output_type": "stream",
          "name": "stdout",
          "text": [
            "Info Hewan Umum:\n",
            "Ini adalah hewan bernama Makhluk.\n",
            "Makhluk mengeluarkan suara generik.\n",
            "--------------------\n",
            "Info Kucing Persia:\n",
            "Ini adalah hewan bernama Puspus.\n",
            "Ini adalah kucing ras Persia.\n",
            "Puspus (Kucing) mengeong: Meow!\n"
          ]
        }
      ]
    },
    {
      "cell_type": "markdown",
      "source": [
        "Observasi: Bandingkan output dari bersuara() dan tampilkan_info() saat dipanggil pada objek  hewan_umum dan kucing_persia. Perhatikan bagaimana super().tampilkan_info() di dalam  Kucing.tampilkan_info() memungkinkan penambahan fungsionalitas tanpa menghilangkan  fungsionalitas asli dari induk."
      ],
      "metadata": {
        "id": "BggU3nXgeN_c"
      }
    },
    {
      "cell_type": "markdown",
      "source": [
        "## Praktikum 04: Multi-level Inheritance (Pewarisan Bertingkat)\n",
        "Tujuan: Memahami bagaimana sebuah kelas dapat mewarisi dari kelas anak lain, membentuk  rantai pewarisan (A -> B -> C).\n",
        "\n",
        "Kelas Organisme:\n",
        "o Atribut Publik (+):\n",
        "▪ nama: str: Menyimpan nama organisme.\n",
        "o Metode Publik (+):\n",
        "▪ __init__(nama: str) : void: Konstruktor untuk inisialisasi nama.\n",
        "▪ bernapas() : void: Metode untuk simulasi pernapasan.\n",
        "• Kelas Hewan (Mewarisi dari Organisme):\n",
        "o Atribut Publik (+):\n",
        "▪ jenis_makanan: str: Menyimpan jenis makanan hewan. (Atribut nama diwarisi dari Organisme).\n",
        "o Metode Publik (+):\n",
        "▪ __init__(nama: str, jenis_makanan: str) : void: Konstruktor, memanggil  super().__init__() untuk inisialisasi nama dari Organisme, lalu inisialisasi  jenis_makanan.\n",
        "▪ bergerak() : void: Metode untuk simulasi pergerakan. (Metode bernapas diwarisi).\n",
        "• Kelas Mamalia (Mewarisi dari Hewan):\n",
        "o Atribut Publik (+):\n",
        "▪ jumlah_kaki: int: Menyimpan jumlah kaki mamalia. (Atribut nama dan  jenis_makanan diwarisi).\n",
        "o Metode Publik (+):\n",
        "▪ __init__(nama: str, jenis_makanan: str, jumlah_kaki: int) : void: Konstruktor,  memanggil super().__init__() untuk inisialisasi nama dan jenis_makanan dari  \n",
        "Hewan, lalu inisialisasi jumlah_kaki.\n",
        "▪ menyusui() : void: Metode spesifik untuk mamalia. (Metode bernapas dan  bergerak diwarisi).\n",
        "Diagram ini menunjukkan hierarki pewarisan bertingkat (Organisme <- Hewan <- Mamalia), di  mana Mamalia mewarisi fitur dari Hewan, yang pada gilirannya mewarisi fitur dari Organisme.  Panah (<|--) menunjukkan arah pewarisan (dari anak ke induk).\n",
        "Kode Program:\n"
      ],
      "metadata": {
        "id": "C0Jfyr5YeO3C"
      }
    },
    {
      "cell_type": "code",
      "source": [
        "#Kelas Induk Level 1\n",
        "class Organisme:\n",
        "  def __init__(self, nama):\n",
        "    self.nama = nama\n",
        "    print (f\"Organisme '{self.nama} diciptakan.\")\n",
        "\n",
        "  def bernapas(self): #Fixed: Indentation Corrected\n",
        "    print (f\"{self.nama} sedang bernapas.\")\n",
        "#Kelas Anak level 1 (Mewarisi dari Organisme)\n",
        "class Hewan(Organisme):\n",
        "  def __init__(self, nama, jenis_makanan):\n",
        "    super().__init__(nama) #Panggil init Organisme\n",
        "    self.jenis_makanan = jenis_makanan\n",
        "    print (f\"Hewan '{self.nama}' adalah {self.jenis_makanan}.\")\n",
        "\n",
        "  def bergerak(self):#Fixed: Indentation Corrected\n",
        "    print (f\"{self.nama} sedang bergerak.\")\n",
        "\n",
        "#Kelas Anak Level 2 (Mewarisi dari Hewan)\n",
        "class Mamalia (Hewan):\n",
        "  def __init__(self, nama, jenis_makanan, jumlah_kaki):\n",
        "    super().__init__(nama, jenis_makanan) #Panggil init Hewan\n",
        "    self.jumlah_kaki = jumlah_kaki\n",
        "    print (f\"Mamalia '{self.nama}' memiliki {self.jumlah_kaki} kaki.\")\n",
        "\n",
        "  def menyusui(self):\n",
        "    print (f\"{self.nama} sedang menyusui.\")\n",
        "\n",
        "# --- Kode Utama ---\n",
        "if __name__ == \"__main__\":\n",
        "  kucing = Mamalia (\"Kucing Persia\", \"Karnivora\", 4)\n",
        "  print (\"-\" * 20)\n",
        "\n",
        "  # Memanggil metode dari kelas Mamalia\n",
        "  kucing.menyusui()\n",
        "\n",
        "  #Memanggil metode yang diwarisi dari kelas Hewan\n",
        "  kucing.bergerak()\n",
        "  print(f\"jenis makanan : {kucing.jenis_makanan}\")\n",
        "\n",
        "  #Memanggil metode yang diwarisi dari kelas Organisme\n",
        "  kucing.bernapas()\n",
        "  print(f\"Nama Organisme: {kucing.nama}\")"
      ],
      "metadata": {
        "id": "qbY5y-62F2QR",
        "outputId": "f1de722c-8fca-4126-d87e-4fcbee819c68",
        "colab": {
          "base_uri": "https://localhost:8080/"
        }
      },
      "execution_count": 6,
      "outputs": [
        {
          "output_type": "stream",
          "name": "stdout",
          "text": [
            "Organisme 'Kucing Persia diciptakan.\n",
            "Hewan 'Kucing Persia' adalah Karnivora.\n",
            "Mamalia 'Kucing Persia' memiliki 4 kaki.\n",
            "--------------------\n",
            "Kucing Persia sedang menyusui.\n",
            "Kucing Persia sedang bergerak.\n",
            "jenis makanan : Karnivora\n",
            "Kucing Persia sedang bernapas.\n",
            "Nama Organisme: Kucing Persia\n"
          ]
        }
      ]
    },
    {
      "cell_type": "markdown",
      "source": [
        "\n",
        "Observasi: Perhatikan bagaimana objek kucing (dari kelas Mamalia) dapat mengakses metode  dan atribut dari kelas Hewan dan Organisme karena adanya rantai pewarisan. Lacak urutan  pemanggilan konstruktor (__init__) melalui super().\n"
      ],
      "metadata": {
        "id": "5AnFGz4SMPzF"
      }
    },
    {
      "cell_type": "markdown",
      "source": [
        "## Praktikum 05: Hierarchical Inheritance\n",
        "Tujuan: Mendemonstrasikan bagaimana satu kelas induk (Pegawai) dapat diwarisi oleh  beberapa kelas anak yang berbeda (Manager, StafTeknis) untuk merepresentasikan spesialisasi  yang berbeda dari konsep dasar yang sama.\n",
        "Kelas Pegawai:\n",
        "o Atribut Publik (+): nama, id_pegawai, gaji_pokok.\n",
        "o Metode Publik (+): __init__(), hitung_gaji() (versi dasar), tampilkan_info() (versi dasar). • Kelas Manager (Mewarisi dari Pegawai):\n",
        "o Atribut Publik (+): tunjangan_jabatan (Atribut lain diwarisi).\n",
        "o Metode Publik (+): __init__() (memanggil super), hitung_gaji() (override),  tampilkan_info() (override, memanggil super).\n",
        "• Kelas StafTeknis (Mewarisi dari Pegawai):\n",
        "o Atribut Publik (+): keahlian, bonus_keahlian (Atribut lain diwarisi).\n",
        "o Metode Publik (+): __init__() (memanggil super), hitung_gaji() (override),  tampilkan_info() (override, memanggil super).\n",
        "Diagram ini menunjukkan kelas Pegawaisebagai kelas induk, dan Managerserta StafTeknis sebagai  kelas anak yang mewarisi langsung dari Pegawai, menggambarkan struktur pewarisan hierarkis.\n",
        "\n",
        "Kode Program:\n"
      ],
      "metadata": {
        "id": "IHlF82S9MR6a"
      }
    },
    {
      "cell_type": "code",
      "source": [
        "import locale\n",
        "\n",
        "try:\n",
        "  locale.setlocale(locale.LC_ALL, 'id_ID.UTF-8') #Set locale\n",
        "except locale.Error:\n",
        "  locale.setlocale(locale.LC_ALL, '') #Set locale default\n",
        "  print(\"Gagal mengatur locale. Menggunakan locale default.\")\n",
        "#Fungsi helper untuk format mata uang\n",
        "def format_rupiah(angka):\n",
        "  return locale.currency(angka, grouping=True, symbol='Rp')\n",
        "\n",
        "#Kelas Induk\n",
        "class Pegawai:\n",
        "    def __init__(self, nama, id_pegawai, gaji_pokok):\n",
        "        self.nama = nama\n",
        "        self.id_pegawai = id_pegawai\n",
        "        self.gaji_pokok = gaji_pokok\n",
        "\n",
        "    def hitung_gaji(self):\n",
        "        #gaji dasar, bisa di-override\n",
        "        return self.gaji_pokok\n",
        "\n",
        "    def tampilkan_info(self):\n",
        "        print(f\"ID: {self.id_pegawai}, Nama: {self.nama}\")\n",
        "        print(f\"Gaji Pokok: {format_rupiah(self.gaji_pokok)}\")\n",
        "\n",
        "#Kelas Anak 1\n",
        "class Manager(Pegawai):\n",
        "    def __init__(self, nama, id_pegawai, gaji_pokok, tunjangan_jabatan):\n",
        "        super().__init__(nama, id_pegawai, gaji_pokok)\n",
        "        self.tunjangan_jabatan = tunjangan_jabatan\n",
        "\n",
        "    #Override hitung_gaji\n",
        "    def hitung_gaji(self):\n",
        "        gaji_total = super().hitung_gaji() + self.tunjangan_jabatan\n",
        "        return gaji_total\n",
        "\n",
        "    #Override tampilkan_info\n",
        "    def tampilkan_info(self):\n",
        "        print(\"--- Info Manager ---\")\n",
        "        super().tampilkan_info() #Panggil info dasar dari Pegawai\n",
        "        print(f\" Tunjangan Jabatan: {format_rupiah(self.tunjangan_jabatan)}\")\n",
        "        print(f\"Gaji Total: {format_rupiah(self.hitung_gaji())}\")\n",
        "\n",
        "#Kelas Anak 2\n",
        "class StafTeknis(Pegawai):\n",
        "    def __init__(self, nama, id_pegawai, gaji_pokok, keahlian, bonus_keahlian):\n",
        "        super().__init__(nama, id_pegawai, gaji_pokok)\n",
        "        self.keahlian = keahlian\n",
        "        self.bonus_keahlian = bonus_keahlian\n",
        "\n",
        "    #Override hitung_gaji\n",
        "    def hitung_gaji(self):\n",
        "        gaji_total = super().hitung_gaji() + self.bonus_keahlian\n",
        "        return gaji_total\n",
        "\n",
        "    #Override tampilkan_info(memanggil versi induk)\n",
        "    def tampilkan_info(self):\n",
        "        print(\"--- Info Staf Teknis ---\")\n",
        "        super().tampilkan_info() #Panggil info dasar dari Pegawai\n",
        "        print(f\" Keahlian: {self.keahlian}\")\n",
        "        print(f\" Bonus Keahlian: {format_rupiah(self.bonus_keahlian)}\")\n",
        "        print(f\"Total Gaji: {format_rupiah(self.hitung_gaji())}\")\n",
        "\n",
        "# --- Kode Utama ---\n",
        "if __name__ == \"__main__\":\n",
        "    manager1 = Manager(\"Budi Santoso\", \"M001\", 10000000, 5000000)\n",
        "    staf1 = StafTeknis(\"Citra Lestari\", \"S001\", 7000000, \"Python Prgramming\", 1500000)\n",
        "    pegawai_baru = Pegawai(\"Rian\", \"P005\", 5000000) #Pegawai biasa\n",
        "    print (\"Menampilkan Info Pegawai:\")\n",
        "    manager1.tampilkan_info()\n",
        "    print (\"-\" * 30)\n",
        "    staf1.tampilkan_info()\n",
        "    print (\"-\" * 30)\n",
        "\n",
        "    print(\"---Info Pegawai Baru---\")\n",
        "    pegawai_baru.tampilkan_info()\n",
        "    print(f\"Total Gaji: {format_rupiah(pegawai_baru.hitung_gaji())}\") #Memanggil versi Pegawai\n",
        "    print (\"-\" * 30)"
      ],
      "metadata": {
        "id": "MLL0xxRqMa3A",
        "outputId": "e2ee57fa-a799-462e-9129-3bb7b1ebc95d",
        "colab": {
          "base_uri": "https://localhost:8080/"
        }
      },
      "execution_count": 18,
      "outputs": [
        {
          "output_type": "stream",
          "name": "stdout",
          "text": [
            "Gagal mengatur locale. Menggunakan locale default.\n",
            "Menampilkan Info Pegawai:\n",
            "--- Info Manager ---\n",
            "ID: M001, Nama: Budi Santoso\n",
            "Gaji Pokok: $10,000,000.00\n",
            " Tunjangan Jabatan: $5,000,000.00\n",
            "Gaji Total: $15,000,000.00\n",
            "------------------------------\n",
            "--- Info Staf Teknis ---\n",
            "ID: S001, Nama: Citra Lestari\n",
            "Gaji Pokok: $7,000,000.00\n",
            " Keahlian: Python Prgramming\n",
            " Bonus Keahlian: $1,500,000.00\n",
            "Total Gaji: $8,500,000.00\n",
            "------------------------------\n",
            "---Info Pegawai Baru---\n",
            "ID: P005, Nama: Rian\n",
            "Gaji Pokok: $5,000,000.00\n",
            "Total Gaji: $5,000,000.00\n",
            "------------------------------\n"
          ]
        }
      ]
    },
    {
      "cell_type": "markdown",
      "source": [
        "Observasi: Perhatikan bagaimana kelas Manager dan StafTeknis keduanya mewarisi dari kelas  Pegawai yang sama. Masing-masing menambahkan atribut spesifik (tunjangan_jabatan untuk  Manager, keahlian dan bonus_keahlian untuk StafTeknis) dan meng-override metode hitung_gaji dan  tampilkan_info untuk mencerminkan peran mereka yang berbeda, sambil tetap memanfaatkan  fungsionalitas dasar dari Pegawai melalui super()."
      ],
      "metadata": {
        "id": "mRcIUrlCWDgJ"
      }
    },
    {
      "cell_type": "markdown",
      "source": [
        "## Praktikum 06: Memeriksa Tipe Instance dengan instance()\n",
        "Tujuan: Menggunakan fungsi isinstance() untuk memeriksa apakah sebuah objek merupakan  instance dari kelas tertentu atau dari kelas turunannya dalam hierarki pewarisan.\n",
        "\n",
        "Penjelasan Kelas Diagram:\n",
        "• Kelas BentukGeometri:\n",
        "o Atribut Publik (+):\n",
        "▪ nama: str: Menyimpan nama bentuk geometri.\n",
        "o Metode Publik (+):\n",
        "▪ __init__(nama_bentuk: str) : void: Konstruktor untuk inisialisasi nama.\n",
        "▪ tampilkan_nama() : void: Metode untuk menampilkan nama bentuk.\n",
        "▪ hitung_luas() : void: Metode dasar (generik) untuk menghitung luas,  diharapkan di-override oleh kelas anak.\n",
        "• Kelas PersegiPanjang (Mewarisi dari BentukGeometri):\n",
        "o Atribut Publik (+):\n",
        "▪ panjang: float: Menyimpan panjang persegi panjang.\n",
        "▪ lebar: float: Menyimpan lebar persegi panjang. (Atribut nama diwarisi). o Metode Publik (+):\n",
        "▪ __init__(panjang: float, lebar: float) : void: Konstruktor, memanggil  super().__init__() untuk set nama spesifik, lalu inisialisasi panjang dan lebar. ▪ hitung_luas() : void: Override metode induk untuk memberikan implementasi  perhitungan luas persegi panjang. (Metode tampilkan_nama diwarisi).\n",
        "• Kelas Segitiga (Mewarisi dari BentukGeometri):\n",
        "o Atribut Publik (+):\n",
        "▪ alas: float: Menyimpan alas segitiga.\n",
        "▪ tinggi: float: Menyimpan tinggi segitiga. (Atribut nama diwarisi).\n",
        "o Metode Publik (+):\n",
        "▪ __init__(alas: float, tinggi: float) : void: Konstruktor, memanggil super().__init__() untuk set nama spesifik, lalu inisialisasi alas dan tinggi.\n",
        "▪ hitung_luas() : void: Override metode induk untuk memberikan implementasi  perhitungan luas segitiga. (Metode tampilkan_nama diwarisi).\n",
        "Diagram ini identik dengan diagram untuk Praktikum 5 karena menggunakan struktur kelas  yang sama. Praktikum 6 berfokus pada penggunaan fungsi isinstance() di luar definisi kelas  untuk memeriksa tipe objek yang dibuat dari hierarki kelas ini. Fungsi proses_bentuk() yang  menggunakan isinstance() tidak termasuk dalam diagram kelas karena ia bukan metode dari  kelas-kelas tersebut.\n",
        "\n",
        "Kode Program:"
      ],
      "metadata": {
        "id": "hnytNF4PWEt3"
      }
    },
    {
      "cell_type": "code",
      "source": [
        "class BentukGeometri:\n",
        "  def __init__(self, nama_bentuk):\n",
        "    self.nama = nama_bentuk\n",
        "  def tampilkan_nama(self):\n",
        "    print (f\"Ini adalah bentuk: {self.nama}\")\n",
        "  def hitung_luas(self):\n",
        "    print(f\"Luas {self.nama} tidak dapat dihitunh (generik).\")\n",
        "\n",
        "class PersegiPanjang(BentukGeometri):\n",
        "  def __init__(self, panjang, lebar):\n",
        "    super().__init__(\"Persegi Panjang\")\n",
        "    self.panjang = panjang\n",
        "    self.lebar = lebar\n",
        "  def hitung_luas(self):\n",
        "    luas = self.panjang * self.lebar\n",
        "    print(f\"Luas {self.nama} : {luas}\")\n",
        "\n",
        "class Segitiga(BentukGeometri):\n",
        "  def __init__(self, alas, tinggi):\n",
        "    super().__init__(\"Segitiga\")\n",
        "    self.alas = alas\n",
        "    self.tinggi = tinggi\n",
        "  def hitung_luas(self):\n",
        "    luas = 0.5 * self.alas * self.tinggi\n",
        "    print (f\" Luas {self.nama} : {luas}\")\n",
        "\n",
        "def proses_bentuk(bentuk):\n",
        "    print(f\"\\nMemproses objek: {type (bentuk)}\")\n",
        "\n",
        "    if isinstance(bentuk, BentukGeometri):\n",
        "      bentuk.tampilkan_nama()\n",
        "      print(\"Objek ini adalah instance dari BentukGeometri (atau turunannya).\")\n",
        "\n",
        "    if isinstance(bentuk, PersegiPanjang):\n",
        "      print(\"-> Objek ini juga instance dari PersegiPanjang.\")\n",
        "    elif isinstance(bentuk, Segitiga):\n",
        "      print(\"-> Objek ini juga instance dari Segitiga.\")\n",
        "    else:\n",
        "      print(\"Objek ini BUKAN instance dari BentukGeometri\")\n",
        "\n",
        "    if isinstance(bentuk, str):\n",
        "      print(\"Objek ini adalah string.\")\n",
        "\n",
        "# --- Kode Utama ---\n",
        "if __name__ == \"__main__\":\n",
        "  pp = PersegiPanjang(4, 3)\n",
        "  seg = Segitiga(5, 2)\n",
        "  bg = BentukGeometri (\"Lingkaran\") #Contoh lain\n",
        "  teks = \"Ini string\"\n",
        "\n",
        "  daftar_objek = [pp, seg, bg, teks]\n",
        "\n",
        "  for objek in daftar_objek:\n",
        "    proses_bentuk(objek)\n",
        "if __name__ == \"__main__\":\n",
        "  pp = PersegiPanjang(4, 3)\n",
        "  seg = Segitiga(5, 2)\n",
        "  bg = BentukGeometri (\"Lingkaran\") #Contoh lain\n",
        "  teks = \"Ini string\"\n",
        "\n",
        "  daftar_objek = [pp, seg, bg, teks]\n",
        "\n",
        "  for objek in daftar_objek:\n",
        "    proses_bentuk(objek)"
      ],
      "metadata": {
        "id": "lcLhuZToWNx1",
        "outputId": "e72d3e2d-5870-4312-a527-be25a0c32ed7",
        "colab": {
          "base_uri": "https://localhost:8080/"
        }
      },
      "execution_count": 27,
      "outputs": [
        {
          "output_type": "stream",
          "name": "stdout",
          "text": [
            "\n",
            "Memproses objek: <class '__main__.PersegiPanjang'>\n",
            "Ini adalah bentuk: Persegi Panjang\n",
            "Objek ini adalah instance dari BentukGeometri (atau turunannya).\n",
            "-> Objek ini juga instance dari PersegiPanjang.\n",
            "\n",
            "Memproses objek: <class '__main__.Segitiga'>\n",
            "Ini adalah bentuk: Segitiga\n",
            "Objek ini adalah instance dari BentukGeometri (atau turunannya).\n",
            "-> Objek ini juga instance dari Segitiga.\n",
            "\n",
            "Memproses objek: <class '__main__.BentukGeometri'>\n",
            "Ini adalah bentuk: Lingkaran\n",
            "Objek ini adalah instance dari BentukGeometri (atau turunannya).\n",
            "Objek ini BUKAN instance dari BentukGeometri\n",
            "\n",
            "Memproses objek: <class 'str'>\n",
            "Objek ini BUKAN instance dari BentukGeometri\n",
            "Objek ini adalah string.\n",
            "\n",
            "Memproses objek: <class '__main__.PersegiPanjang'>\n",
            "Ini adalah bentuk: Persegi Panjang\n",
            "Objek ini adalah instance dari BentukGeometri (atau turunannya).\n",
            "-> Objek ini juga instance dari PersegiPanjang.\n",
            "\n",
            "Memproses objek: <class '__main__.Segitiga'>\n",
            "Ini adalah bentuk: Segitiga\n",
            "Objek ini adalah instance dari BentukGeometri (atau turunannya).\n",
            "-> Objek ini juga instance dari Segitiga.\n",
            "\n",
            "Memproses objek: <class '__main__.BentukGeometri'>\n",
            "Ini adalah bentuk: Lingkaran\n",
            "Objek ini adalah instance dari BentukGeometri (atau turunannya).\n",
            "Objek ini BUKAN instance dari BentukGeometri\n",
            "\n",
            "Memproses objek: <class 'str'>\n",
            "Objek ini BUKAN instance dari BentukGeometri\n",
            "Objek ini adalah string.\n"
          ]
        }
      ]
    },
    {
      "cell_type": "markdown",
      "source": [
        "Observasi: Perhatikan output dari isinstance(). isinstance(pp, PersegiPanjang) dan  isinstance(pp, BentukGeometri) keduanya True. isinstance(bg, BentukGeometri) True, tetapi isinstance(bg, PersegiPanjang) False. isinstance(teks,  BentukGeometri) False. Pahami bagaimana isinstance() memeriksa seluruh rantai  pewarisan."
      ],
      "metadata": {
        "id": "KK6fT3Hle8NN"
      }
    },
    {
      "cell_type": "markdown",
      "source": [
        "## Penugasan\n",
        "1. Kumpulkan Laporan Praktikum dari jobsheet ini dalam bentuk Microsoft word sesuai  dengan format jobsheet praktikum dan dikumpulkan di web LMS. (JANGAN DALAM  BENTUK PDF)\n",
        "2. Kumpulkan luaran kode praktikum dalam bentuk ipynb yang sudah diunggah pada akun  github masing-masing. Lampirkan tautan github yang sudah di unggah melalui laman  LMS.\n",
        "3. Buat Program Hierarki Kelas Mahasiswa: Implementasikan hierarki kelas dalam  Python serta KELAS DIAGRAM sesuai dengan spesifikasi berikut:\n",
        "• Kelas Induk: Mahasiswa\n",
        "o Memiliki atribut: nama (string), nim (string), ipk (float).\n",
        "o Memiliki konstruktor (__init__) yang menerima nama, nim, dan ipk untuk  inisialisasi atribut.\n",
        "o Memiliki metode tampilkan_info(self) yang mencetak informasi dasar mahasiswa  (nama, nim, ipk). Contoh output:  \n",
        "o Nama: [Nama Mahasiswa]\n",
        "o NIM: [NIM Mahasiswa]\n",
        "o IPK: [IPK Mahasiswa]\n",
        "o Memiliki metode hitung_predikat(self) yang mencetak predikat umum berdasarkan  IPK (contoh sederhana, Anda boleh memodifikasi rentangnya):  \n",
        "▪ IPK >= 3.5: \"Dengan Pujian\"\n",
        "▪ IPK >= 3.0: \"Sangat Memuaskan\"\n",
        "▪ IPK >= 2.5: \"Memuaskan\"\n",
        "▪ IPK < 2.5: \"Cukup\"\n",
        "• Kelas Anak 1: MahasiswaSarjana (Mewarisi dari Mahasiswa)  \n",
        "o Memiliki atribut tambahan: semester (integer), sks_lulus (integer).\n",
        "o Memiliki konstruktor (__init__) yang menerima nama, nim, ipk, semester, dan  sks_lulus. Gunakan super().__init__() untuk meneruskan nama, nim, dan ipk ke  konstruktor kelas Mahasiswa.\n",
        "o Override metode tampilkan_info(self): Panggil dulu super().tampilkan_info() untuk  menampilkan info dasar, lalu tambahkan informasi Semester dan SKS Lulus.  Contoh output tambahan:  \n",
        "o Semester: [Semester]\n",
        "o SKS Lulus: [Jumlah SKS]\n",
        "• Kelas Anak 2: MahasiswaMagister (Mewarisi dari Mahasiswa)  \n",
        "o Memiliki atribut tambahan: judul_tesis (string), nama_pembimbing (string). o Memiliki konstruktor (__init__) yang menerima nama, nim, ipk, judul_tesis, dan  nama_pembimbing. Gunakan super().__init__() untuk meneruskan nama, nim, dan ipk. o Override metode tampilkan_info(self): Panggil dulu super().tampilkan_info(), lalu  tambahkan informasi Judul Tesis dan Pembimbing. Contoh output tambahan:  o Judul Tesis: [Judul Tesis Mahasiswa]\n",
        "o Pembimbing: [Nama Pembimbing]\n",
        "o (Opsional) Anda bisa meng-override hitung_predikat jika ada aturan predikat yang  berbeda untuk Magister."
      ],
      "metadata": {
        "id": "aewk2ND7kF9D"
      }
    },
    {
      "cell_type": "code",
      "source": [
        "# Kelas Induk\n",
        "class Mahasiswa:\n",
        "    def __init__(self, nama, nim, ipk):\n",
        "        self.nama = nama\n",
        "        self.nim = nim\n",
        "        self.ipk = ipk\n",
        "\n",
        "    def tampilkan_info(self):\n",
        "        print(f\"Nama: {self.nama}\")\n",
        "        print(f\"NIM: {self.nim}\")\n",
        "        print(f\"IPK: {self.ipk}\")\n",
        "\n",
        "    def hitung_predikat(self):\n",
        "        if self.ipk >= 3.5:\n",
        "            print(\"Predikat: Dengan Pujian\")\n",
        "        elif self.ipk >= 3.0:\n",
        "            print(\"Predikat: Sangat Memuaskan\")\n",
        "        elif self.ipk >= 2.5:\n",
        "            print(\"Predikat: Memuaskan\")\n",
        "        else:\n",
        "            print(\"Predikat: Cukup\")\n",
        "\n",
        "\n",
        "# Kelas Anak 1\n",
        "class MahasiswaSarjana(Mahasiswa):\n",
        "    def __init__(self, nama, nim, ipk, semester, sks_lulus):\n",
        "        super().__init__(nama, nim, ipk)\n",
        "        self.semester = semester\n",
        "        self.sks_lulus = sks_lulus\n",
        "\n",
        "    def tampilkan_info(self):\n",
        "        super().tampilkan_info()\n",
        "        print(f\"Semester: {self.semester}\")\n",
        "        print(f\"SKS Lulus: {self.sks_lulus}\")\n",
        "\n",
        "\n",
        "# Kelas Anak 2\n",
        "class MahasiswaMagister(Mahasiswa):\n",
        "    def __init__(self, nama, nim, ipk, judul_tesis, nama_pembimbing):\n",
        "        super().__init__(nama, nim, ipk)\n",
        "        self.judul_tesis = judul_tesis\n",
        "        self.nama_pembimbing = nama_pembimbing\n",
        "\n",
        "    def tampilkan_info(self):\n",
        "        super().tampilkan_info()\n",
        "        print(f\"Judul Tesis: {self.judul_tesis}\")\n",
        "        print(f\"Pembimbing: {self.nama_pembimbing}\")\n",
        "\n",
        "    # Opsional: override predikat jika ada aturan khusus\n",
        "    def hitung_predikat(self):\n",
        "        if self.ipk >= 3.7:\n",
        "            print(\"Predikat: Dengan Pujian (Magister)\")\n",
        "        elif self.ipk >= 3.3:\n",
        "            print(\"Predikat: Sangat Memuaskan (Magister)\")\n",
        "        elif self.ipk >= 3.0:\n",
        "            print(\"Predikat: Memuaskan (Magister)\")\n",
        "        else:\n",
        "            print(\"Predikat: Cukup (Magister)\")\n",
        "\n",
        "\n",
        "if __name__ == \"__main__\":\n",
        "    print(\"=== Data Mahasiswa Sarjana ===\")\n",
        "    sarjana = MahasiswaSarjana(\"Anisa Farcha Noviani\", \"4.33.24.1.01\", 3.85, 6, 110)\n",
        "    sarjana.tampilkan_info()\n",
        "    sarjana.hitung_predikat()\n",
        "\n",
        "    print(\"\\n=== Data Mahasiswa Magister ===\")\n",
        "    magister = MahasiswaMagister(\"Dhevina Chintya\", \"3.33.24.1.08\", 3.75, \"Implementasi Algoritma CNN untuk Deteksi Penyakit Daun pada Tanaman Cabai\", \"Dr. Rudi Hartono\")\n",
        "    magister.tampilkan_info()\n",
        "    magister.hitung_predikat()"
      ],
      "metadata": {
        "id": "lx5BO4LRkWjp",
        "outputId": "f3708059-4161-41f4-c17f-04db82f42e65",
        "colab": {
          "base_uri": "https://localhost:8080/"
        }
      },
      "execution_count": 30,
      "outputs": [
        {
          "output_type": "stream",
          "name": "stdout",
          "text": [
            "=== Data Mahasiswa Sarjana ===\n",
            "Nama: Anisa Farcha Noviani\n",
            "NIM: 4.33.24.1.01\n",
            "IPK: 3.85\n",
            "Semester: 6\n",
            "SKS Lulus: 110\n",
            "Predikat: Dengan Pujian\n",
            "\n",
            "=== Data Mahasiswa Magister ===\n",
            "Nama: Dhevina Chintya\n",
            "NIM: 3.33.24.1.08\n",
            "IPK: 3.75\n",
            "Judul Tesis: Implementasi Algoritma CNN untuk Deteksi Penyakit Daun pada Tanaman Cabai\n",
            "Pembimbing: Dr. Rudi Hartono\n",
            "Predikat: Dengan Pujian (Magister)\n"
          ]
        }
      ]
    }
  ]
}