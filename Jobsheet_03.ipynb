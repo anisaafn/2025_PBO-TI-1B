{
  "nbformat": 4,
  "nbformat_minor": 0,
  "metadata": {
    "colab": {
      "provenance": [],
      "toc_visible": true,
      "authorship_tag": "ABX9TyMuJP8P8pg9jEaPcxwZBwOi",
      "include_colab_link": true
    },
    "kernelspec": {
      "name": "python3",
      "display_name": "Python 3"
    },
    "language_info": {
      "name": "python"
    }
  },
  "cells": [
    {
      "cell_type": "markdown",
      "metadata": {
        "id": "view-in-github",
        "colab_type": "text"
      },
      "source": [
        "<a href=\"https://colab.research.google.com/github/anisaafn/2025_PBO-TI-1B/blob/main/Jobsheet_03.ipynb\" target=\"_parent\"><img src=\"https://colab.research.google.com/assets/colab-badge.svg\" alt=\"Open In Colab\"/></a>"
      ]
    },
    {
      "cell_type": "markdown",
      "source": [
        "# JOBSHEET 03:KONSTRUKTOR, DESTRUKTOR, DAN ENKAPSULASI"
      ],
      "metadata": {
        "id": "99CLxHZJfwba"
      }
    },
    {
      "cell_type": "markdown",
      "source": [
        "## Praktikum 01: Enkapsulasi pada kelas Bank Account\n",
        "Berikut adalah contoh sederhana dalam Python yang mendemonstrasikan proses enkapsulasi  (encapsulation). Enkapsulasi adalah konsep yang bertujuan untuk “menyembunyikan” atau  melindungi data (atribut) di dalam suatu objek agar tidak diakses secara langsung di luar kelas,  serta menyediakan metode (fungsi) khusus untuk memanipulasi data tersebut. UML kelas  diagram kelas BankAccount.\n",
        "\n",
        "* Atribut Privat:\n",
        "o __owner: str\n",
        "Menyimpan nama pemilik akun (tipe data string).\n",
        "o __balance: int\n",
        "Menyimpan saldo akun (tipe data integer).\n",
        "* Metode Publik:\n",
        "o __init__(owner: str, balance: int)\n",
        "Konstruktor yang digunakan untuk menginisialisasi objek dengan parameter  owner dan balance.\n",
        "o deposit(amount: int): None\n",
        "Metode untuk menambahkan saldo ke akun. Jika nilai amount lebih dari 0, maka  nilai tersebut ditambahkan ke __balance.\n",
        "o withdraw(amount: int): None\n",
        "Metode untuk menarik saldo. Melakukan validasi agar jumlah penarikan tidak  melebihi saldo yang tersedia.\n",
        "o get_balance(): int\n",
        "Metode untuk mengambil nilai saldo akun saat ini.\n",
        "Diagram di atas memberikan gambaran mengenai struktur kelas BankAccount serta cara kerja  enkapsulasi dalam mengatur atribut dan metode di dalam kelas. Kemudian untuk kode  praktikum dalam python dapat dilihat sebagai berikut:"
      ],
      "metadata": {
        "id": "XL5JeXoEyiTs"
      }
    },
    {
      "cell_type": "code",
      "source": [
        "class BankAccount:\n",
        "    def __init__(self, owner, balance):\n",
        "        # Atribut dengan double underscore (__) dianggap \"private\" di Python\n",
        "        self.__owner = owner\n",
        "        self.__balance = balance\n",
        "\n",
        "    def deposit(self, amount):\n",
        "        \"\"\"Method untuk menambahkan saldo.\"\"\"\n",
        "        if amount > 0:\n",
        "            self.__balance += amount\n",
        "            print(f\"{amount} telah ditambahkan ke akun {self.__owner}.\")\n",
        "        else:\n",
        "            print(\"Jumlah deposit harus lebih dari 0.\")\n",
        "\n",
        "    def withdraw(self, amount):\n",
        "        \"\"\"Method untuk menarik saldo.\"\"\"\n",
        "        if amount <= self.__balance:\n",
        "            self.__balance -= amount\n",
        "            print(f\"{amount} telah ditarik dari akun {self.__owner}.\")\n",
        "        else:\n",
        "            print(\"Saldo tidak mencukupi.\")\n",
        "\n",
        "    def get_balance(self):\n",
        "        \"\"\"Method untuk mendapatkan informasi saldo terkini.\"\"\"\n",
        "        return self.__balance\n",
        "\n",
        "# Contoh penggunaan\n",
        "if __name__ == \"__main__\":\n",
        "    # Membuat objek BankAccount dengan owner=\"Alice\" dan balance awal 1000\n",
        "    alice_account = BankAccount(owner=\"Alice\", balance=1000)\n",
        "\n",
        "    # Deposit uang\n",
        "    alice_account.deposit(500) # Berhasil\n",
        "    alice_account.deposit(-100) # Gagal (validasi)\n",
        "\n",
        "    # Withdraw uang\n",
        "    alice_account.withdraw(300) # Berhasil\n",
        "    alice_account.withdraw(2000) # Gagal (saldo tidak cukup)\n",
        "\n",
        "    # Mendapatkan saldo\n",
        "    current_balance = alice_account.get_balance()\n",
        "    print(f\"Saldo terakhir di akun {alice_account._BankAccount__owner}: {current_balance}\")\n",
        "\n",
        "    # Mencoba mengakses atribut 'private' langsung (tidak direkomendasikan)\n",
        "    # alice_account.__balance # Akan error\n",
        "    # Karena Python “mangling” nama atribut __balance menjadi _BankAccount__balance\n",
        "    # Ini adalah salah satu mekanisme enkapsulasi sederhana di Python."
      ],
      "metadata": {
        "colab": {
          "base_uri": "https://localhost:8080/"
        },
        "id": "bwwroGYqiRZy",
        "outputId": "a62f9c00-9357-4dbc-cdcd-8ca71154d03a"
      },
      "execution_count": null,
      "outputs": [
        {
          "output_type": "stream",
          "name": "stdout",
          "text": [
            "500 telah ditambahkan ke akun Alice.\n",
            "Jumlah deposit harus lebih dari 0.\n",
            "300 telah ditarik dari akun Alice.\n",
            "Saldo tidak mencukupi.\n",
            "Saldo terakhir di akun Alice: 1200\n"
          ]
        }
      ]
    },
    {
      "cell_type": "markdown",
      "source": [
        "Penjelasan\n",
        "1. Atribut Private: Di Python, penulisan __nama_atribut membuat nama atribut tersebut  di-“mangled” sehingga tidak dapat diakses langsung dari luar kelas dengan nama  aslinya. Contoh: __balance menjadi _BankAccount__balance. Ini bukan perlindungan  mutlak, tetapi menjadi sinyal kuat bahwa atribut tersebut tidak untuk diakses  sembarangan.\n",
        "2. Metode Akses (Get/Set): Konsep “getter” atau “setter” diterapkan untuk mengontrol  validasi dan logika ketika atribut diubah. Di contoh ini,  method deposit() dan withdraw() melindungi __balance dari perubahan langsung  dengan menambahkan sejumlah kondisi (validasi).\n",
        "3. Keuntungan Enkapsulasi:\n",
        "\n",
        "*   Memudahkan perawatan kode (maintenance) karena data tidak diubah sembarangan.\n",
        "*   Mempermudah menambahkan validasi/pengecekan keamanan (security check). • Mengontrol akses terhadap data, sehingga lebih mudah dikelola.\n",
        "Meski Python tidak memiliki sistem enkapsulasi “private”/“protected” secara ketat seperti  beberapa bahasa pemrograman lain, penulisan underscore ganda dan pendekatan getter/setter  tetap menjadi praktik umum untuk menegaskan bahwa atribut atau metode tersebut bersifat  internal."
      ],
      "metadata": {
        "id": "rWxDig05nVV-"
      }
    },
    {
      "cell_type": "markdown",
      "source": [
        "## Praktikum 02: Enkapsulasi pada kelas Employee\n",
        "Berikut ini adalah contoh lain tentang enkapsulasi dalam Python menggunakan kelas Employee  yang menyembunyikan data karyawan, seperti nama dan gaji, dari akses langsung di luar kelas.  Pada contoh ini, kita menyediakan method khusus (getter dan setter) untuk mengakses dan  memodifikasi data privat. UML kelas diagram untuk Employee Class.\n",
        "\n",
        "\n"
      ],
      "metadata": {
        "id": "yUVs_xkBoQQJ"
      }
    },
    {
      "cell_type": "code",
      "source": [
        "class Employee:\n",
        "    def __init__(self, name, salary):\n",
        "        # Atribut privat dengan double underscore\n",
        "        self.__name = name\n",
        "        self.__salary = salary\n",
        "\n",
        "    def update_salary(self, increase):\n",
        "        \"\"\"Method untuk menaikkan gaji dengan validasi.\"\"\"\n",
        "        if increase > 0:\n",
        "            self.__salary += increase\n",
        "            print(f\"Gaji telah dinaikkan sebesar {increase}.\")\n",
        "        else:\n",
        "            print(\"Nilai kenaikan harus lebih dari 0.\")\n",
        "\n",
        "    def set_salary(self, new_salary):\n",
        "        \"\"\"Method untuk mengubah gaji dengan validasi.\"\"\"\n",
        "        if new_salary >= 0:\n",
        "            self.__salary = new_salary\n",
        "            print(f\"Gaji diatur ulang menjadi {new_salary}.\")\n",
        "        else:\n",
        "            print(\"Gaji tidak dapat bernilai negatif.\")\n",
        "\n",
        "    def get_salary(self):\n",
        "        \"\"\"Method untuk mendapatkan informasi gaji.\"\"\"\n",
        "        return self.__salary\n",
        "\n",
        "    def get_employee_info(self):\n",
        "        \"\"\"Method untuk menampilkan informasi karyawan secara menyeluruh.\"\"\"\n",
        "        return f\"Employee: {self.__name}, Gaji: {self.__salary}\"\n",
        "\n",
        "# Contoh penggunaan\n",
        "if __name__ == \"__main__\":\n",
        "    # Membuat objek Employee dengan nama \"John Doe\" dan gaji awal 50000\n",
        "    employee1 = Employee(\"John Doe\", 50000)\n",
        "\n",
        "    # Tampilkan informasi karyawan\n",
        "    print(employee1.get_employee_info())\n",
        "\n",
        "    # Update gaji dengan menaikkan sebesar 5000\n",
        "    employee1.update_salary(5000)\n",
        "    print(f\"Gaji setelah kenaikan: {employee1.get_salary()}\")\n",
        "\n",
        "    # Atur ulang gaji dengan nilai baru\n",
        "    employee1.set_salary(60000)\n",
        "    print(f\"Informasi terbaru: {employee1.get_employee_info()}\")\n",
        "\n",
        "    # Mencoba mengakses atribut privat secara langsung (tidak direkomendasikan)\n",
        "    # Contoh: print(employee1.__salary) --> Ini akan menimbulkan error"
      ],
      "metadata": {
        "id": "k6KiWkBnrh7z",
        "outputId": "9abdbefe-3795-4564-a87c-b2c505bc4ac6",
        "colab": {
          "base_uri": "https://localhost:8080/"
        }
      },
      "execution_count": null,
      "outputs": [
        {
          "output_type": "stream",
          "name": "stdout",
          "text": [
            "Employee: John Doe, Gaji: 50000\n",
            "Gaji telah dinaikkan sebesar 5000.\n",
            "Gaji setelah kenaikan: 55000\n",
            "Gaji diatur ulang menjadi 60000.\n",
            "Informasi terbaru: Employee: John Doe, Gaji: 60000\n"
          ]
        }
      ]
    },
    {
      "cell_type": "markdown",
      "source": [
        "**Penjelasan**\n",
        "1. Atribut Privat\n",
        "• Atribut __name dan __salary dimulai dengan dua garis bawah (double underscore),  yang menandakan bahwa atribut tersebut bersifat privat.\n",
        "• Python melakukan name mangling sehingga atribut ini tidak dapat diakses secara  langsung dari luar kelas, melainkan harus menggunakan method yang disediakan. 2. Method untuk Memodifikasi Data\n",
        "• update_salary(): Menambahkan nilai kenaikan ke gaji saat ini dengan validasi  bahwa nilai kenaikan harus positif.\n",
        "• set_salary(): Mengatur nilai gaji secara langsung asalkan nilai tersebut tidak  negatif.\n",
        "3. Method untuk Mengakses Data\n",
        "• get_salary(): Mengembalikan nilai gaji saat ini.\n",
        "• get_employee_info(): Mengembalikan informasi lengkap tentang karyawan  termasuk nama dan gaji.\n",
        "4. Keuntungan Enkapsulasi\n",
        "• Data sensitif seperti gaji disembunyikan sehingga hanya dapat diubah melalui  method yang telah ditentukan.\n",
        "• Validasi data dilakukan di dalam method untuk menjaga agar nilai yang tidak valid  tidak masuk ke atribut.\n",
        "• Menjaga integritas data dan memudahkan perawatan kode.\n",
        "Dengan pendekatan ini, kita memastikan bahwa data dalam objek Employee aman dari  modifikasi secara langsung dari luar kelas dan hanya dapat diubah melalui operasi yang telah  diatur sesuai logika bisnis."
      ],
      "metadata": {
        "id": "wrQa0fqRsFaF"
      }
    },
    {
      "cell_type": "markdown",
      "source": [
        "## Praktikum 03: Konstruktor dan Destruktor Sederhana\n",
        "Berikut adalah contoh program sederhana yang mendemonstrasikan cara kerja konstruktor dan  destruktor dalam Python:\n",
        "* Atribut:\n",
        "o name: str → Atribut publik yang disimpan saat objek dibuat.\n",
        "* Method:\n",
        "o __init__(name: str) → Konstruktor yang dipanggil saat objek diinisialisasi. o __del__() → Destruktor yang dipanggil saat objek dihapus (baik secara eksplisit  dengan del atau otomatis oleh garbage collector).\n",
        "\n",
        "Kode Program:"
      ],
      "metadata": {
        "id": "3OuiIq7jyuwH"
      }
    },
    {
      "cell_type": "code",
      "source": [
        "class SimpleExample:\n",
        "    def __init__(self, name):\n",
        "        \"\"\"\n",
        "        Konstruktor: Dipanggil saat objek dibuat.\n",
        "        Menyimpan nilai 'name' dan mencetak pesan pembuatan objek.\n",
        "        \"\"\"\n",
        "        self.name = name\n",
        "        print(f\"Konstruktor: Objek '{self.name}' telah dibuat.\")\n",
        "\n",
        "    def __del__(self):\n",
        "        \"\"\"\n",
        "        Destruktor: Dipanggil saat objek dihapus.\n",
        "        Mencetak pesan bahwa objek sedang dihapus.\n",
        "        \"\"\"\n",
        "        print(f\"Destruktor: Objek '{self.name}' sedang dihapus.\")\n",
        "\n",
        "\n",
        "def main():\n",
        "    print(\"Program dimulai.\\n\")\n",
        "\n",
        "    # Membuat objek SimpleExample\n",
        "    obj = SimpleExample(\"Demo\")\n",
        "    print(\"Program sedang berjalan...\\n\")\n",
        "\n",
        "    # Menghapus objek secara eksplisit\n",
        "    del obj\n",
        "    print(\"Objek telah dihapus secara eksplisit.\\n\")\n",
        "\n",
        "    print(\"Program selesai.\")\n",
        "\n",
        "\n",
        "if __name__ == \"__main__\":\n",
        "    main()"
      ],
      "metadata": {
        "colab": {
          "base_uri": "https://localhost:8080/"
        },
        "id": "wECc2UZbzPW-",
        "outputId": "2a9a8ac9-4ad5-457f-a338-b94986e0af77"
      },
      "execution_count": null,
      "outputs": [
        {
          "output_type": "stream",
          "name": "stdout",
          "text": [
            "Program dimulai.\n",
            "\n",
            "Konstruktor: Objek 'Demo' telah dibuat.\n",
            "Program sedang berjalan...\n",
            "\n",
            "Destruktor: Objek 'Demo' sedang dihapus.\n",
            "Objek telah dihapus secara eksplisit.\n",
            "\n",
            "Program selesai.\n"
          ]
        }
      ]
    },
    {
      "cell_type": "markdown",
      "source": [
        "1. Konstruktor (__init__):\n",
        "Saat objek dibuat dengan SimpleExample(\"Demo\"), Python secara otomatis memanggil  metode __init__, yang mencetak pesan bahwa objek telah dibuat dan menyimpan atribut name. 2. Destruktor (__del__):\n",
        "Ketika perintah del obj dipanggil, objek dihapus secara eksplisit (meskipun pada kenyataannya Python  akan menghapus objek ketika tidak ada lagi referensi), sehingga metode __del__ terpanggil dan  mencetak pesan bahwa objek sedang dihapus.\n",
        "3. Alur Program:\n",
        "Program memulai dengan pembuatan objek, melakukan beberapa operasi (di sini hanya mencetak  beberapa pesan), lalu menghapus objek dan menampilkan pesan bahwa objek telah dihapus. Program ini memberikan gambaran yang sederhana mengenai bagaimana konstruktor dan destruktor bekerja  di Python untuk mengelola siklus hidup objek."
      ],
      "metadata": {
        "id": "18YUIHFezoBr"
      }
    },
    {
      "cell_type": "markdown",
      "source": [
        "## Praktikum 04: Konstruktor dan Destruktor program FileLogger\n",
        "Berikut adalah contoh lain yang lebih nyata, yakni simulasi pengelolaan koneksi jaringan.  Dalam contoh ini, kelas NetworkConnection membuat \"koneksi\" ke sebuah alamat host dan  port ketika objek dibuat (menggunakan konstruktor) dan menutup koneksi tersebut ketika  objek dihapus (menggunakan destruktor). Selain itu, terdapat metode untuk mengirim dan  menerima data melalui koneksi tersebut.\n",
        "\n",
        "✓ Atribut:\n",
        "* filename: str → Nama file tempat log ditulis.\n",
        "* file: File → Objek file yang dibuka dalam mode append (\"a\"), digunakan untuk menulis  log.\n",
        "\n",
        "✓ Method:\n",
        "* __init__(filename: str) → Konstruktor untuk membuka file log saat objek dibuat.\n",
        "* write_log(message: str) → Menulis pesan log ke file dan flush ke disk.\n",
        "* __del__() → Destruktor untuk menutup file saat objek dihapus.\n",
        "\n",
        "Kode program:"
      ],
      "metadata": {
        "id": "-tbKfys8ztrl"
      }
    },
    {
      "cell_type": "code",
      "source": [
        "class FileLogger:\n",
        "    def __init__(self, filename):\n",
        "        \"\"\"\n",
        "        Konstruktor: Membuka file log untuk menulis pesan.\n",
        "        Parameter:\n",
        "        - filename: Nama file tempat pesan log akan ditulis.\n",
        "        \"\"\"\n",
        "        self.filename = filename\n",
        "        try:\n",
        "            self.file = open(filename, \"a\")  # Membuka file dalam mode append\n",
        "            print(f\"File '{filename}' berhasil dibuka untuk logging.\")\n",
        "        except Exception as e:\n",
        "            print(f\"Gagal membuka file '{filename}': {e}\")\n",
        "\n",
        "    def write_log(self, message):\n",
        "        \"\"\"\n",
        "        Menulis pesan log ke dalam file.\n",
        "        Parameter:\n",
        "        - message: Pesan yang akan ditulis ke file.\n",
        "        \"\"\"\n",
        "        self.file.write(message + \"\\n\")\n",
        "        self.file.flush()  # Memastikan pesan langsung ditulis ke disk\n",
        "        print(f\"Pesan log: '{message}' telah ditulis.\")\n",
        "\n",
        "    def __del__(self):\n",
        "        \"\"\"\n",
        "        Destruktor: Menutup file log ketika objek dihapus.\n",
        "        \"\"\"\n",
        "        if hasattr(self, \"file\") and not self.file.closed:\n",
        "            self.file.close()\n",
        "            print(f\"File '{self.filename}' telah ditutup.\")\n",
        "\n",
        "\n",
        "# Contoh penggunaan dalam skenario nyata aplikasi\n",
        "if __name__ == \"__main__\":\n",
        "    # Membuat objek logger untuk file \"application.log\"\n",
        "    logger = FileLogger(\"application.log\")\n",
        "\n",
        "    # Menulis beberapa pesan log selama operasi aplikasi\n",
        "    logger.write_log(\"Aplikasi dimulai.\")\n",
        "    logger.write_log(\"Melakukan operasi A...\")\n",
        "    logger.write_log(\"Operasi A selesai.\")\n",
        "    logger.write_log(\"Aplikasi akan segera selesai.\")\n",
        "\n",
        "    # Menghapus objek logger secara eksplisit\n",
        "    del logger\n",
        "\n",
        "    # Jika objek tidak dihapus secara eksplisit, destruktor akan dipanggil\n",
        "    # ketika program berakhir dan garbage collection membersihkan objek tersebut."
      ],
      "metadata": {
        "colab": {
          "base_uri": "https://localhost:8080/"
        },
        "id": "CPDVF0TOz_q6",
        "outputId": "57bc00ca-0179-44b0-87c8-0ba0d16f7cce"
      },
      "execution_count": null,
      "outputs": [
        {
          "output_type": "stream",
          "name": "stdout",
          "text": [
            "File 'application.log' berhasil dibuka untuk logging.\n",
            "Pesan log: 'Aplikasi dimulai.' telah ditulis.\n",
            "Pesan log: 'Melakukan operasi A...' telah ditulis.\n",
            "Pesan log: 'Operasi A selesai.' telah ditulis.\n",
            "Pesan log: 'Aplikasi akan segera selesai.' telah ditulis.\n",
            "File 'application.log' telah ditutup.\n"
          ]
        }
      ]
    },
    {
      "cell_type": "markdown",
      "source": [
        "1. Konstruktor (__init__):\n",
        "* Saat objek NetworkConnection dibuat, konstruktor akan dijalankan untuk membuka koneksi  ke alamat host dan port yang diberikan.\n",
        "* Atribut self.connected diset ke True untuk menandakan koneksi aktif, dan delay  dengan time.sleep(1) digunakan untuk mensimulasikan proses inisialisasi koneksi.\n",
        "2. Metode send_data dan receive_data:\n",
        "* send_data(data): Metode ini menampilkan pesan pengiriman data, mensimulasikan delay  singkat, dan mengonfirmasi bahwa data telah dikirim selama koneksi dalam keadaan aktif.\n",
        "* receive_data(): Metode ini mensimulasikan penerimaan data dengan delay, mengembalikan  pesan yang diterima, dan menampilkan hasilnya ke layar.\n",
        "3. Destruktor (__del__):\n",
        "* Saat objek dihapus, destruktor akan dijalankan untuk menutup koneksi jika koneksi masih aktif.\n",
        "* Proses penutupan juga disimulasikan dengan delay, dan status koneksi diubah menjadi False.\n",
        "4. Alur Program di Fungsi main():\n",
        "* Program dimulai dengan membuat objek NetworkConnection.\n",
        "* Setelah itu, program mengirim dan menerima data melalui koneksi yang telah dibuat.\n",
        "* Objek koneksi kemudian dihapus secara eksplisit dengan del conn, sehingga destruktor segera  dipanggil untuk menutup koneksi.\n",
        "* Setelah menunggu sejenak, program selesai.\n",
        "\n",
        "Contoh ini menggambarkan bagaimana konstruktor dan destruktor bekerja dalam konteks nyata, yaitu dalam  pengelolaan sumber daya (resource) berupa koneksi jaringan. Teknik ini penting untuk memastikan bahwa  resource dilepaskan dengan benar, menghindari kebocoran resource, dan menjaga integritas aplikasi."
      ],
      "metadata": {
        "id": "pCw0HvfA0NBd"
      }
    },
    {
      "cell_type": "markdown",
      "source": [
        "## Praktikum 05: Properti \"self\" pada kelas\n",
        "Berikut adalah contoh kode Python yang mendemonstrasikan peran dari self dalam metode  sebuah kelas. Kode ini menjelaskan bagaimana self digunakan untuk merujuk ke atribut dan  metode instance, sehingga setiap objek (instance) memiliki data dan perilaku yang independen. Diagram UML Kelas Calculator sebagai berikut:\n",
        "\n",
        "* Atribut:\n",
        "o value: int → Nilai saat ini yang disimpan dalam kalkulator (bersifat publik dalam  kode Python).\n",
        "* Method:\n",
        "o __init__(initial_value: int = 0) → Konstruktor untuk inisialisasi nilai awal  kalkulator.\n",
        "o add(number: int) → Menambahkan angka ke nilai saat ini.\n",
        "o subtract(number: int) → Mengurangi angka dari nilai saat ini.\n",
        "o reset() → Mengatur nilai kalkulator kembali ke nol.\n",
        "o show_value() → Menampilkan nilai saat ini.\n",
        "\n",
        "Kode Program:"
      ],
      "metadata": {
        "id": "NQoFv5sJ0h5l"
      }
    },
    {
      "cell_type": "code",
      "source": [
        "class Calculator:\n",
        "    def __init__(self, initial_value=0):\n",
        "        \"\"\"\n",
        "        Konstruktor kelas Calculator.\n",
        "        - self: Mengacu pada instance yang dibuat.\n",
        "        - initial_value: Nilai awal dari kalkulator.\n",
        "        \"\"\"\n",
        "        self.value = initial_value\n",
        "        print(f\"Kalkulator diinisialisasi dengan nilai: {self.value}\")\n",
        "\n",
        "    def add(self, number):\n",
        "        \"\"\"\n",
        "        Menambahkan 'number' ke nilai yang tersimpan di objek.\n",
        "        - self.value: Menunjukkan nilai saat ini yang disimpan di objek tersebut.\n",
        "        - number: Nilai yang akan ditambahkan.\n",
        "        \"\"\"\n",
        "        self.value += number\n",
        "        print(f\"Setelah penambahan {number}, nilai sekarang adalah: {self.value}\")\n",
        "\n",
        "    def subtract(self, number):\n",
        "        \"\"\"\n",
        "        Mengurangi 'number' dari nilai yang tersimpan.\n",
        "        - self.value: Nilai saat ini dalam objek.\n",
        "        - number: Nilai yang akan dikurangkan.\n",
        "        \"\"\"\n",
        "        self.value -= number\n",
        "        print(f\"Setelah pengurangan {number}, nilai sekarang adalah: {self.value}\")\n",
        "\n",
        "    def reset(self):\n",
        "        \"\"\"\n",
        "        Mengatur ulang nilai kalkulator ke 0.\n",
        "        \"\"\"\n",
        "        self.value = 0\n",
        "        print(\"Nilai telah direset ke 0.\")\n",
        "\n",
        "    def show_value(self):\n",
        "        \"\"\"\n",
        "        Menampilkan nilai saat ini dari kalkulator.\n",
        "        \"\"\"\n",
        "        print(f\"Nilai saat ini adalah: {self.value}\")\n",
        "\n",
        "# Contoh penggunaan untuk memahami peran 'self'\n",
        "def main():\n",
        "    # Membuat objek Calculator dengan nilai awal 10\n",
        "    calc1 = Calculator(initial_value=10)\n",
        "\n",
        "    # Menggunakan metode dari objek calc1\n",
        "    calc1.add(5)  # Menambah 5 ke nilai calc1\n",
        "    calc1.subtract(3)  # Mengurangi 3 dari nilai calc1\n",
        "    calc1.show_value()  # Menampilkan nilai calc1\n",
        "\n",
        "    # Membuat objek Calculator lainnya dengan nilai awal default (0)\n",
        "    calc2 = Calculator()\n",
        "    calc2.add(20)  # Menambah 20 ke nilai calc2\n",
        "    calc2.show_value()  # Menampilkan nilai calc2\n",
        "\n",
        "    # Penjelasan peran self:\n",
        "    # 'self' memungkinkan setiap instance (calc1, calc2) memiliki atribut 'value' masing-masing.\n",
        "    # Perubahan yang dilakukan pada calc1 tidak akan mempengaruhi calc2, karena masing-masing\n",
        "    # mengacu pada self yang berbeda (instance yang berbeda).\n",
        "\n",
        "if __name__ == \"__main__\":\n",
        "    main()"
      ],
      "metadata": {
        "colab": {
          "base_uri": "https://localhost:8080/"
        },
        "id": "srF8idDY0y8V",
        "outputId": "a31bdb6c-9648-4552-c552-385956ebc29b"
      },
      "execution_count": null,
      "outputs": [
        {
          "output_type": "stream",
          "name": "stdout",
          "text": [
            "Kalkulator diinisialisasi dengan nilai: 10\n",
            "Setelah penambahan 5, nilai sekarang adalah: 15\n",
            "Setelah pengurangan 3, nilai sekarang adalah: 12\n",
            "Nilai saat ini adalah: 12\n",
            "Kalkulator diinisialisasi dengan nilai: 0\n",
            "Setelah penambahan 20, nilai sekarang adalah: 20\n",
            "Nilai saat ini adalah: 20\n"
          ]
        }
      ]
    },
    {
      "cell_type": "markdown",
      "source": [
        "Penjelasan Kode\n",
        "1. Konstruktor (__init__)\n",
        "* Parameter self merujuk pada instance yang dibuat.\n",
        "* Atribut self.value diinisialisasi dengan nilai awal yang diberikan.\n",
        "* Setiap kali objek baru dibuat, konstruktor ini dipanggil secara otomatis.\n",
        "2. Method add(), subtract(), reset(), dan show_value()\n",
        "* Semua method memiliki parameter pertama self yang memungkinkan mereka  mengakses dan mengubah atribut instance.\n",
        "* Misalnya,ketika calc1.add(5) dipanggil, method add() menggunakan self untuk  menambah 5 ke calc1.value.\n",
        "3. Penggunaan Banyak Instance\n",
        "* Pada bagian main(), dua objek calc1 dan calc2 dibuat secara terpisah.\n",
        "* Perubahan yang terjadi pada calc1 tidak berpengaruh pada calc2, karena  masing-masing memiliki atribut self.value mereka sendiri.\n",
        "\n",
        "Kode ini memberikan gambaran jelas tentang bagaimana self bekerja untuk mengakses dan  memanipulasi data dalam objek Python."
      ],
      "metadata": {
        "id": "Dm6a6eTY1dlX"
      }
    },
    {
      "cell_type": "markdown",
      "source": [
        "## Praktikum 06: Menggunakan getter, setter, dan dekorator @property untuk mengelola  akses atribut\n",
        "Di bawah ini adalah contoh kode Python yang menjelaskan cara menggunakan getter, setter,  dan dekorator @property untuk mengelola akses ke atribut yang bersifat privat. Contoh ini  menggunakan kelas Person yang memiliki atribut privat __name dan __age. Getter dan setter  digunakan untuk mengakses dan memodifikasi atribut tersebut dengan validasi yang sesuai.\n",
        "UML kelas diagram Person.\n",
        "\n",
        "* Atribut Privat (-):\n",
        "o __name: str – disimpan secara internal, tidak bisa diakses langsung dari luar kelas. o __age: int – juga bersifat privat.\n",
        "• Konstruktor (+ __init__(name, age)):\n",
        "o Digunakan untuk menginisialisasi objek dengan nilai awal untuk name dan age\n",
        "* Property Methods ({property}):\n",
        "o name dan age menggunakan dekorator @property, sehingga dapat digunakan  seperti atribut biasa tapi dengan pengelolaan akses (getter/setter) di balik layar.\n",
        "\n",
        "Kode Program:"
      ],
      "metadata": {
        "id": "m-dPsKHJ1wav"
      }
    },
    {
      "cell_type": "code",
      "source": [
        "class Person:\n",
        "    def __init__(self, name, age):\n",
        "        \"\"\"\n",
        "        Konstruktor untuk menginisialisasi objek Person dengan nama dan umur.\n",
        "        Atribut privat (dengan double underscore) menyimpan data internal.\n",
        "        \"\"\"\n",
        "        self.__name = name\n",
        "        self.__age = age\n",
        "\n",
        "    @property\n",
        "    def name(self):\n",
        "        \"\"\"\n",
        "        Getter untuk atribut name.\n",
        "        Mengembalikan nilai dari __name.\n",
        "        \"\"\"\n",
        "        return self.__name\n",
        "\n",
        "    @name.setter\n",
        "    def name(self, value):\n",
        "        \"\"\"\n",
        "        Setter untuk atribut name.\n",
        "        Memeriksa apakah nilai tidak kosong sebelum mengubah nilai __name.\n",
        "        \"\"\"\n",
        "        if not value:\n",
        "            print(\"Nama tidak boleh kosong.\")\n",
        "        else:\n",
        "            self.__name = value\n",
        "\n",
        "    @property\n",
        "    def age(self):\n",
        "        \"\"\"\n",
        "        Getter untuk atribut age.\n",
        "        Mengembalikan nilai dari __age.\n",
        "        \"\"\"\n",
        "        return self.__age\n",
        "\n",
        "    @age.setter\n",
        "    def age(self, value):\n",
        "        \"\"\"\n",
        "        Setter untuk atribut age.\n",
        "        Memeriksa apakah nilai umur tidak negatif sebelum mengubah nilai __age.\n",
        "        \"\"\"\n",
        "        if value < 0:\n",
        "            print(\"Umur tidak boleh negatif!\")\n",
        "        else:\n",
        "            self.__age = value\n",
        "\n",
        "# Contoh penggunaan\n",
        "def main():\n",
        "    # Membuat objek Person dengan nama \"Alice\" dan umur 30\n",
        "    person = Person(\"Alice\", 30)\n",
        "    print(f\"Nama: {person.name}, Umur: {person.age}\")\n",
        "\n",
        "    # Mengubah nama dan umur melalui setter\n",
        "    person.name = \"Bob\"\n",
        "    person.age = 35\n",
        "    print(f\"Nama baru: {person.name}, Umur baru: {person.age}\")\n",
        "\n",
        "    # Mencoba menetapkan nilai yang tidak valid untuk umur\n",
        "    person.age = -5  # Akan memunculkan pesan error karena validasi umur negatif\n",
        "\n",
        "if __name__ == \"__main__\":\n",
        "    main()"
      ],
      "metadata": {
        "colab": {
          "base_uri": "https://localhost:8080/"
        },
        "id": "ykv4v17L2VFn",
        "outputId": "73bb4d33-56ff-45ff-d4a9-ac925eaf9e0e"
      },
      "execution_count": null,
      "outputs": [
        {
          "output_type": "stream",
          "name": "stdout",
          "text": [
            "Nama: Alice, Umur: 30\n",
            "Nama baru: Bob, Umur baru: 35\n",
            "Umur tidak boleh negatif!\n"
          ]
        }
      ]
    },
    {
      "cell_type": "markdown",
      "source": [
        "Penjelasan Kode\n",
        "1. Atribut Privat\n",
        "* self.__name dan self.__age di dalam konstruktor disembunyikan agar tidak  dapat diakses atau diubah langsung dari luar kelas.\n",
        "2. Getter dengan @property\n",
        "* Metode name dan age yang didekorasi dengan @property berfungsi sebagai  getter untuk mengembalikan nilai atribut privat.\n",
        "* Contoh: person.name akan mengembalikan nilai __name tanpa mengaksesnya  secara langsung.\n",
        "3. Setter dengan @.setter\n",
        "* Metode name dan age dilengkapi dengan setter yang didekorasi  dengan @name.setter dan @age.setter.\n",
        "* Setter digunakan untuk melakukan validasi (misalnya, nama tidak boleh kosong  dan umur tidak boleh negatif) sebelum mengubah nilai atribut privat.\n",
        "4. Contoh Penggunaan\n",
        "* Objek dibuat dengan parameter awal.\n",
        "* Akses dan modifikasi atribut dilakukan melalui property, sehingga jika ada  perubahan yang tidak memenuhi validasi, pesan error akan ditampilkan.\n",
        "\n",
        "Kode ini memberikan gambaran bagaimana penggunaan getter, setter, dan  dekorator @property membantu dalam mengelola dan memvalidasi akses ke atribut privat  dalam sebuah kelas."
      ],
      "metadata": {
        "id": "_IbC2_Kj2gWa"
      }
    },
    {
      "cell_type": "markdown",
      "source": [
        "## Penugasan\n",
        "\n",
        "1. Kumpulkan Laporan Praktikum dari jobsheet ini dalam bentuk Microsoft word sesuai  dengan format jobsheet praktikum dan dikumpulkan di web LMS. (JANGAN DALAM  BENTUK PDF)\n",
        "2. Kumpulkan luaran kode praktikum dalam bentuk ipynb yang sudah diunggah pada akun  github masing-masing. Lampirkan tautan github yang sudah di unggah melalui laman  LMS.\n",
        "3. Buat Program:  \n",
        "✓ Buatlah sebuah kelas Python bernama Student.\n",
        "* Kelas ini harus memiliki atribut privat: __name, __score, dan __grade. • Tambahkan konstruktor (__init__) untuk menginisialisasi name dan score. ✓ Tambahkan getter dan setter menggunakan @property untuk atribut name dan  score.\n",
        "* Validasi score: harus berada di antara 0 hingga 100.\n",
        "* Jika nilai score berubah, maka grade juga harus di-update secara otomatis (gunakan  fungsi setter atau method internal).\n",
        "o Rentang nilai dan grade:\n",
        "* 90–100 → A\n",
        "* 80–89 → B\n",
        "* 70–79 → C\n",
        "* 60–69 → D\n",
        "* <60 → E\n",
        "✓ Tambahkan method show_info() yang menampilkan informasi lengkap mahasiswa: Nama Mahasiswa: <name>\n",
        "Nilai: <score>\n",
        "Grade: <grade>\n",
        "✓ Tambahkan destruktor __del__ yang mencetak:\n",
        "Data mahasiswa <name> telah dihapus dari sistem.\n",
        "✓ Buat Kelas Diagram program yang dibuat\n",
        "\n",
        "Contoh output yang diharapkan:\n",
        "\n",
        "Nama Mahasiswa: Siti\n",
        "Nilai: 87\n",
        "Grade: B\n",
        "Nilai diubah...\n",
        "Nama Mahasiswa: Siti\n",
        "Nilai: 93\n",
        "Grade: A\n",
        "Data mahasiswa Siti telah dihapus dari sistem.\n"
      ],
      "metadata": {
        "id": "KA4XsYym2zjT"
      }
    },
    {
      "cell_type": "markdown",
      "source": [
        "Program Python Student"
      ],
      "metadata": {
        "id": "z9V-xu4Y40eY"
      }
    },
    {
      "cell_type": "code",
      "source": [
        "class Student:\n",
        "    def __init__(self, name, score):\n",
        "        self.__name = name\n",
        "        self.__score = None  # placeholder, akan di-set lewat setter\n",
        "        self.__grade = None\n",
        "        self.score = score  # gunakan setter agar validasi & grade otomatis dilakukan\n",
        "\n",
        "    @property\n",
        "    def name(self):\n",
        "        return self.__name\n",
        "\n",
        "    @name.setter\n",
        "    def name(self, value):\n",
        "        if not value:\n",
        "            print(\"Nama tidak boleh kosong.\")\n",
        "        else:\n",
        "            self.__name = value\n",
        "\n",
        "    @property\n",
        "    def score(self):\n",
        "        return self.__score\n",
        "\n",
        "    @score.setter\n",
        "    def score(self, value):\n",
        "        if not (0 <= value <= 100):\n",
        "            raise ValueError(\"Nilai harus antara 0 hingga 100.\") # Indented this line\n",
        "        else:\n",
        "            self.__score = value\n",
        "            self.__update_grade()\n",
        "\n",
        "    def __update_grade(self):\n",
        "        if self.__score >= 90:\n",
        "            self.__grade = \"A\"\n",
        "        elif self.__score >= 80:\n",
        "            self.__grade = \"B\"\n",
        "        elif self.__score >= 70:\n",
        "            self.__grade = \"C\"\n",
        "        elif self.__score >= 60:\n",
        "            self.__grade = \"D\"\n",
        "        else:\n",
        "            self.__grade = \"E\"\n",
        "\n",
        "    def show_info(self):\n",
        "        print(f\"Nama Mahasiswa: {self.__name}\")\n",
        "        print(f\"Nilai: {self.__score}\")\n",
        "        print(f\"Grade: {self.__grade}\")\n",
        "\n",
        "    def __del__(self):\n",
        "        print(f\"Data mahasiswa bernama {self.__name} telah dihapus dari sistem.\")\n",
        "\n",
        "# Contoh penggunaan\n",
        "def main():\n",
        "    student = Student(\"Anisa\", 90)\n",
        "    student.show_info()\n",
        "\n",
        "    print(\"Nilai telah diubah...\")\n",
        "    student.score = 88\n",
        "    student.show_info()\n",
        "\n",
        "    # Setelah main selesai, student akan otomatis terhapus (jika tidak direferensikan lagi)\n",
        "\n",
        "if __name__ == \"__main__\":\n",
        "    main()"
      ],
      "metadata": {
        "colab": {
          "base_uri": "https://localhost:8080/"
        },
        "id": "fj7IbxCl4_tC",
        "outputId": "18ecd4dc-19cd-4679-c4cd-20ad6fe8f6a8"
      },
      "execution_count": null,
      "outputs": [
        {
          "output_type": "stream",
          "name": "stdout",
          "text": [
            "Nama Mahasiswa: Anisa\n",
            "Nilai: 90\n",
            "Grade: A\n",
            "Nilai telah diubah...\n",
            "Nama Mahasiswa: Anisa\n",
            "Nilai: 88\n",
            "Grade: B\n",
            "Data mahasiswa bernama Anisa telah dihapus dari sistem.\n"
          ]
        }
      ]
    }
  ]
}