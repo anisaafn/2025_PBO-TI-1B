{
  "nbformat": 4,
  "nbformat_minor": 0,
  "metadata": {
    "colab": {
      "provenance": [],
      "authorship_tag": "ABX9TyMtkeHxn26GjTlwolswdqS/",
      "include_colab_link": true
    },
    "kernelspec": {
      "name": "python3",
      "display_name": "Python 3"
    },
    "language_info": {
      "name": "python"
    }
  },
  "cells": [
    {
      "cell_type": "markdown",
      "metadata": {
        "id": "view-in-github",
        "colab_type": "text"
      },
      "source": [
        "<a href=\"https://colab.research.google.com/github/anisaafn/2025_PBO-TI-1B/blob/main/Jobsheet_03.ipynb\" target=\"_parent\"><img src=\"https://colab.research.google.com/assets/colab-badge.svg\" alt=\"Open In Colab\"/></a>"
      ]
    },
    {
      "cell_type": "markdown",
      "source": [
        "# JOBSHEET 03:KONSTRUKTOR, DESTRUKTOR, DAN ENKAPSULASI\n",
        "## Praktikum 01: Enkapsulasi pada kelas Bank Account\n",
        "Berikut adalah contoh sederhana dalam Python yang mendemonstrasikan proses enkapsulasi  (encapsulation). Enkapsulasi adalah konsep yang bertujuan untuk “menyembunyikan” atau  melindungi data (atribut) di dalam suatu objek agar tidak diakses secara langsung di luar kelas,  serta menyediakan metode (fungsi) khusus untuk memanipulasi data tersebut. UML kelas  diagram kelas BankAccount.\n",
        "\n",
        "• Atribut Privat:\n",
        "\n",
        "o __owner: str\n",
        "Menyimpan nama pemilik akun (tipe data string).\n",
        "o __balance: int\n",
        "Menyimpan saldo akun (tipe data integer).\n",
        "• Metode Publik:\n",
        "o __init__(owner: str, balance: int)\n",
        "Konstruktor yang digunakan untuk menginisialisasi objek dengan parameter  owner dan balance.\n",
        "o deposit(amount: int): None\n",
        "Metode untuk menambahkan saldo ke akun. Jika nilai amount lebih dari 0, maka  nilai tersebut ditambahkan ke __balance.\n",
        "o withdraw(amount: int): None\n",
        "Metode untuk menarik saldo. Melakukan validasi agar jumlah penarikan tidak  melebihi saldo yang tersedia.\n",
        "o get_balance(): int\n",
        "Metode untuk mengambil nilai saldo akun saat ini.\n",
        "Diagram di atas memberikan gambaran mengenai struktur kelas BankAccount serta cara kerja  enkapsulasi dalam mengatur atribut dan metode di dalam kelas. Kemudian untuk kode  praktikum dalam python dapat dilihat sebagai berikut:"
      ],
      "metadata": {
        "id": "99CLxHZJfwba"
      }
    },
    {
      "cell_type": "code",
      "source": [
        "class BankAccount:\n",
        "    def __init__(self, owner, balance):\n",
        "        # Atribut dengan double underscore (__) dianggap \"private\" di Python\n",
        "        self.__owner = owner\n",
        "        self.__balance = balance\n",
        "\n",
        "    def deposit(self, amount):\n",
        "        \"\"\"Method untuk menambahkan saldo.\"\"\"\n",
        "        if amount > 0:\n",
        "            self.__balance += amount\n",
        "            print(f\"{amount} telah ditambahkan ke akun {self.__owner}.\")\n",
        "        else:\n",
        "            print(\"Jumlah deposit harus lebih dari 0.\")\n",
        "\n",
        "    def withdraw(self, amount):\n",
        "        \"\"\"Method untuk menarik saldo.\"\"\"\n",
        "        if amount <= self.__balance:\n",
        "            self.__balance -= amount\n",
        "            print(f\"{amount} telah ditarik dari akun {self.__owner}.\")\n",
        "        else:\n",
        "            print(\"Saldo tidak mencukupi.\")\n",
        "\n",
        "    def get_balance(self):\n",
        "        \"\"\"Method untuk mendapatkan informasi saldo terkini.\"\"\"\n",
        "        return self.__balance\n",
        "\n",
        "# Contoh penggunaan\n",
        "if __name__ == \"__main__\":\n",
        "    # Membuat objek BankAccount dengan owner=\"Alice\" dan balance awal 1000\n",
        "    alice_account = BankAccount(owner=\"Alice\", balance=1000)\n",
        "\n",
        "    # Deposit uang\n",
        "    alice_account.deposit(500) # Berhasil\n",
        "    alice_account.deposit(-100) # Gagal (validasi)\n",
        "\n",
        "    # Withdraw uang\n",
        "    alice_account.withdraw(300) # Berhasil\n",
        "    alice_account.withdraw(2000) # Gagal (saldo tidak cukup)\n",
        "\n",
        "    # Mendapatkan saldo\n",
        "    current_balance = alice_account.get_balance()\n",
        "    print(f\"Saldo terakhir di akun {alice_account._BankAccount__owner}: {current_balance}\")\n",
        "\n",
        "    # Mencoba mengakses atribut 'private' langsung (tidak direkomendasikan)\n",
        "    # alice_account.__balance # Akan error\n",
        "    # Karena Python “mangling” nama atribut __balance menjadi _BankAccount__balance\n",
        "    # Ini adalah salah satu mekanisme enkapsulasi sederhana di Python."
      ],
      "metadata": {
        "colab": {
          "base_uri": "https://localhost:8080/"
        },
        "id": "bwwroGYqiRZy",
        "outputId": "929c1455-9b36-47b1-fea7-ee2d9300ed18"
      },
      "execution_count": null,
      "outputs": [
        {
          "output_type": "stream",
          "name": "stdout",
          "text": [
            "500 telah ditambahkan ke akun Alice.\n",
            "Jumlah deposit harus lebih dari 0.\n",
            "300 telah ditarik dari akun Alice.\n",
            "Saldo tidak mencukupi.\n",
            "Saldo terakhir di akun Alice: 1200\n"
          ]
        }
      ]
    },
    {
      "cell_type": "markdown",
      "source": [
        "Penjelasan\n",
        "1. Atribut Private: Di Python, penulisan __nama_atribut membuat nama atribut tersebut  di-“mangled” sehingga tidak dapat diakses langsung dari luar kelas dengan nama  aslinya. Contoh: __balance menjadi _BankAccount__balance. Ini bukan perlindungan  mutlak, tetapi menjadi sinyal kuat bahwa atribut tersebut tidak untuk diakses  sembarangan.\n",
        "2. Metode Akses (Get/Set): Konsep “getter” atau “setter” diterapkan untuk mengontrol  validasi dan logika ketika atribut diubah. Di contoh ini,  method deposit() dan withdraw() melindungi __balance dari perubahan langsung  dengan menambahkan sejumlah kondisi (validasi).\n",
        "3. Keuntungan Enkapsulasi:\n",
        "\n",
        "*   Memudahkan perawatan kode (maintenance) karena data tidak diubah sembarangan.\n",
        "*   Mempermudah menambahkan validasi/pengecekan keamanan (security check). • Mengontrol akses terhadap data, sehingga lebih mudah dikelola.\n",
        "Meski Python tidak memiliki sistem enkapsulasi “private”/“protected” secara ketat seperti  beberapa bahasa pemrograman lain, penulisan underscore ganda dan pendekatan getter/setter  tetap menjadi praktik umum untuk menegaskan bahwa atribut atau metode tersebut bersifat  internal."
      ],
      "metadata": {
        "id": "rWxDig05nVV-"
      }
    },
    {
      "cell_type": "markdown",
      "source": [
        "## Praktikum 02: Enkapsulasi pada kelas Employee\n",
        "Berikut ini adalah contoh lain tentang enkapsulasi dalam Python menggunakan kelas Employee  yang menyembunyikan data karyawan, seperti nama dan gaji, dari akses langsung di luar kelas.  Pada contoh ini, kita menyediakan method khusus (getter dan setter) untuk mengakses dan  memodifikasi data privat. UML kelas diagram untuk Employee Class.\n",
        "\n",
        "\n"
      ],
      "metadata": {
        "id": "yUVs_xkBoQQJ"
      }
    },
    {
      "cell_type": "code",
      "source": [
        "class Employee:\n",
        "    def __init__(self, name, salary):\n",
        "        # Atribut privat dengan double underscore\n",
        "        self.__name = name\n",
        "        self.__salary = salary\n",
        "\n",
        "    def update_salary(self, increase):\n",
        "        \"\"\"Method untuk menaikkan gaji dengan validasi.\"\"\"\n",
        "        if increase > 0:\n",
        "            self.__salary += increase\n",
        "            print(f\"Gaji telah dinaikkan sebesar {increase}.\")\n",
        "        else:\n",
        "            print(\"Nilai kenaikan harus lebih dari 0.\")\n",
        "\n",
        "    def set_salary(self, new_salary):\n",
        "        \"\"\"Method untuk mengubah gaji dengan validasi.\"\"\"\n",
        "        if new_salary >= 0:\n",
        "            self.__salary = new_salary\n",
        "            print(f\"Gaji diatur ulang menjadi {new_salary}.\")\n",
        "        else:\n",
        "            print(\"Gaji tidak dapat bernilai negatif.\")\n",
        "\n",
        "    def get_salary(self):\n",
        "        \"\"\"Method untuk mendapatkan informasi gaji.\"\"\"\n",
        "        return self.__salary\n",
        "\n",
        "    def get_employee_info(self):\n",
        "        \"\"\"Method untuk menampilkan informasi karyawan secara menyeluruh.\"\"\"\n",
        "        return f\"Employee: {self.__name}, Gaji: {self.__salary}\"\n",
        "\n",
        "# Contoh penggunaan\n",
        "if __name__ == \"__main__\":\n",
        "    # Membuat objek Employee dengan nama \"John Doe\" dan gaji awal 50000\n",
        "    employee1 = Employee(\"John Doe\", 50000)\n",
        "\n",
        "    # Tampilkan informasi karyawan\n",
        "    print(employee1.get_employee_info())\n",
        "\n",
        "    # Update gaji dengan menaikkan sebesar 5000\n",
        "    employee1.update_salary(5000)\n",
        "    print(f\"Gaji setelah kenaikan: {employee1.get_salary()}\")\n",
        "\n",
        "    # Atur ulang gaji dengan nilai baru\n",
        "    employee1.set_salary(60000)\n",
        "    print(f\"Informasi terbaru: {employee1.get_employee_info()}\")\n",
        "\n",
        "    # Mencoba mengakses atribut privat secara langsung (tidak direkomendasikan)\n",
        "    # Contoh: print(employee1.__salary) --> Ini akan menimbulkan error"
      ],
      "metadata": {
        "id": "k6KiWkBnrh7z",
        "outputId": "8069ea2e-929d-471e-b141-308798bdf5f6",
        "colab": {
          "base_uri": "https://localhost:8080/"
        }
      },
      "execution_count": 1,
      "outputs": [
        {
          "output_type": "stream",
          "name": "stdout",
          "text": [
            "Employee: John Doe, Gaji: 50000\n",
            "Gaji telah dinaikkan sebesar 5000.\n",
            "Gaji setelah kenaikan: 55000\n",
            "Gaji diatur ulang menjadi 60000.\n",
            "Informasi terbaru: Employee: John Doe, Gaji: 60000\n"
          ]
        }
      ]
    },
    {
      "cell_type": "markdown",
      "source": [
        "**Penjelasan**\n",
        "1. Atribut Privat\n",
        "• Atribut __name dan __salary dimulai dengan dua garis bawah (double underscore),  yang menandakan bahwa atribut tersebut bersifat privat.\n",
        "• Python melakukan name mangling sehingga atribut ini tidak dapat diakses secara  langsung dari luar kelas, melainkan harus menggunakan method yang disediakan. 2. Method untuk Memodifikasi Data\n",
        "• update_salary(): Menambahkan nilai kenaikan ke gaji saat ini dengan validasi  bahwa nilai kenaikan harus positif.\n",
        "• set_salary(): Mengatur nilai gaji secara langsung asalkan nilai tersebut tidak  negatif.\n",
        "3. Method untuk Mengakses Data\n",
        "• get_salary(): Mengembalikan nilai gaji saat ini.\n",
        "• get_employee_info(): Mengembalikan informasi lengkap tentang karyawan  termasuk nama dan gaji.\n",
        "4. Keuntungan Enkapsulasi\n",
        "• Data sensitif seperti gaji disembunyikan sehingga hanya dapat diubah melalui  method yang telah ditentukan.\n",
        "• Validasi data dilakukan di dalam method untuk menjaga agar nilai yang tidak valid  tidak masuk ke atribut.\n",
        "• Menjaga integritas data dan memudahkan perawatan kode.\n",
        "Dengan pendekatan ini, kita memastikan bahwa data dalam objek Employee aman dari  modifikasi secara langsung dari luar kelas dan hanya dapat diubah melalui operasi yang telah  diatur sesuai logika bisnis."
      ],
      "metadata": {
        "id": "wrQa0fqRsFaF"
      }
    }
  ]
}