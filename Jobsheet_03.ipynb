{
  "nbformat": 4,
  "nbformat_minor": 0,
  "metadata": {
    "colab": {
      "provenance": [],
      "authorship_tag": "ABX9TyP8mbI6ckWZRUsjX++MynS/",
      "include_colab_link": true
    },
    "kernelspec": {
      "name": "python3",
      "display_name": "Python 3"
    },
    "language_info": {
      "name": "python"
    }
  },
  "cells": [
    {
      "cell_type": "markdown",
      "metadata": {
        "id": "view-in-github",
        "colab_type": "text"
      },
      "source": [
        "<a href=\"https://colab.research.google.com/github/anisaafn/2025_PBO-TI-1B/blob/main/Jobsheet_03.ipynb\" target=\"_parent\"><img src=\"https://colab.research.google.com/assets/colab-badge.svg\" alt=\"Open In Colab\"/></a>"
      ]
    },
    {
      "cell_type": "markdown",
      "source": [
        "# JOBSHEET 03:KONSTRUKTOR, DESTRUKTOR, DAN ENKAPSULASI\n",
        "## Praktikum 01: Enkapsulasi pada kelas Bank Account\n",
        "Berikut adalah contoh sederhana dalam Python yang mendemonstrasikan proses enkapsulasi  (encapsulation). Enkapsulasi adalah konsep yang bertujuan untuk “menyembunyikan” atau  melindungi data (atribut) di dalam suatu objek agar tidak diakses secara langsung di luar kelas,  serta menyediakan metode (fungsi) khusus untuk memanipulasi data tersebut. UML kelas  diagram kelas BankAccount.\n",
        "\n",
        "• Atribut Privat:\n",
        "\n",
        "o __owner: str\n",
        "Menyimpan nama pemilik akun (tipe data string).\n",
        "o __balance: int\n",
        "Menyimpan saldo akun (tipe data integer).\n",
        "• Metode Publik:\n",
        "o __init__(owner: str, balance: int)\n",
        "Konstruktor yang digunakan untuk menginisialisasi objek dengan parameter  owner dan balance.\n",
        "o deposit(amount: int): None\n",
        "Metode untuk menambahkan saldo ke akun. Jika nilai amount lebih dari 0, maka  nilai tersebut ditambahkan ke __balance.\n",
        "o withdraw(amount: int): None\n",
        "Metode untuk menarik saldo. Melakukan validasi agar jumlah penarikan tidak  melebihi saldo yang tersedia.\n",
        "o get_balance(): int\n",
        "Metode untuk mengambil nilai saldo akun saat ini.\n",
        "Diagram di atas memberikan gambaran mengenai struktur kelas BankAccount serta cara kerja  enkapsulasi dalam mengatur atribut dan metode di dalam kelas. Kemudian untuk kode  praktikum dalam python dapat dilihat sebagai berikut:"
      ],
      "metadata": {
        "id": "99CLxHZJfwba"
      }
    },
    {
      "cell_type": "code",
      "source": [
        "class BankAccount:\n",
        "    def __init__(self, owner, balance):\n",
        "        # Atribut dengan double underscore (__) dianggap \"private\" di Python\n",
        "        self.__owner = owner\n",
        "        self.__balance = balance\n",
        "\n",
        "    def deposit(self, amount):\n",
        "        \"\"\"Method untuk menambahkan saldo.\"\"\"\n",
        "        if amount > 0:\n",
        "            self.__balance += amount\n",
        "            print(f\"{amount} telah ditambahkan ke akun {self.__owner}.\")\n",
        "        else:\n",
        "            print(\"Jumlah deposit harus lebih dari 0.\")\n",
        "\n",
        "    def withdraw(self, amount):\n",
        "        \"\"\"Method untuk menarik saldo.\"\"\"\n",
        "        if amount <= self.__balance:\n",
        "            self.__balance -= amount\n",
        "            print(f\"{amount} telah ditarik dari akun {self.__owner}.\")\n",
        "        else:\n",
        "            print(\"Saldo tidak mencukupi.\")\n",
        "\n",
        "    def get_balance(self):\n",
        "        \"\"\"Method untuk mendapatkan informasi saldo terkini.\"\"\"\n",
        "        return self.__balance\n",
        "\n",
        "# Contoh penggunaan\n",
        "if __name__ == \"__main__\":\n",
        "    # Membuat objek BankAccount dengan owner=\"Alice\" dan balance awal 1000\n",
        "    alice_account = BankAccount(owner=\"Alice\", balance=1000)\n",
        "\n",
        "    # Deposit uang\n",
        "    alice_account.deposit(500) # Berhasil\n",
        "    alice_account.deposit(-100) # Gagal (validasi)\n",
        "\n",
        "    # Withdraw uang\n",
        "    alice_account.withdraw(300) # Berhasil\n",
        "    alice_account.withdraw(2000) # Gagal (saldo tidak cukup)\n",
        "\n",
        "    # Mendapatkan saldo\n",
        "    current_balance = alice_account.get_balance()\n",
        "    print(f\"Saldo terakhir di akun {alice_account._BankAccount__owner}: {current_balance}\")\n",
        "\n",
        "    # Mencoba mengakses atribut 'private' langsung (tidak direkomendasikan)\n",
        "    # alice_account.__balance # Akan error\n",
        "    # Karena Python “mangling” nama atribut __balance menjadi _BankAccount__balance\n",
        "    # Ini adalah salah satu mekanisme enkapsulasi sederhana di Python."
      ],
      "metadata": {
        "colab": {
          "base_uri": "https://localhost:8080/"
        },
        "id": "bwwroGYqiRZy",
        "outputId": "929c1455-9b36-47b1-fea7-ee2d9300ed18"
      },
      "execution_count": 1,
      "outputs": [
        {
          "output_type": "stream",
          "name": "stdout",
          "text": [
            "500 telah ditambahkan ke akun Alice.\n",
            "Jumlah deposit harus lebih dari 0.\n",
            "300 telah ditarik dari akun Alice.\n",
            "Saldo tidak mencukupi.\n",
            "Saldo terakhir di akun Alice: 1200\n"
          ]
        }
      ]
    },
    {
      "cell_type": "markdown",
      "source": [
        "Penjelasan\n",
        "1. Atribut Private: Di Python, penulisan __nama_atribut membuat nama atribut tersebut  di-“mangled” sehingga tidak dapat diakses langsung dari luar kelas dengan nama  aslinya. Contoh: __balance menjadi _BankAccount__balance. Ini bukan perlindungan  mutlak, tetapi menjadi sinyal kuat bahwa atribut tersebut tidak untuk diakses  sembarangan.\n",
        "2. Metode Akses (Get/Set): Konsep “getter” atau “setter” diterapkan untuk mengontrol  validasi dan logika ketika atribut diubah. Di contoh ini,  method deposit() dan withdraw() melindungi __balance dari perubahan langsung  dengan menambahkan sejumlah kondisi (validasi).\n",
        "3. Keuntungan Enkapsulasi:\n",
        "\n",
        "*   Memudahkan perawatan kode (maintenance) karena data tidak diubah sembarangan.\n",
        "*   Mempermudah menambahkan validasi/pengecekan keamanan (security check). • Mengontrol akses terhadap data, sehingga lebih mudah dikelola.\n",
        "Meski Python tidak memiliki sistem enkapsulasi “private”/“protected” secara ketat seperti  beberapa bahasa pemrograman lain, penulisan underscore ganda dan pendekatan getter/setter  tetap menjadi praktik umum untuk menegaskan bahwa atribut atau metode tersebut bersifat  internal."
      ],
      "metadata": {
        "id": "rWxDig05nVV-"
      }
    },
    {
      "cell_type": "markdown",
      "source": [
        "## Praktikum 02: Enkapsulasi pada kelas Employee\n",
        "Berikut ini adalah contoh lain tentang enkapsulasi dalam Python menggunakan kelas Employee  yang menyembunyikan data karyawan, seperti nama dan gaji, dari akses langsung di luar kelas.  Pada contoh ini, kita menyediakan method khusus (getter dan setter) untuk mengakses dan  memodifikasi data privat. UML kelas diagram untuk Employee Class.\n"
      ],
      "metadata": {
        "id": "yUVs_xkBoQQJ"
      }
    }
  ]
}