{
  "nbformat": 4,
  "nbformat_minor": 0,
  "metadata": {
    "colab": {
      "provenance": [],
      "toc_visible": true,
      "authorship_tag": "ABX9TyP2Nt2Ecx+B08xA7RdY8Zty",
      "include_colab_link": true
    },
    "kernelspec": {
      "name": "python3",
      "display_name": "Python 3"
    },
    "language_info": {
      "name": "python"
    }
  },
  "cells": [
    {
      "cell_type": "markdown",
      "metadata": {
        "id": "view-in-github",
        "colab_type": "text"
      },
      "source": [
        "<a href=\"https://colab.research.google.com/github/anisaafn/2025_PBO-TI-1B/blob/main/jobsheet_01.ipynb\" target=\"_parent\"><img src=\"https://colab.research.google.com/assets/colab-badge.svg\" alt=\"Open In Colab\"/></a>"
      ]
    },
    {
      "cell_type": "markdown",
      "source": [
        "# JOBSHEET 01:DASAR BAHASA PEMROGRAMAN PYTHON"
      ],
      "metadata": {
        "id": "ppfGgd-XpodF"
      }
    },
    {
      "cell_type": "markdown",
      "source": [
        "## Praktikum 01. Tipe Data Dasar"
      ],
      "metadata": {
        "id": "G4fAsO2nqQvv"
      }
    },
    {
      "cell_type": "markdown",
      "source": [
        "Pada praktikum ini, mahasiswa akan mempelajari tipe-tipe data dasar yang digunakan dalam\n",
        "pemrograman Python, mulai dari integer, float, dan complex untuk nilai numerik, hingga\n",
        "boolean, string, list, tuple, dictionary, serta set yang memiliki karakteristik serta fungsi\n",
        "tersendiri. Mahasiswa juga akan mempraktikkan cara melakukan konversi tipe data (misalnya\n",
        "dari string ke integer), sehingga dapat lebih memahami bagaimana Python secara dinamis\n",
        "menangani berbagai format data. Pemahaman terhadap tipe data dasar ini menjadi landasan\n",
        "penting dalam mengembangkan logika program yang efisien dan terstruktur, sekaligus\n",
        "mempersiapkan mahasiswa untuk mengimplementasikan konsep pemrograman berorientasi\n",
        "objek di tahap lanjutan."
      ],
      "metadata": {
        "id": "yO0A__GfwbUH"
      }
    },
    {
      "cell_type": "markdown",
      "source": [
        "Kode Praktikum:"
      ],
      "metadata": {
        "id": "nALWOFr53Bkn"
      }
    },
    {
      "cell_type": "code",
      "source": [
        "# 1. Number (int, float, complex)\n",
        "# Integer (int)\n",
        "angka_int = 10\n",
        "print(\"angka_int =\", angka_int, \"->\", type(angka_int))\n",
        "\n",
        "# Float\n",
        "angka_float = 3.14\n",
        "print(\"angka_float =\", angka_float, \"->\", type(angka_float))\n",
        "\n",
        "# Complex\n",
        "angka_complex = 2 + 3j\n",
        "print(\"angka_complex =\", angka_complex, \"->\", type(angka_complex))\n",
        "\n",
        "print(\"Catatan tambahan:\")\n",
        "print(\"Integer merupakan tipe data untuk bilangan desimal/koma\")\n",
        "print(\"float merupakan tipe data untuk bilangan pecahan\")\n",
        "print(\"complex merupakan tipe data untuk bilangan kompleks\")"
      ],
      "metadata": {
        "id": "fa-RNJ3AjJ7n",
        "outputId": "fc88f19f-5b32-4772-d2fd-dad7ea7b68f9",
        "colab": {
          "base_uri": "https://localhost:8080/"
        }
      },
      "execution_count": null,
      "outputs": [
        {
          "output_type": "stream",
          "name": "stdout",
          "text": [
            "angka_int = 10 -> <class 'int'>\n",
            "angka_float = 3.14 -> <class 'float'>\n",
            "angka_complex = (2+3j) -> <class 'complex'>\n",
            "Catatan tambahan:\n",
            "Integer merupakan tipe data untuk bilangan desimal/koma\n",
            "float merupakan tipe data untuk bilangan pecahan\n",
            "complex merupakan tipe data untuk bilangan kompleks\n"
          ]
        }
      ]
    },
    {
      "cell_type": "code",
      "source": [
        "# 2. Boolean\n",
        "is_active = True\n",
        "print(\"is_active =\", is_active, \"->\", type(is_active))\n",
        "\n",
        "print(\"Catatan tambahan:\")\n",
        "print(\"Tipe data boolean merupakan tipe data yang bernilai true atau false\")"
      ],
      "metadata": {
        "id": "moW-njh9j_uF",
        "outputId": "3dc231c6-6179-4b2b-d6e6-359d72da97dd",
        "colab": {
          "base_uri": "https://localhost:8080/"
        }
      },
      "execution_count": null,
      "outputs": [
        {
          "output_type": "stream",
          "name": "stdout",
          "text": [
            "is_active = True -> <class 'bool'>\n",
            "Catatan tambahan:\n",
            "Tipe data boolean merupakan tipe data yang bernilai true atau false\n"
          ]
        }
      ]
    },
    {
      "cell_type": "code",
      "source": [
        "# 3. String\n",
        "teks = \"Hello, Python!\"\n",
        "print(\"teks =\", teks, \"->\", type(teks))\n",
        "print(\"Catatan tambahan:\")\n",
        "print(\"Tipe data string digunakan untuk merepresentasikan teks\")"
      ],
      "metadata": {
        "id": "Tn7SmNe3k_an",
        "outputId": "095cefea-a12d-4bc8-ae33-c5af75159250",
        "colab": {
          "base_uri": "https://localhost:8080/"
        }
      },
      "execution_count": null,
      "outputs": [
        {
          "output_type": "stream",
          "name": "stdout",
          "text": [
            "teks = Hello, Python! -> <class 'str'>\n",
            "Catatan tambahan:\n",
            "Tipe data string digunakan untuk merepresentasikan teks\n"
          ]
        }
      ]
    },
    {
      "cell_type": "code",
      "source": [
        "# 4. List\n",
        "# List adalah tipe data terurut dan dapat diubah (mutable)\n",
        "daftar_angka = [1, 2, 3, 4, 5]\n",
        "print(\"daftar_angka =\", daftar_angka, \"->\", type(daftar_angka))\n",
        "\n",
        "print(\"Catatan tambahan:\")\n",
        "print(\"List adalah kumpulan elemen yang bisa diubah setelah dideklarasikan.\")"
      ],
      "metadata": {
        "id": "v0ytEgj5lRlg",
        "outputId": "40875539-ed17-441e-e118-654cadab880f",
        "colab": {
          "base_uri": "https://localhost:8080/"
        }
      },
      "execution_count": null,
      "outputs": [
        {
          "output_type": "stream",
          "name": "stdout",
          "text": [
            "daftar_angka = [1, 2, 3, 4, 5] -> <class 'list'>\n",
            "Catatan tambahan:\n",
            "List adalah kumpulan elemen yang bisa diubah setelah dideklarasikan.\n"
          ]
        }
      ]
    },
    {
      "cell_type": "code",
      "source": [
        "# 5. Tuple\n",
        "# Tuple adalah tipe data terurut tetapi tidak dapat diubah (immutable)\n",
        "\n",
        "koordinat = (10, 20)\n",
        "print(\"koordinat =\", koordinat, \"->\", type(koordinat))\n",
        "\n",
        "print(\"Catatan tambahan:\")\n",
        "print(\"Tuple mirip dengan list, tetapi bersifat immutable atau tidak bisa diubah setelah dibuat.\")"
      ],
      "metadata": {
        "id": "z9FEMMJRltt-",
        "outputId": "45dc589d-3b03-46b6-dc01-f14a1b9137a3",
        "colab": {
          "base_uri": "https://localhost:8080/"
        }
      },
      "execution_count": null,
      "outputs": [
        {
          "output_type": "stream",
          "name": "stdout",
          "text": [
            "koordinat = (10, 20) -> <class 'tuple'>\n",
            "Catatan tambahan:\n",
            "Tuple mirip dengan list, tetapi bersifat immutable atau tidak bisa diubah setelah dibuat.\n"
          ]
        }
      ]
    },
    {
      "cell_type": "code",
      "source": [
        "# 6. Dictionary\n",
        "# Dictionary menyimpan data dalam pasangan key-value\n",
        "data_mahasiswa = {\n",
        "\n",
        "\"nama\": \"Andi\",\n",
        " \"nim\": \"A11.2022.12345\",\n",
        "\"jurusan\": \"Teknik Informatika\"\n",
        " }\n",
        "print(\"data_mahasiswa =\", data_mahasiswa, \"->\", type(data_mahasiswa))\n",
        "\n",
        "print(\"Catatan tambahan:\")\n",
        "print(\"Dictionary digunakan untuk menyimpan data dengan pasangan key-value.\")"
      ],
      "metadata": {
        "id": "eJ4xTjgYl4F4",
        "outputId": "0489cce5-2daa-4e76-fd96-691922150b51",
        "colab": {
          "base_uri": "https://localhost:8080/"
        }
      },
      "execution_count": null,
      "outputs": [
        {
          "output_type": "stream",
          "name": "stdout",
          "text": [
            "data_mahasiswa = {'nama': 'Andi', 'nim': 'A11.2022.12345', 'jurusan': 'Teknik Informatika'} -> <class 'dict'>\n",
            "Catatan tambahan:\n",
            "Dictionary digunakan untuk menyimpan data dengan pasangan key-value.\n"
          ]
        }
      ]
    },
    {
      "cell_type": "code",
      "source": [
        "# 7. Set\n",
        "# Set adalah tipe data yang tidak terurut, unik (tiap elemen hanya muncul 1x)\n",
        "himpunan_angka = {1, 2, 3, 2, 1}\n",
        "print(\"himpunan_angka =\", himpunan_angka, \"->\", type(himpunan_angka))\n",
        "\n",
        "print(\"Catatan tambahan:\")\n",
        "print(\"Set adalah koleksi elemen unik yang tidak berurutan.\")"
      ],
      "metadata": {
        "id": "Ofgb33Igm0Fy",
        "outputId": "1d0fd20e-7fb2-4f94-9cf9-f5f83a0d6270",
        "colab": {
          "base_uri": "https://localhost:8080/"
        }
      },
      "execution_count": null,
      "outputs": [
        {
          "output_type": "stream",
          "name": "stdout",
          "text": [
            "himpunan_angka = {1, 2, 3} -> <class 'set'>\n",
            "Catatan tambahan:\n",
            "Set adalah koleksi elemen unik yang tidak berurutan.\n"
          ]
        }
      ]
    },
    {
      "cell_type": "code",
      "source": [
        "# 8. Contoh penggunaan konversi tipe data\n",
        "nilai_str = \"100\"\n",
        "print(\"\\nnilai_str =\", nilai_str, \"->\", type(nilai_str))\n",
        "nilai_int = int(nilai_str)  # konversi string ke integer\n",
        "print(\"nilai_int =\", nilai_int, \"->\", type(nilai_int))\n",
        "\n",
        "print(\"Catatan tambahan:\")\n",
        "print(\"Konversi tipe data string ke integer menggunakan fungsi int()\")"
      ],
      "metadata": {
        "colab": {
          "base_uri": "https://localhost:8080/"
        },
        "id": "G692_6kcwmIY",
        "outputId": "f62558a3-e007-4541-891d-094b5c6f2701"
      },
      "execution_count": null,
      "outputs": [
        {
          "output_type": "stream",
          "name": "stdout",
          "text": [
            "\n",
            "nilai_str = 100 -> <class 'str'>\n",
            "nilai_int = 100 -> <class 'int'>\n",
            "Catatan tambahan:\n",
            "Konversi tipe data string ke integer menggunakan fungsi int()\n"
          ]
        }
      ]
    },
    {
      "cell_type": "markdown",
      "source": [
        "## Praktikum 02. Variabel dan Operasi Dasar"
      ],
      "metadata": {
        "id": "_l2nhQyQeTUN"
      }
    },
    {
      "cell_type": "markdown",
      "source": [
        "Pada praktikum ini, mahasiswa akan mempelajari cara mendeklarasikan variabel tanpa harus\n",
        "menentukan tipe data secara eksplisit di Python. Beragam operasi dasar—seperti aritmetika\n",
        "(penjumlahan, pengurangan, perkalian, pembagian), perbandingan (==, !=, >, <, >=, <=), dan\n",
        "logika (and, or, not)—akan diterapkan untuk memanipulasi nilai yang disimpan dalam variabel.\n",
        "Dengan mempraktikkan berbagai operasi tersebut, mahasiswa dapat memahami bagaimana\n",
        "Python menangani ekspresi matematika dan logika untuk membentuk fondasi pengembangan\n",
        "aplikasi yang lebih kompleks."
      ],
      "metadata": {
        "id": "cgOrHkwAxkEZ"
      }
    },
    {
      "cell_type": "markdown",
      "source": [
        "Kode praktikum:"
      ],
      "metadata": {
        "id": "NLT5c-4sxlut"
      }
    },
    {
      "cell_type": "code",
      "source": [
        "# -*- coding: utf-8 -*-\n",
        "\n",
        "# 1. Pendeklarasian Variabel\n",
        "nama = \"Budi\"\n",
        "umur = 20\n",
        "tinggi = 170.5\n",
        "is_student = True\n",
        "\n",
        "print(\"Nama =\", nama)\n",
        "print(\"Umur =\", umur)\n",
        "print(\"Tinggi =\", tinggi, \"cm\")\n",
        "print(\"Mahasiswa =\", is_student)\n",
        "\n",
        "# Python tidak memerlukan deklarasi tipe data secara eksplisit.\n",
        "# Tipe data variabel akan menyesuaikan nilai yang diberikan.\n",
        "\n",
        "# 2. Operasi Aritmetika\n",
        "a = 10\n",
        "b = 3\n",
        "\n",
        "penjumlahan = a + b      # Tambah\n",
        "pengurangan = a - b      # Kurang\n",
        "perkalian = a * b        # Kali\n",
        "pembagian = a / b        # Bagi (hasil float)\n",
        "pembagian_bulat = a // b # Bagi (bulat)\n",
        "modulus = a % b          # Sisa bagi\n",
        "pangkat = a ** b         # Pemangkatan\n",
        "\n",
        "print(\"\\nOPERASI ARITMETIKA\")\n",
        "print(\"a =\", a, \", b =\", b)\n",
        "print(\"Penjumlahan =\", penjumlahan)\n",
        "print(\"Pengurangan =\", pengurangan)\n",
        "print(\"Perkalian =\", perkalian)\n",
        "print(\"Pembagian =\", pembagian)\n",
        "print(\"Pembagian Bulat =\", pembagian_bulat)\n",
        "print(\"Modulus =\", modulus)\n",
        "print(\"Pangkat =\", pangkat)\n",
        "\n",
        "# 3. Operasi Perbandingan\n",
        "# Menghasilkan nilai Boolean (True/False)\n",
        "lebih_besar = a > b\n",
        "kurang_dari = a < b\n",
        "sama_dengan = a == b\n",
        "tidak_sama = a != b\n",
        "lebih_besar_sama = a >= b\n",
        "kurang_sama = a <= b\n",
        "\n",
        "print(\"\\nOPERASI PERBANDINGAN\")\n",
        "print(\"a > b =\", lebih_besar)\n",
        "print(\"a < b =\", kurang_dari)\n",
        "print(\"a == b =\", sama_dengan)\n",
        "print(\"a != b =\", tidak_sama)\n",
        "print(\"a >= b =\", lebih_besar_sama)\n",
        "print(\"a <= b =\", kurang_sama)\n",
        "\n",
        "# 4. Operasi Logika\n",
        "# and, or, not\n",
        "\n",
        "x = True\n",
        "y = False\n",
        "\n",
        "logika_and = x and y\n",
        "logika_or = x or y\n",
        "logika_not_x = not x\n",
        "\n",
        "print(\"\\nOPERASI LOGIKA\")\n",
        "print(\"x =\", x, \", y =\", y)\n",
        "print(\"x and y =\", logika_and)\n",
        "print(\"x or y =\", logika_or)\n",
        "print(\"not x =\", logika_not_x)\n",
        "\n",
        "# 5. Contoh penggunaan di dalam percabangan\n",
        "if a > b and b > 0:\n",
        "    print(\"\\nKondisi terpenuhi: a lebih besar dari b, dan b masih positif.\")\n",
        "else:\n",
        "    print(\"\\nKondisi tidak terpenuhi atau b <= 0.\")\n"
      ],
      "metadata": {
        "id": "dNX8i8AZpr2y",
        "outputId": "e5b49c61-ecb7-4c02-bfca-89de8e817cad",
        "colab": {
          "base_uri": "https://localhost:8080/"
        }
      },
      "execution_count": null,
      "outputs": [
        {
          "output_type": "stream",
          "name": "stdout",
          "text": [
            "Nama = Budi\n",
            "Umur = 20\n",
            "Tinggi = 170.5 cm\n",
            "Mahasiswa = True\n",
            "\n",
            "OPERASI ARITMETIKA\n",
            "a = 10 , b = 3\n",
            "Penjumlahan = 13\n",
            "Pengurangan = 7\n",
            "Perkalian = 30\n",
            "Pembagian = 3.3333333333333335\n",
            "Pembagian Bulat = 3\n",
            "Modulus = 1\n",
            "Pangkat = 1000\n",
            "\n",
            "OPERASI PERBANDINGAN\n",
            "a > b = True\n",
            "a < b = False\n",
            "a == b = False\n",
            "a != b = True\n",
            "a >= b = True\n",
            "a <= b = False\n",
            "\n",
            "OPERASI LOGIKA\n",
            "x = True , y = False\n",
            "x and y = False\n",
            "x or y = True\n",
            "not x = False\n",
            "\n",
            "Kondisi terpenuhi: a lebih besar dari b, dan b masih positif.\n"
          ]
        }
      ]
    },
    {
      "cell_type": "markdown",
      "source": [
        "## Praktikum 03. Percabangan"
      ],
      "metadata": {
        "id": "-aGmhnrt1Pzf"
      }
    },
    {
      "cell_type": "markdown",
      "source": [
        "Praktikum ini berfokus pada penerapan struktur kontrol aliran program berbasis kondisi,\n",
        "meliputi penggunaan if sederhana, if-else, if-elif-else, serta if bersarang (nested if). Mahasiswa\n",
        "akan mempelajari cara menggabungkan operasi logika (and, or, not) dengan percabangan untuk\n",
        "mengolah beragam skenario keputusan dalam program. Pendekatan ini memperkenalkan\n",
        "bagaimana jalannya program dapat berbeda tergantung pada kondisi yang diperiksa."
      ],
      "metadata": {
        "id": "FmrvnLo-1VDs"
      }
    },
    {
      "cell_type": "markdown",
      "source": [
        "Kode Praktikum:"
      ],
      "metadata": {
        "id": "1zLMrOCS1W9n"
      }
    },
    {
      "cell_type": "code",
      "source": [
        "# -*- coding: utf-8 -*-\n",
        "\n",
        "# IF Sederhana\n",
        "# Program hanya mengeksekusi blok jika kondisinya True\n",
        "\n",
        "nilai = 85\n",
        "print(\"Contoh IF Sederhana:\")\n",
        "if nilai > 80:\n",
        "    print(\"Selamat! Anda lulus dengan nilai tinggi.\\n\")\n",
        "\n",
        "# IF-ELSE\n",
        "# Jika kondisi True, eksekusi blok if; jika False, eksekusi blok else\n",
        "\n",
        "umur = 17\n",
        "print(\"Contoh IF-ELSE:\")\n",
        "if umur >= 18:\n",
        "    print(\"Anda sudah cukup umur untuk mendapatkan SIM.\")\n",
        "else:\n",
        "    print(\"Anda belum cukup umur untuk mendapatkan SIM.\\n\")\n",
        "\n",
        "# IF-ELIF-ELSE\n",
        "# Menangani banyak kondisi secara berurutan.\n",
        "# Jika ada kondisi yang terpenuhi, blok yang bersangkutan dieksekusi,\n",
        "# lalu program melewati blok kondisi setelahnya.\n",
        "\n",
        "hari = \"Rabu\"\n",
        "print(\"Contoh IF-ELIF-ELSE:\")\n",
        "if hari == \"Senin\":\n",
        "    print(\"Hari Senin - Saatnya kembali bekerja!\")\n",
        "elif hari == \"Selasa\":\n",
        "    print(\"Hari Selasa - Jadwal rapat mingguan.\")\n",
        "elif hari == \"Rabu\":\n",
        "    print(\"Hari Rabu - Ada diskon di beberapa toko.\")\n",
        "else:\n",
        "    print(\"Hari lainnya - Atur jadwalmu dengan baik.\\n\")\n",
        "\n",
        "# IF Bersarang (Nested IF)\n",
        "# Kondisi di dalam kondisi, biasa digunakan jika kita perlu\n",
        "# memeriksa sub-kondisi setelah kondisi pertama terpenuhi.\n",
        "\n",
        "suhu = 35\n",
        "print(\"Contoh IF Bersarang (Nested IF):\")\n",
        "if suhu > 30:\n",
        "    print(\"Cuaca cukup panas.\")\n",
        "    if suhu > 40:\n",
        "        print(\"Bahkan sangat terik! Disarankan banyak minum air.\")\n",
        "    else:\n",
        "        print(\"Masih relatif normal, tapi tetap jaga kesehatan.\")\n",
        "else:\n",
        "    print(\"Cuaca sepertinya cukup sejuk.\\n\")\n",
        "\n",
        "# Menggabungkan Percabangan dengan Operasi Logika\n",
        "# Memeriksa beberapa kondisi sekaligus dengan and, or, not\n",
        "\n",
        "nilai_teori = 75\n",
        "nilai_praktik = 80\n",
        "print(\"Contoh IF dengan Operasi Logika AND/OR:\")\n",
        "if nilai_teori >= 70 and nilai_praktik >= 70:\n",
        "    print(\"Anda lulus karena nilai teori dan praktik memadai.\")\n",
        "elif nilai_teori < 70 and nilai_praktik < 70:\n",
        "    print(\"Anda perlu meningkatkan nilai teori dan praktik.\")\n",
        "elif nilai_teori < 70:\n",
        "    print(\"Anda perlu meningkatkan nilai teori.\")\n",
        "else:\n",
        "    print(\"Anda perlu meningkatkan nilai praktik.\\n\")\n",
        "\n",
        "# Penggunaan If Ternary (atau Conditional Expression)\n",
        "# Bentuk ringkas: <hasil_if_true> if <kondisi> else <hasil_if_false>\n",
        "\n",
        "angka = -5\n",
        "print(\"Contoh If Ternary (Conditional Expression):\")\n",
        "status = \"Positif\" if angka > 0 else \"Negatif atau Nol\"\n",
        "print(\"Angka =\", angka, \"=>\", status)"
      ],
      "metadata": {
        "colab": {
          "base_uri": "https://localhost:8080/"
        },
        "id": "bNrhEYCV1TYH",
        "outputId": "0a19a886-e14d-4ad8-dca9-84794b76ec05"
      },
      "execution_count": null,
      "outputs": [
        {
          "output_type": "stream",
          "name": "stdout",
          "text": [
            "Contoh IF Sederhana:\n",
            "Selamat! Anda lulus dengan nilai tinggi.\n",
            "\n",
            "Contoh IF-ELSE:\n",
            "Anda belum cukup umur untuk mendapatkan SIM.\n",
            "\n",
            "Contoh IF-ELIF-ELSE:\n",
            "Hari Rabu - Ada diskon di beberapa toko.\n",
            "Contoh IF Bersarang (Nested IF):\n",
            "Cuaca cukup panas.\n",
            "Masih relatif normal, tapi tetap jaga kesehatan.\n",
            "Contoh IF dengan Operasi Logika AND/OR:\n",
            "Anda lulus karena nilai teori dan praktik memadai.\n",
            "Contoh If Ternary (Conditional Expression):\n",
            "Angka = -5 => Negatif atau Nol\n"
          ]
        }
      ]
    },
    {
      "cell_type": "markdown",
      "source": [
        "## Praktikum 04. Perulangan"
      ],
      "metadata": {
        "id": "QK394re-1sgV"
      }
    },
    {
      "cell_type": "markdown",
      "source": [
        "Pada praktikum ini, mahasiswa akan mendalami cara mengulang eksekusi suatu blok kode\n",
        "berkali-kali menggunakan struktur perulangan for dan while. Beragam fitur lanjutan, seperti\n",
        "break, continue, serta loop bersarang (nested loop), turut diulas untuk memberikan fleksibilitas\n",
        "lebih dalam mengelola logika program. Mahasiswa juga akan mempelajari penggunaan else\n",
        "pada loop yang merupakan fitur unik Python, serta bagaimana memanfaatkan pass sebagai\n",
        "placeholder."
      ],
      "metadata": {
        "id": "waR5vLbb10lG"
      }
    },
    {
      "cell_type": "markdown",
      "source": [
        "Kode Praktikum:"
      ],
      "metadata": {
        "id": "F2XCNB112EPH"
      }
    },
    {
      "cell_type": "code",
      "source": [
        "# -*- coding: utf-8 -*-\n",
        "\n",
        "# 1. FOR Loop dengan range()\n",
        "print(\"1) FOR loop dengan range()\")\n",
        "for i in range(5):\n",
        "    print(\"Perulangan ke-\", i)\n",
        "# range(5) menghasilkan nilai 0, 1, 2, 3, dan 4\n",
        "# Sehingga perulangan akan berjalan sebanyak 5 kali\n",
        "\n",
        "print()  # pemisah output\n",
        "\n",
        "# 2. FOR Loop untuk mengiterasi List\n",
        "print(\"2) FOR loop mengiterasi list\")\n",
        "buah = [\"apel\", \"mangga\", \"jeruk\", \"pisang\"]\n",
        "for item in buah:\n",
        "    print(\"Buah:\", item)\n",
        "# Loop akan mengeksekusi setiap elemen dalam list \"buah\"\n",
        "\n",
        "print()\n",
        "\n",
        "# 3. WHILE Loop\n",
        "print(\"3) WHILE loop sederhana\")\n",
        "count = 0\n",
        "while count < 5:\n",
        "    print(\"count =\", count)\n",
        "    count += 1  # increment\n",
        "# Perulangan while terus dijalankan selama kondisi (count < 5) bernilai True\n",
        "\n",
        "print()\n",
        "\n",
        "# 4. BREAK pada Loop\n",
        "print(\"4) BREAK di dalam loop\")\n",
        "for i in range(10):\n",
        "    if i == 3:\n",
        "        print(\"Loop dihentikan pada i =\", i)\n",
        "        break  # mengakhiri loop saat i = 3\n",
        "    print(\"i =\", i)\n",
        "# Keyword break langsung menghentikan keseluruhan perulangan\n",
        "\n",
        "print()\n",
        "\n",
        "# 5. CONTINUE pada Loop\n",
        "print(\"5) CONTINUE di dalam loop\")\n",
        "for i in range(5):\n",
        "    if i == 2:\n",
        "        print(\"Lewati i =\", i, \"dengan continue\")\n",
        "        continue  # melewati iterasi saat ini dan lanjut ke iterasi berikutnya\n",
        "    print(\"i =\", i)\n",
        "# Saat i = 2, baris print(\"i =\", i) tidak akan dieksekusi\n",
        "\n",
        "print()\n",
        "\n",
        "# 6. NESTED Loop (Loop Bersarang)\n",
        "print(\"6) NESTED loop\")\n",
        "for i in range(3):            # Loop luar (outer loop)\n",
        "    for j in range(2):        # Loop dalam (inner loop)\n",
        "        print(f\"i={i}, j={j}\")\n",
        "# Pada setiap iterasi i, loop j akan berjalan dari 0 sampai 1\n",
        "\n",
        "print()\n",
        "\n",
        "# 7. Memanfaatkan ELSE pada Loop\n",
        "print(\"7) ELSE pada loop for/while\")\n",
        "# Python memiliki fitur unik: blok else pada loop\n",
        "# Blok else akan dieksekusi jika loop selesai tanpa di-break.\n",
        "\n",
        "for x in range(3):\n",
        "    print(\"x =\", x)\n",
        "else:\n",
        "    print(\"Loop for telah selesai tanpa break.\\n\")\n",
        "\n",
        "y = 0\n",
        "while y < 3:\n",
        "    print(\"y =\", y)\n",
        "    y += 1\n",
        "else:\n",
        "    print(\"Loop while telah selesai tanpa break.\\n\")\n",
        "\n",
        "# 8. PASS sebagai placeholder\n",
        "print(\"8) PASS (placeholder)\")\n",
        "for i in range(3):\n",
        "    if i == 1:\n",
        "        pass  # pass tidak melakukan apa-apa, digunakan sebagai placeholder\n",
        "    print(\"i =\", i)"
      ],
      "metadata": {
        "colab": {
          "base_uri": "https://localhost:8080/"
        },
        "id": "bG6ekIVs1zTd",
        "outputId": "39686e29-345c-4a65-ed09-7727437e4d5f"
      },
      "execution_count": null,
      "outputs": [
        {
          "output_type": "stream",
          "name": "stdout",
          "text": [
            "1) FOR loop dengan range()\n",
            "Perulangan ke- 0\n",
            "Perulangan ke- 1\n",
            "Perulangan ke- 2\n",
            "Perulangan ke- 3\n",
            "Perulangan ke- 4\n",
            "\n",
            "2) FOR loop mengiterasi list\n",
            "Buah: apel\n",
            "Buah: mangga\n",
            "Buah: jeruk\n",
            "Buah: pisang\n",
            "\n",
            "3) WHILE loop sederhana\n",
            "count = 0\n",
            "count = 1\n",
            "count = 2\n",
            "count = 3\n",
            "count = 4\n",
            "\n",
            "4) BREAK di dalam loop\n",
            "i = 0\n",
            "i = 1\n",
            "i = 2\n",
            "Loop dihentikan pada i = 3\n",
            "\n",
            "5) CONTINUE di dalam loop\n",
            "i = 0\n",
            "i = 1\n",
            "Lewati i = 2 dengan continue\n",
            "i = 3\n",
            "i = 4\n",
            "\n",
            "6) NESTED loop\n",
            "i=0, j=0\n",
            "i=0, j=1\n",
            "i=1, j=0\n",
            "i=1, j=1\n",
            "i=2, j=0\n",
            "i=2, j=1\n",
            "\n",
            "7) ELSE pada loop for/while\n",
            "x = 0\n",
            "x = 1\n",
            "x = 2\n",
            "Loop for telah selesai tanpa break.\n",
            "\n",
            "y = 0\n",
            "y = 1\n",
            "y = 2\n",
            "Loop while telah selesai tanpa break.\n",
            "\n",
            "8) PASS (placeholder)\n",
            "i = 0\n",
            "i = 1\n",
            "i = 2\n"
          ]
        }
      ]
    },
    {
      "cell_type": "markdown",
      "source": [
        "# Penugasan"
      ],
      "metadata": {
        "id": "9zLe2WIF_6EK"
      }
    },
    {
      "cell_type": "markdown",
      "source": [
        "1.\tKumpulkan Laporan Praktikum dari jobsheet ini dalam bentuk Microsoft word sesuai dengan format jobsheet praktikum dan dikumpulkan di web elnino polines. (JANGAN DALAM BENTUK PDF)\n",
        "2.\tKumpulkan luaran kode praktikum dalam bentuk ipynb yang sudah diunggah pada akun github masing-masing. Lampirkan tautan github yang sudah di unggah melalui laman LMS elnino."
      ],
      "metadata": {
        "id": "iMx0qBofl7ud"
      }
    },
    {
      "cell_type": "markdown",
      "source": [
        "## 3. Program 1: Body Mass Index"
      ],
      "metadata": {
        "id": "RLVOOsRsABkL"
      }
    },
    {
      "cell_type": "markdown",
      "source": [
        " Buat program untuk menghitung BMI (Body Mass Index) dengan\n",
        "rumus:\n",
        "*B𝑀𝐼* = 𝑏𝑒𝑟𝑎𝑡(𝑘𝑔): 𝑡𝑖𝑛𝑔𝑔𝑖 (𝑚)2\n",
        "a. Input: berat (kg) dan tinggi (cm).\n",
        "b. Output: nilai BMI dan kategori (Underweight dibawah 18.5, Normal 18.5-24.9,\n",
        "Overweight 25-29.9).\n",
        "Untuk mendapatkan input, dapat mengguanakan perintah input() pada program\n",
        "python."
      ],
      "metadata": {
        "id": "Jf7qR4XlAKL0"
      }
    },
    {
      "cell_type": "code",
      "source": [
        "def hitung_bmi(berat_badan, tinggi):\n",
        "    tinggi_meter = tinggi / 100\n",
        "    bmi = berat_badan / (tinggi_meter ** 2)\n",
        "    return bmi\n",
        "\n",
        "def kategori_bmi(bmi):\n",
        "    if bmi < 18.5:\n",
        "        return \"Underweight\"\n",
        "    elif 18.5 <= bmi < 24.9:\n",
        "        return \"Normal\"\n",
        "    else:\n",
        "        return \"Overweight\"\n",
        "\n",
        "berat = float(input(\"Masukkan berat badan (kg): \"))\n",
        "tinggi = float(input(\"Masukkan tinggi badan (cm): \"))\n",
        "\n",
        "bmi = hitung_bmi(berat, tinggi)\n",
        "kategori = kategori_bmi(bmi)\n",
        "\n",
        "print(f\"BMI kamu adalah: {bmi:.2f}\")\n",
        "print(f\"Kategori BMI: {kategori}\")"
      ],
      "metadata": {
        "id": "Ozjf7qILAAKV",
        "outputId": "18e4eb37-a8f3-40e0-e9cc-d50c6a07c752",
        "colab": {
          "base_uri": "https://localhost:8080/"
        }
      },
      "execution_count": 5,
      "outputs": [
        {
          "output_type": "stream",
          "name": "stdout",
          "text": [
            "Masukkan berat badan (kg): 60\n",
            "Masukkan tinggi badan (cm): 150\n",
            "BMI kamu adalah: 26.67\n",
            "Kategori BMI: Overweight\n"
          ]
        }
      ]
    },
    {
      "cell_type": "markdown",
      "source": [
        "## 4. Program 2: Cek Bilangan Ganjil, Genap, Prima"
      ],
      "metadata": {
        "id": "lnnxJx-mmhtP"
      }
    },
    {
      "cell_type": "code",
      "source": [
        "# Cek Bilangan Ganjil dan Genap\n",
        "bilangan = int(input('Masukkan bilangan:')) # Konversi input ke integer\n",
        "if bilangan % 2 == 0:\n",
        "    print(f\"{bilangan} adalah bilangan genap\")\n",
        "else:\n",
        "    print(f\"{bilangan} adalah bilangan ganjil\")\n",
        "\n",
        "# Cek Bilangan Prima\n",
        "def isPrimes(n):\n",
        "    if n <= 1:\n",
        "        return False\n",
        "    for i in range(2, int(n**0.5) + 1):\n",
        "        if n % i == 0:\n",
        "            return False\n",
        "    return True\n",
        "\n",
        "if isPrimes(bilangan):\n",
        "    print(f\"{bilangan} adalah bilangan prima\")\n",
        "else:\n",
        "    print(f\"{bilangan} bukan bilangan prima\")"
      ],
      "metadata": {
        "id": "dkgVq2dw2miG",
        "outputId": "734d2d0c-064e-4c76-ff5a-d2e673bcbcc7",
        "colab": {
          "base_uri": "https://localhost:8080/"
        }
      },
      "execution_count": 20,
      "outputs": [
        {
          "output_type": "stream",
          "name": "stdout",
          "text": [
            "Masukkan bilangan:7\n",
            "7 adalah bilangan ganjil\n",
            "7 adalah bilangan prima\n"
          ]
        }
      ]
    },
    {
      "cell_type": "code",
      "source": [],
      "metadata": {
        "id": "kS3fksLDnHeR"
      },
      "execution_count": null,
      "outputs": []
    }
  ]
}