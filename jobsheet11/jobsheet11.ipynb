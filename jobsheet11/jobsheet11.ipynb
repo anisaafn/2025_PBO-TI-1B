{
 "cells": [
  {
   "cell_type": "markdown",
   "id": "52a8658a",
   "metadata": {},
   "source": [
    "# D. Langkah Praktikum\n",
    "Praktikum ini akan memandu Anda membuat aplikasi pencatat pengeluaran harian dari awal hingga akhir, menggunakan struktur modular, kelas OOP, database SQLite, dan antarmuka web Streamlit. \n",
    "Penjelasan Kelas Diagram (Diagram Komponen): \n",
    "Diagram ini menunjukkan struktur akhir aplikasi yang modular: \n",
    "•\tstreamlit_app.py: Lapisan presentasi (UI) yang menggunakan Streamlit dan memanggil lapisan logika bisnis. \n",
    "•\tmanajer_anggaran.py: Lapisan logika bisnis/repository, menggunakan model dan utilitas database. \n",
    "•\tmodel.py: Lapisan data, mendefinisikan struktur Transaksi. \n",
    "•\tdatabase.py: Lapisan akses data, menangani interaksi SQLite. \n",
    "•\tkonfigurasi.py: Menyimpan konstanta. \n",
    "•\tpengeluaran_harian.db: Penyimpanan data fisik. \n",
    "•\tExternal Libs: Library yang digunakan. \n",
    "Panah menunjukkan dependensi antar modul. Ini adalah arsitektur yang umum digunakan untuk memisahkan tanggung jawab dalam sebuah aplikasi. "
   ]
  },
  {
   "cell_type": "markdown",
   "id": "05742016",
   "metadata": {},
   "source": [
    "## Langkah 1: Persiapan Awal (Konfigurasi & Setup Database) \n",
    "Tujuan: Menyiapkan file konfigurasi dasar dan skrip untuk membuat database SQLite beserta tabelnya. \n",
    " \n"
   ]
  },
  {
   "cell_type": "markdown",
   "id": "7c923047",
   "metadata": {},
   "source": [
    "### file konfigurasi.py"
   ]
  },
  {
   "cell_type": "code",
   "execution_count": null,
   "id": "fc901f14",
   "metadata": {
    "vscode": {
     "languageId": "plaintext"
    }
   },
   "outputs": [],
   "source": [
    "# konfigurasi.py \n",
    "import os \n",
    "  \n",
    "BASE_DIR = os.path.dirname(os.path.abspath(__file__)) \n",
    "NAMA_DB = 'pengeluaran_harian.db' \n",
    "DB_PATH = os.path.join(BASE_DIR, NAMA_DB) \n",
    "KATEGORI_PENGELUARAN = [\"Makanan\", \"Transportasi\", \"Hiburan\", \"Tagihan\", \n",
    "\"Belanja\", \"Kesehatan\", \"Pendidikan\", \"Lainnya\"] \n",
    "KATEGORI_DEFAULT = \"Lainnya\" "
   ]
  }
 ],
 "metadata": {
  "language_info": {
   "name": "python"
  }
 },
 "nbformat": 4,
 "nbformat_minor": 5
}
