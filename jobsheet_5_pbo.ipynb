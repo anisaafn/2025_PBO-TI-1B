{
  "nbformat": 4,
  "nbformat_minor": 0,
  "metadata": {
    "colab": {
      "provenance": [],
      "authorship_tag": "ABX9TyM2tYQVUlycT73an0rcDefq",
      "include_colab_link": true
    },
    "kernelspec": {
      "name": "python3",
      "display_name": "Python 3"
    },
    "language_info": {
      "name": "python"
    }
  },
  "cells": [
    {
      "cell_type": "markdown",
      "metadata": {
        "id": "view-in-github",
        "colab_type": "text"
      },
      "source": [
        "<a href=\"https://colab.research.google.com/github/anisaafn/2025_PBO-TI-1B/blob/main/jobsheet_5_pbo.ipynb\" target=\"_parent\"><img src=\"https://colab.research.google.com/assets/colab-badge.svg\" alt=\"Open In Colab\"/></a>"
      ]
    },
    {
      "cell_type": "markdown",
      "source": [
        "# JOBSHEET 05: POLIMORFISME DAN MEMAHAMI OVERLOADING/OVERRIDING"
      ],
      "metadata": {
        "id": "j9sulpZAiliC"
      }
    },
    {
      "cell_type": "markdown",
      "source": [
        "## Praktikum 01: Polimorfisme dengan Inheritance dan Overriding\n",
        "Tujuan: Mengamati bagaimana objek dari kelas anak yang berbeda merespons pemanggilan  metode yang sama (yang di-override) dengan cara yang berbeda, menunjukkan konsep  polimorfisme.\n",
        "Penjelasan Kelas Diagram:\n",
        "• Kelas Burung:\n",
        "o Atribut Publik (+): nama.\n",
        "o Metode Publik (+): __init__(nama), terbang() (versi umum), bersuara() (versi umum). • Kelas Elang (Mewarisi dari Burung):\n",
        "o Atribut Publik (+): rentang_sayap (Atribut nama diwarisi).\n",
        "o Metode Publik (+): __init__(nama, rentang_sayap) (memanggil super), terbang() (override),  bersuara() (override).\n",
        "• Kelas Pipit (Mewarisi dari Burung):\n",
        "o Atribut Publik (+): warna_bulu (Atribut nama diwarisi).\n",
        "o Metode Publik (+): __init__(nama, warna_bulu) (memanggil super), terbang() (override),  bersuara() (override).\n",
        "Diagram ini menunjukkan hierarki kelas dimana Elang dan Pipit mewarisi dari Burung. Kedua  kelas anak meng-override metode terbang() dan bersuara() dari kelas induknya. Fungsi  demonstrasi_aksi_burung (tidak digambarkan dalam diagram kelas tapi dijelaskan dalam catatan)  dapat menerima daftar objek Burung (termasuk instance Elang dan Pipit). Ketika metode terbang()\n",
        "atau bersuara() dipanggil pada elemen dalam daftar tersebut, Python secara otomatis akan  menjalankan versi metode yang sesuai dengan tipe objek aktual (versi Elang jika objeknya Elang,  versi Pipit jika objeknya Pipit, atau versi Burung jika objeknya Burung), inilah inti dari  polimorfisme.\n",
        "Kemudian untuk kode praktikum dalam python dapat dilihat sebagai berikut:\n"
      ],
      "metadata": {
        "id": "FOmZoALci6XB"
      }
    },
    {
      "cell_type": "code",
      "source": [
        "#Kelas Induk\n",
        "class Burung:\n",
        "    def __init__(self, nama):\n",
        "        self.nama = nama\n",
        "    def terbang(self):\n",
        "        print(f\"{self.nama} terbang dengan cara umum.\")\n",
        "\n",
        "    def bersuara(self):\n",
        "      print(f\"{self.nama} mengeluarkan suara burung.\")\n",
        "\n",
        "#Kelas Anak 1\n",
        "class Elang(Burung):\n",
        "  def __init__(self, nama, rentang_sayap):\n",
        "    super().__init__(nama)\n",
        "    self.rentang_sayap = rentang_sayap\n",
        "\n",
        "  #override\n",
        "  def terbang (self):\n",
        "      print (f\"{self.nama} terbang tinggi melayang di angkasa.\")\n",
        "\n",
        "  #override\n",
        "  def terbang (self):\n",
        "      print (f\"{self.nama} berteriak nyaring!\")\n",
        "\n",
        "#Kelas Anak 2\n",
        "class Pipit (Burung):\n",
        "  def __init__(self, nama, warna_bulu):\n",
        "    super().__init__(nama)\n",
        "    self.warna_bulu = warna_bulu\n",
        "\n",
        "  #override\n",
        "  def terbang(self):\n",
        "    print(f\"{self.nama} terbang cepat di antara pepohonan.\")\n",
        "\n",
        "  #override\n",
        "  def bersuara(self):\n",
        "      print(f\"{self.nama} berkicau merdu: Cit cit!\")\n",
        "\n",
        "  #Fungsi yang memanfaatkan polimorfisme\n",
        "def demonstrasi_aksi_burung(daftar_burung):\n",
        "    print (\"\\nAksi Burung:\")\n",
        "    for burung in daftar_burung:\n",
        "      print (f\"-- Aksi untuk {burung.nama} --\")\n",
        "\n",
        "  #Panggilan metode yang sama, tapi perilaku berbeda tergantung objek\n",
        "      burung.terbang()\n",
        "      burung.bersuara()\n",
        "      print(\"-\" * 15)\n",
        "\n",
        " # --- Kode Utama ---\n",
        "if __name__ == \"__main__\":\n",
        "    elang_jawa = Elang(\"Elang Jawa\", 1.5)\n",
        "    pipit_gereja = Pipit(\"Pipit Gereja\", \"Coklat\")\n",
        "    burung_aneh = Burung(\"Burung Misterius\")\n",
        "\n",
        "#Objek dari kelas Induk\n",
        "koleksi_burung = [elang_jawa, pipit_gereja, burung_aneh]\n",
        "demonstrasi_aksi_burung (koleksi_burung)"
      ],
      "metadata": {
        "colab": {
          "base_uri": "https://localhost:8080/"
        },
        "id": "ClPpjrREi_5g",
        "outputId": "1bb3cf30-03cf-492b-e4be-92954015d46e"
      },
      "execution_count": null,
      "outputs": [
        {
          "output_type": "stream",
          "name": "stdout",
          "text": [
            "\n",
            "Aksi Burung:\n",
            "-- Aksi untuk Elang Jawa --\n",
            "Elang Jawa berteriak nyaring!\n",
            "Elang Jawa mengeluarkan suara burung.\n",
            "---------------\n",
            "-- Aksi untuk Pipit Gereja --\n",
            "Pipit Gereja terbang cepat di antara pepohonan.\n",
            "Pipit Gereja berkicau merdu: Cit cit!\n",
            "---------------\n",
            "-- Aksi untuk Burung Misterius --\n",
            "Burung Misterius terbang dengan cara umum.\n",
            "Burung Misterius mengeluarkan suara burung.\n",
            "---------------\n"
          ]
        }
      ]
    },
    {
      "cell_type": "markdown",
      "source": [
        "Observasi: Perhatikan bagaimana pemanggilan burung.terbang() dan burung.bersuara() di dalam fungsi demonstrasi_aksi_burung menghasilkan output yang berbeda-beda  tergantung pada tipe objek aktual (Elang, Pipit, atau Burung) yang sedang diproses dalam  loop. Ini adalah contoh polimorfisme melalui overriding metode.\n"
      ],
      "metadata": {
        "id": "pdq9gVgwojLn"
      }
    },
    {
      "cell_type": "markdown",
      "source": [
        "## Praktikum 02: Polimorfisme dengan Duck Typing\n",
        "Tujuan: Menunjukkan bagaimana Python dapat menerapkan polimorfisme pada objek yang  tidak terikat oleh hierarki pewarisan yang sama, selama objek tersebut memiliki metode yang  dibutuhkan (\"duck typing\").\n",
        "\n",
        "Penjelasan Kelas Diagram:\n",
        "• Kelas Kucing, Anjing, Bebek: Masing-masing adalah kelas independen yang kebetulan memiliki  metode publik bersuara() dengan nama yang sama.\n",
        "• Kelas Mobil: Kelas independen yang memiliki metode jalankan() tetapi tidak memiliki metode  bersuara().\n",
        "• Catatan (Note): Menjelaskan inti dari praktikum ini. Fungsi eksternal buat_suara tidak  memeriksa tipe kelas secara eksplisit. Ia hanya mencoba memanggil metode bersuara() pada  objek apa pun yang diterimanya. Jika objek tersebut \"berperilaku seperti\" sesuatu yang bisa  bersuara (yaitu, memiliki metode bersuara()), pemanggilan berhasil. Jika tidak (seperti pada  objek Mobil), terjadi error (yang ditangani try-except dalam kode).\n",
        "Diagram ini secara visual menunjukkan bahwa kelas-kelas tersebut tidak terhubung melalui  pewarisan. Polimorfisme di sini terjadi bukan karena hierarki kelas, melainkan karena  kesamaan interface (adanya metode bersuara() yang dapat dipanggil), yang merupakan ciri khas  dari duck typing di Python.\n",
        "\n",
        "Kode Python:\n"
      ],
      "metadata": {
        "id": "sB-1J-a3onQM"
      }
    },
    {
      "cell_type": "code",
      "source": [
        "class Kucing:\n",
        "  def bersuara(self):\n",
        "    print(\"Kucing: Meow!\")\n",
        "\n",
        "class Anjing:\n",
        "  def bersuara(self):\n",
        "    print(\"Anjing: Guk guk!\")\n",
        "\n",
        "class Bebek:\n",
        "  def bersuara(self):\n",
        "    print(\"Bebek: Kwek kwek!\")\n",
        "\n",
        "class Mobil: #Kelas ini tidak punya metode bersuara()\n",
        "  def  jalankan(self):\n",
        "    print(\"Mobil: Brumm!\")\n",
        "\n",
        "#Fungsi ini tidak peduli tipe objeknya,\n",
        "#asal punya metode .bersuara()\n",
        "def buat_suara(objek_yang_bisa_bersuara):\n",
        "\n",
        "  try:\n",
        "  #Memanggil metode 'bersuara' jika ada\n",
        "    objek_yang_bisa_bersuara.bersuara()\n",
        "  except AttributeError:\n",
        "    #Menangani jika objek tidak punya metode 'bersuara'\n",
        "    print(f\"Objek {type(objek_yang_bisa_bersuara).__name__} tidak bisa bersuara.\")\n",
        "\n",
        "#---Kode Utama ---\n",
        "if __name__== \"__main__\":\n",
        "  kucing1 = Kucing()\n",
        "  anjing1 = Anjing()\n",
        "  bebek1 = Bebek()\n",
        "  mobil1 = Mobil()\n",
        "\n",
        "  daftar_objek = [kucing1, anjing1, bebek1, mobil1]\n",
        "\n",
        "  print(\"Demonstrasi Duck Typing:\")\n",
        "  for item in daftar_objek:\n",
        "    buat_suara(item) #Fungsi polimorfik via duck typing"
      ],
      "metadata": {
        "colab": {
          "base_uri": "https://localhost:8080/"
        },
        "id": "YoMvD8Q2owSe",
        "outputId": "d708ace6-7e62-4d82-c18e-ad052d0b5ecf"
      },
      "execution_count": null,
      "outputs": [
        {
          "output_type": "stream",
          "name": "stdout",
          "text": [
            "Demonstrasi Duck Typing:\n",
            "Kucing: Meow!\n",
            "Anjing: Guk guk!\n",
            "Bebek: Kwek kwek!\n",
            "Objek Mobil tidak bisa bersuara.\n"
          ]
        }
      ]
    },
    {
      "cell_type": "markdown",
      "source": [
        "## Praktikum 03: Simulasi Overloading dalam Metode Kelas dengan *args\n",
        "Tujuan: Mendemonstrasikan bagaimana sebuah metode di dalam kelas dapat dirancang  untuk menerima jumlah argumen yang bervariasi menggunakan *args, sehingga meniru  perilaku overloading.\n",
        "\n",
        "Penjelasan Kelas Diagram:\n",
        "• Kelas KalkulatorSederhana:\n",
        "o Atribut Publik (+): nama (string)\n",
        "o Metode Publik (+):\n",
        "▪ __init__(nama: str = \"Kalkulator\") : void: Konstruktor dengan parameter opsional untuk  nama kalkulator.\n",
        "▪ tambah(*args: Any) : float | int: Metode tambah yang menerima sejumlah argumen (*args).  Tipe Any menunjukkan fleksibilitas tipe input, dan tipe return bisa int atau float tergantung hasil penjumlahan.\n",
        "• Catatan (Note): Menjelaskan peran *args dalam metode tambah untuk menerima jumlah  argumen yang bervariasi, yang merupakan cara Python untuk meniru perilaku overloading  berdasarkan jumlah parameter.\n",
        "Diagram ini menunjukkan kelas KalkulatorSederhana dengan metode tambah yang dirancang  secara fleksibel menggunakan *args.\n"
      ],
      "metadata": {
        "id": "NA69a0YJsEGV"
      }
    },
    {
      "cell_type": "code",
      "source": [
        "class KalkulatorSederhana:\n",
        "  def __init__(self, nama= \"Kalkulator\"):\n",
        "    self.nama = nama\n",
        "    print (f\"{self.nama} siap digunakan.\")\n",
        "\n",
        "  def tambah(self, *args):\n",
        "    \"\"\"\n",
        "    Metode ini menjumlahkan semua argumen angka yang diberikan.\n",
        "    Menerima sejumlah argumen posisi menggunakan *args.\n",
        "    \"\"\"\n",
        "    print(f\"\\nMemanggil metode tambah dengan argumen: {args}\")\n",
        "    if not args:\n",
        "      print(\"Tidak ada angka untuk dijumlahkan.\")\n",
        "      return 0 #Atau bisa juga None atau raise error\n",
        "    total = 0\n",
        "    valid_input = True\n",
        "    for angka in args:\n",
        "    #Melakukan pengecekan tipe sederhana\n",
        "      if isinstance(angka, (int, float)):\n",
        "          total += angka\n",
        "      else:\n",
        "        print(f\"Peringatan: Argumen '{angka}' bukan angka dan akan diabaikan.\")\n",
        "        valid_input = False\n",
        "\n",
        "      if valid_input:\n",
        "         print(f\"Hasil penjumlahan: {total}\")\n",
        "      else:\n",
        "         print(f\"Hasil penjumlahan (dengan beberapa input diabaikan: {total}\")\n",
        "      return total\n",
        "\n",
        "# --- Kode Utama ---\n",
        "if __name__ == \"__main__\":\n",
        "   calc = KalkulatorSederhana(\"Calc-01\")\n",
        "\n",
        "   #Memanggil metode 'tambah' dengan jumlah argumen berbeda\n",
        "   print(\"\\n-- Percobaan Penjumlahan---\")\n",
        "   calc.tambah(5, 10)\n",
        "   calc.tambah(2, 3, 5, 10)\n",
        "   calc.tambah(100)\n",
        "   calc.tambah()\n",
        "   calc.tambah(1, 2, \"tiga\", 4, 5.5)"
      ],
      "metadata": {
        "colab": {
          "base_uri": "https://localhost:8080/"
        },
        "id": "Pt-7vdo5sMQB",
        "outputId": "a78b2fd4-8153-45a6-8f42-051ac96ce6cf"
      },
      "execution_count": null,
      "outputs": [
        {
          "output_type": "stream",
          "name": "stdout",
          "text": [
            "Calc-01 siap digunakan.\n",
            "\n",
            "-- Percobaan Penjumlahan---\n",
            "\n",
            "Memanggil metode tambah dengan argumen: (5, 10)\n",
            "Hasil penjumlahan: 5\n",
            "\n",
            "Memanggil metode tambah dengan argumen: (2, 3, 5, 10)\n",
            "Hasil penjumlahan: 2\n",
            "\n",
            "Memanggil metode tambah dengan argumen: (100,)\n",
            "Hasil penjumlahan: 100\n",
            "\n",
            "Memanggil metode tambah dengan argumen: ()\n",
            "Tidak ada angka untuk dijumlahkan.\n",
            "\n",
            "Memanggil metode tambah dengan argumen: (1, 2, 'tiga', 4, 5.5)\n",
            "Hasil penjumlahan: 1\n"
          ]
        }
      ]
    },
    {
      "cell_type": "markdown",
      "source": [
        "Observasi: Perhatikan bagaimana metode tambah dari objek calc dapat dipanggil dengan dua,  empat, satu, atau bahkan nol argumen angka. Penggunaan *args mengumpulkan semua  argumen posisi ke dalam sebuah tuple args, yang kemudian diiterasi di dalam metode untuk  melakukan penjumlahan. Metode ini juga menunjukkan penanganan sederhana jika input  bukan angka atau jika tidak ada argumen yang diberikan. Ini mensimulasikan kemampuan  fungsi/metode untuk bekerja dengan jumlah input yang berbeda.\n"
      ],
      "metadata": {
        "id": "1E_FR4dbx_R_"
      }
    },
    {
      "cell_type": "markdown",
      "source": [
        "## Praktikum 04: Simulasi Overloading dalam Metode Kelas dengan *args dan **kwargs\n",
        "Tujuan: Menggunakan *args dan **kwargs di dalam sebuah metode kelas untuk menerima  jumlah argumen posisi dan kata kunci yang fleksibel, meniru perilaku metode yang bisa  dipanggil dengan cara berbeda.\n",
        "\n",
        "Penjelasan Kelas Diagram:\n",
        "• Kelas DataProcessor:\n",
        "o Atribut Publik (+): processor_id (string).\n",
        "o Metode Publik (+):\n",
        "▪ __init__(processor_id: str) : void: Konstruktor untuk inisialisasi ID prosesor. ▪ process(*args: Any, **kwargs: Any) : void: Metode process yang menerima self (implisit  dalam diagram), sejumlah argumen posisi (*args), dan sejumlah argumen kata kunci  (**kwargs).\n",
        "• Catatan (Note): Menjelaskan fungsi *args dan **kwargs dalam konteks metode process untuk  memberikan fleksibilitas dalam menerima argumen, sebuah teknik yang digunakan untuk  tujuan serupa dengan overloading di bahasa lain.\n",
        "Diagram ini menunjukkan kelas DataProcessor dan metode process yang dirancang untuk  menangani berbagai jenis pemanggilan argumen menggunakan *args dan **kwargs.\n",
        "\n",
        "Kode Program:\n",
        "\n"
      ],
      "metadata": {
        "id": "OmtnVEPZyB2Y"
      }
    },
    {
      "cell_type": "code",
      "source": [
        "class DataProcessor:\n",
        "  def __init__(self, processor_id):\n",
        "    self.processor_id = processor_id\n",
        "    print (f\"Data Processor {self.processor_id} siap.\")\n",
        "\n",
        "  def process(self, *args, **kwargs):\n",
        "    \"\"\"\n",
        "    Metode ini memproses data dengan argumen posisi (*args)\n",
        "    dan kata kunci (*kwargs) yang jumlahnya variabel\n",
        "    \"\"\"\n",
        "    print(f\"\\n--- {self.processor_id} Memproses Data---\")\n",
        "\n",
        "    #Memproses argumen posisi (*args -> tuple)\n",
        "    if args:\n",
        "      print(\"Argumen Posisi Diterima:\")\n",
        "      for i, arg in enumerate (args):\n",
        "        print (f\"args[{i}]: {arg} (tipe: {type(arg).__name__})\")\n",
        "    else:\n",
        "      print(\"TIdak ada argumen posisi.\")\n",
        "\n",
        "    #Memproses argumen kata kunci (**kwargs -> dict)\n",
        "    if kwargs:\n",
        "      print(\"Argumen Kata Kunci Diterima:\")\n",
        "      for kunci, nilai in kwargs.items():\n",
        "        print (f\"{kunci}: {nilai} (tipe: {type(nilai).__name__})\")\n",
        "    else:\n",
        "      print(\"Tidak ada argumen kata kunci.\")\n",
        "      print(\"----------------------------------\")\n",
        "\n",
        "# --- Kode Utama ---\n",
        "if __name__ == \"__main__\":\n",
        "  #Membuat instance dari kelas\n",
        "  processor1 = DataProcessor(\"DP-001\")\n",
        "\n",
        "  #Memanggil metode 'process' dengan berbagai cara\n",
        "  print (\"\\nPanggilan 1: Tanpa argumen tambahan\")\n",
        "  processor1.process()\n",
        "\n",
        "  print (\"\\nPanggilan 2: Hanya argumen posisi\")\n",
        "  processor1.process(100, \"Status OK\", 99.9, False)\n",
        "\n",
        "  print(\"\\nPanggilan 3: Hanya argumen kata kunci\")\n",
        "  processor1.process(user=\"admin\", level=5, mode=\"verbose\")\n",
        "\n",
        "  print(\"\\nPanggilan 4: Kombinasi argumen posisi dan kata kunci\")\n",
        "  processor1.process(\"Task-A\", \"Task-B\", status=\"RUnning\", priority=\"High\", thread_id=54321)\n",
        "\n",
        "  #Panggilan dengan list dan dictionary sebagai argumen posisi\n",
        "  print(\"\\nPanggilan 5: Argumen posisi kompleks\")\n",
        "  list_ids = [\"A1\", \"B2\", \"C3\"]\n",
        "  dict_params = {\"timeout\": 30, \"retry\": 3}\n",
        "  processor1.process(list_ids, dict_params, owner=\"system\", enabled=True)"
      ],
      "metadata": {
        "colab": {
          "base_uri": "https://localhost:8080/"
        },
        "id": "UVBlzEVkyRhq",
        "outputId": "24d628bb-99df-428e-c47c-8a1f31548671"
      },
      "execution_count": null,
      "outputs": [
        {
          "output_type": "stream",
          "name": "stdout",
          "text": [
            "Data Processor DP-001 siap.\n",
            "\n",
            "Panggilan 1: Tanpa argumen tambahan\n",
            "\n",
            "--- DP-001 Memproses Data---\n",
            "TIdak ada argumen posisi.\n",
            "Tidak ada argumen kata kunci.\n",
            "----------------------------------\n",
            "\n",
            "Panggilan 2: Hanya argumen posisi\n",
            "\n",
            "--- DP-001 Memproses Data---\n",
            "Argumen Posisi Diterima:\n",
            "args[0]: 100 (tipe: int)\n",
            "args[1]: Status OK (tipe: str)\n",
            "args[2]: 99.9 (tipe: float)\n",
            "args[3]: False (tipe: bool)\n",
            "Tidak ada argumen kata kunci.\n",
            "----------------------------------\n",
            "\n",
            "Panggilan 3: Hanya argumen kata kunci\n",
            "\n",
            "--- DP-001 Memproses Data---\n",
            "TIdak ada argumen posisi.\n",
            "Argumen Kata Kunci Diterima:\n",
            "user: admin (tipe: str)\n",
            "level: 5 (tipe: int)\n",
            "mode: verbose (tipe: str)\n",
            "\n",
            "Panggilan 4: Kombinasi argumen posisi dan kata kunci\n",
            "\n",
            "--- DP-001 Memproses Data---\n",
            "Argumen Posisi Diterima:\n",
            "args[0]: Task-A (tipe: str)\n",
            "args[1]: Task-B (tipe: str)\n",
            "Argumen Kata Kunci Diterima:\n",
            "status: RUnning (tipe: str)\n",
            "priority: High (tipe: str)\n",
            "thread_id: 54321 (tipe: int)\n",
            "\n",
            "Panggilan 5: Argumen posisi kompleks\n",
            "\n",
            "--- DP-001 Memproses Data---\n",
            "Argumen Posisi Diterima:\n",
            "args[0]: ['A1', 'B2', 'C3'] (tipe: list)\n",
            "args[1]: {'timeout': 30, 'retry': 3} (tipe: dict)\n",
            "Argumen Kata Kunci Diterima:\n",
            "owner: system (tipe: str)\n",
            "enabled: True (tipe: bool)\n"
          ]
        }
      ]
    },
    {
      "cell_type": "markdown",
      "source": [
        "Observasi: Perhatikan bagaimana metode process milik objek processor1 dapat dipanggil  dengan berbagai kombinasi argumen. *args dan **kwargs dalam definisi metode  process(self, *args, **kwargs) memungkinkan fleksibilitas ini. self tetap menjadi  parameter pertama yang merujuk pada instance objek, diikuti oleh *args untuk argumen posisi  dan **kwargs untuk argumen kata kunci."
      ],
      "metadata": {
        "id": "1Z8KNGxV32KK"
      }
    },
    {
      "cell_type": "markdown",
      "source": [
        "## Praktikum 05: Kombinasi Polimorfisme (Inheritance & Duck Typing)\n",
        "Tujuan: Menunjukkan bagaimana sebuah fungsi dapat bekerja secara polimorfik dengan  objek-objek dari hierarki inheritance yang sama dan objek dari kelas lain yang tidak terkait,  selama semuanya menyediakan metode yang dibutuhkan.\n",
        "\n",
        "Penjelasan Kelas Diagram:\n",
        "• Kelas Bentuk (Abstrak):\n",
        "o Kelas induk yang mendefinisikan interface umum. Metode hitung_luas() ditandai {abstract} untuk menunjukkan bahwa ia harus diimplementasikan oleh subclass.\n",
        "• Kelas Lingkaran dan Persegi:\n",
        "o Mewarisi dari Bentuk.\n",
        "o Masing-masing memiliki atribut spesifik (radius, sisi).\n",
        "Pemrograman Berorientasi Objek (432-242-206) Ir. Prayitno, S.ST., M.T., Ph.D.\n",
        "o Meng-override metode nama_bentuk() dan hitung_luas() dari kelas induk.\n",
        "• Kelas TaplakMeja:\n",
        "o Kelas yang tidak mewarisi dari Bentuk.\n",
        "o Memiliki atribut panjang, lebar.\n",
        "o Memiliki metode hitung_luas() yang kebetulan namanya sama dengan metode di Bentuk. o Memiliki metode lain (deskripsi) yang tidak ada di Bentuk.\n",
        "Catatan (Note): Menjelaskan bagaimana fungsi tampilkan_info_luas berinteraksi dengan objek objek ini. Ia bekerja pada Lingkaran dan Persegi karena mereka adalah turunan Bentuk (polimorfisme via inheritance). Ia juga bekerja pada TaplakMeja karena TaplakMeja memiliki  metode hitung_luas() yang dibutuhkan (polimorfisme via duck typing), meskipun tidak ada  hubungan inheritance formal.\n",
        "\n",
        "\n",
        "Kode Program:"
      ],
      "metadata": {
        "id": "195q9B5x334y"
      }
    },
    {
      "cell_type": "code",
      "source": [
        "import math\n",
        "\n",
        "#--- Definisi Kelas dari Hierarki Inheritance---\n",
        "class Bentuk:\n",
        "  #Metode ini bisa dianggap sebagai 'template' atau interface dasar\n",
        "  def nama_bentuk(self):\n",
        "    return \"Bentuk Generik\"\n",
        "\n",
        "  #Metode ini wajib di-override oleh subclass\n",
        "  def hitung_luas(self):\n",
        "    raise NotImplementedError(\"Subclass harus mengimplementasikan metode ini\")\n",
        "\n",
        "class Lingkaran(Bentuk):\n",
        "  def __init__(self, radius):\n",
        "    self.radius = radius\n",
        "\n",
        "  #override\n",
        "  def nama_bentuk(self):\n",
        "    return \"Lingkaran\"\n",
        "\n",
        "  #override\n",
        "  def hitung_luas(self):\n",
        "    return math.pi * (self.radius ** 2)\n",
        "\n",
        "class Persegi(Bentuk):\n",
        "  def __init__(self, sisi):\n",
        "    self.sisi = sisi\n",
        "\n",
        "#override\n",
        "  def nama_bentuk(self):\n",
        "    return \"Persegi\"\n",
        "\n",
        "  #override\n",
        "  def hitung_luas(self):\n",
        "    return self.sisi * self.sisi\n",
        "\n",
        "# --- Definisi Kelas Lain (Tidak Terkait Inheritance dengan Bentuk) ---\n",
        "class TaplakMeja:\n",
        "  def __init__(self, panjang, lebar):\n",
        "    self.panjang = panjang\n",
        "    self.lebar = lebar\n",
        "\n",
        "    #Metode dengan nama sama -> 'hitung_luas'\n",
        "    #Ini memungkinkan TaplakMeja bekerja dengan fungsi polimorfik di bawah\n",
        "    def hitung_luas(self):\n",
        "      return self.panjang * self.lebar\n",
        "\n",
        "    #Metode yang berbeda, tidak ada di kelas Bentuk\n",
        "    def deskripsi(self):\n",
        "      return f\"Taplak Meja {self.panjang} x {self.lebar}\"\n",
        "\n",
        "# ---- Fungsi Polimorfik ---\n",
        "def tampilkan_info_luas(objek_dengan_luas):\n",
        "  print(\"-\" * 20)\n",
        "  try:\n",
        "    #Mencoba memanggil hitung_luas() - inti polimorfisme\n",
        "    luas = objek_dengan_luas.hitung_luas()\n",
        "    #Mencoba mendapatkan nama jika ada (duck typing tambahan)\n",
        "    try:\n",
        "      nama = objek_dengan_luas.nama_bentuk()\n",
        "    except AttributeError:\n",
        "    #Jika tidak ada nama_bentuk(), gunakan nama kelasnya\n",
        "      nama = type (objek_dengan_luas).__name__\n",
        "\n",
        "    print(f\"Objek: {nama}\")\n",
        "    print(f\"Luas: {luas:.2f}\")\n",
        "\n",
        "  except AttributeError:\n",
        "    #Menangani jika objek sama sekali tidak punya .hitung_luas()\n",
        "    print(f\"Objek {type (objek_dengan_luas).__name__} tidak dapat dihitung luasnya (metode tidak ditemukan).\")\n",
        "\n",
        "  except NotImplementedError:\n",
        "    #Menangani jika metode ada tapi belum diimplementasi (dari kelas Bentuk)\n",
        "    print (f\"Metode 'hitung_luas' belum diimplemntasi untuk {type(objek_dengan_luas).__name__}.\")\n",
        "\n",
        "# --- Kode Utama ---\n",
        "if __name__ == \"__main__\":\n",
        "  lingkaran1 = Lingkaran(7)\n",
        "  persegi1 = Persegi(5)\n",
        "  taplak1 = TaplakMeja(1.5, 0.8)\n",
        "  bentuk_dasar = Bentuk() #objek yang tidak relevan\n",
        "  string_biasa = \"Ini string\" #objek yang tidak relevan\n",
        "\n",
        "  daftar_item = [lingkaran1, persegi1, taplak1, bentuk_dasar, string_biasa]\n",
        "  print(\"Menampilkan Info Luas (Polimorfisme Campuran) : \")\n",
        "  for item in daftar_item:\n",
        "    tampilkan_info_luas (item)"
      ],
      "metadata": {
        "colab": {
          "base_uri": "https://localhost:8080/"
        },
        "id": "OAsbGB504F_3",
        "outputId": "3c36e5f2-71a1-485e-b65c-6f39e83807ce"
      },
      "execution_count": null,
      "outputs": [
        {
          "output_type": "stream",
          "name": "stdout",
          "text": [
            "Menampilkan Info Luas (Polimorfisme Campuran) : \n",
            "--------------------\n",
            "Objek: Lingkaran\n",
            "Luas: 153.94\n",
            "--------------------\n",
            "Objek: Persegi\n",
            "Luas: 25.00\n",
            "--------------------\n",
            "Objek TaplakMeja tidak dapat dihitung luasnya (metode tidak ditemukan).\n",
            "--------------------\n",
            "Metode 'hitung_luas' belum diimplemntasi untuk Bentuk.\n",
            "--------------------\n",
            "Objek str tidak dapat dihitung luasnya (metode tidak ditemukan).\n"
          ]
        }
      ]
    },
    {
      "cell_type": "markdown",
      "source": [
        "Observasi: Fungsi tampilkan_info_luas bekerja dengan Lingkaran dan Persegi karena  mereka mewarisi dari Bentuk dan mengimplementasikan hitung_luas(). Fungsi ini juga  bekerja dengan TaplakMeja karena, meskipun tidak terkait inheritance, ia memiliki metode  hitung_luas() (duck typing). Fungsi ini juga dapat menangani objek Bentuk (yang  metodenya belum diimplementasi) dan objek string_biasa (yang tidak memiliki metode  yang relevan) dengan try-except."
      ],
      "metadata": {
        "id": "cn5ZT3wdBwRE"
      }
    },
    {
      "cell_type": "markdown",
      "source": [
        "## Praktikum 06: Kontrol Perilaku Polimorfik dengan isinstance()\n",
        "Tujuan: Menggunakan isinstance() di dalam fungsi yang bekerja secara polimorfik untuk  menambahkan perilaku khusus berdasarkan tipe objek, selain memanggil metode yang di override.\n",
        "\n",
        "Penjelasan Kelas Diagram:\n",
        "• Kelas Burung, Elang, Pipit: Struktur hierarki sama seperti Praktikum 1, namun kelas Elang dan  Pipit sekarang memiliki metode tambahan yang spesifik untuk mereka (berburu() dan  membangun_sarang()).\n",
        "• Catatan (Note): Menjelaskan bagaimana fungsi interaksi_dengan_burung (yang berada di luar  kelas) menggunakan dua pendekatan:  \n",
        "1. Memanfaatkan polimorfisme dengan memanggil metode terbang() dan bersuara() yang  perilakunya bergantung pada tipe objek aktual.\n",
        "2. Menggunakan isinstance() untuk memeriksa tipe spesifik objek (Elang atau Pipit) agar dapat  memanggil metode unik yang hanya dimiliki oleh subclass tersebut.\n",
        "Diagram ini menunjukkan struktur kelas yang memungkinkan polimorfisme, dan catatan  menjelaskan bagaimana logika eksternal dapat menggunakan isinstance() untuk berinteraksi  secara lebih spesifik dengan objek dalam hierarki tersebut.\n",
        "\n",
        "\n",
        "Kode Program:\n"
      ],
      "metadata": {
        "id": "jH0_Q2P-BzJl"
      }
    },
    {
      "cell_type": "code",
      "source": [
        "#--- Definisi Kelas Burung, Elang, Pipit ---\n",
        "class Burung:\n",
        "  def __init__(self, nama):\n",
        "    self.nama = nama\n",
        "  def terbang(self):\n",
        "    print (f\"{self.nama} terbang dengan cara umum.\")\n",
        "  def bersuara(self):\n",
        "    print(f\"{self.nama} mengeluarkan suara burung.\")\n",
        "\n",
        "class Elang(Burung):\n",
        "  def __init__(self, nama, rentang_sayap):\n",
        "    super().__init__(nama)\n",
        "    self.rentang_sayap = rentang_sayap\n",
        "\n",
        "  #override\n",
        "  def terbang(self):\n",
        "    print(f\"{self.nama} terbang tinggi melayang di angkasa.\")\n",
        "\n",
        "  #override\n",
        "  def bersuara(self):\n",
        "    print(f\"{self.nama} berteriak nyaring!\")\n",
        "  #Metode khusus Elang\n",
        "  def berburu(self):\n",
        "    print(f\"{self.nama} sedang mencari mangsa dari ketinggian\")\n",
        "\n",
        "class Pipit(Burung):\n",
        "  def __init__(self, nama, warna_bulu):\n",
        "    super().__init__(nama)\n",
        "    self.warna_bulu = warna_bulu\n",
        "\n",
        "  #override\n",
        "  def terbang(self):\n",
        "    print(f\"{self.nama} terbang cepat di antara pepohonan.\")\n",
        "\n",
        "  #override\n",
        "  def bersuara(self):\n",
        "    print(f\"{self.nama} berkicau merdu: Cit cit!\")\n",
        "\n",
        "  #Metode khusus Pipit\n",
        "  def membangun_sarang(self):\n",
        "    print(f\"{self.nama} sedang mengumpulkan ranting untuk sarang\")\n",
        "\n",
        "# --- Fungsi yang memanfaatkan polimorfisme dan isinstance() ---\n",
        "def interaksi_dengan_burung(burung):\n",
        "  print(f\"\\n--- Berinteraksi dengan {type(burung).__name__}: {getattr(burung, 'nama', 'objek tidak dikenal')} ---\")\n",
        "\n",
        "  #Cek dulu apakah objek adalah instance dari Burung atau turunannya\n",
        "  if isinstance(burung, Burung):\n",
        "    #Perilaku polimorfik dasar (memanggil metode override)\n",
        "    burung.terbang()\n",
        "    burung.bersuara()\n",
        "\n",
        "    #Menambahkan perilaku spesifik berdasarkan tipe turunan\n",
        "    if isinstance(burung, Elang):\n",
        "      print(\"-> Ini adalah Elang!\")\n",
        "      burung.berburu() #Panggil metode khusus Elang\n",
        "    elif isinstance(burung, Pipit):\n",
        "      print(\"-> Ini adalah Pipit!\")\n",
        "      burung.membangun_sarang() #Panggil metode khusus Pipit\n",
        "    else:\n",
        "      #Hanya Burung generik, bukan turunan spesifik yang dikenali\n",
        "      print(\"-> Ini adalah burung jenis umum(bukan Elang/Pipit).\")\n",
        "  else:\n",
        "    #Jika objek Bukan instance Burung sama sekali\n",
        "    print (\"-> Objek ini bukan termasuk jenis Burung.\")\n",
        "    print(\"-\" * 25)\n",
        "\n",
        "# --- Kode Utama ---\n",
        "if __name__ == \"__main__\":\n",
        "  elang_sumatra = Elang(\"Elang Sumatra\", 1.8)\n",
        "  pipit_rumah = Pipit(\"Pipit Rumah\", \"Abu-abu\")\n",
        "  merak = Burung(\"Merak\") #Contoh Burung lain (induk)\n",
        "  kucing_tetangga = \"Meong\" #Objek non-burung\"\n",
        "\n",
        "  koleksi_makhluk = [elang_sumatra, pipit_rumah, merak, kucing_tetangga]\n",
        "\n",
        "  for makhluk in koleksi_makhluk:\n",
        "    interaksi_dengan_burung(makhluk)"
      ],
      "metadata": {
        "id": "10BrxeQ2B7z0",
        "colab": {
          "base_uri": "https://localhost:8080/"
        },
        "outputId": "b1b10c38-9912-4e63-deec-60aa30f34e44"
      },
      "execution_count": 5,
      "outputs": [
        {
          "output_type": "stream",
          "name": "stdout",
          "text": [
            "\n",
            "--- Berinteraksi dengan Elang: Elang Sumatra ---\n",
            "Elang Sumatra terbang tinggi melayang di angkasa.\n",
            "Elang Sumatra berteriak nyaring!\n",
            "-> Ini adalah Elang!\n",
            "Elang Sumatra sedang mencari mangsa dari ketinggian\n",
            "\n",
            "--- Berinteraksi dengan Pipit: Pipit Rumah ---\n",
            "Pipit Rumah terbang cepat di antara pepohonan.\n",
            "Pipit Rumah berkicau merdu: Cit cit!\n",
            "-> Ini adalah Pipit!\n",
            "Pipit Rumah sedang mengumpulkan ranting untuk sarang\n",
            "\n",
            "--- Berinteraksi dengan Burung: Merak ---\n",
            "Merak terbang dengan cara umum.\n",
            "Merak mengeluarkan suara burung.\n",
            "-> Ini adalah burung jenis umum(bukan Elang/Pipit).\n",
            "\n",
            "--- Berinteraksi dengan str: objek tidak dikenal ---\n",
            "-> Objek ini bukan termasuk jenis Burung.\n",
            "-------------------------\n"
          ]
        }
      ]
    },
    {
      "cell_type": "markdown",
      "source": [
        "Observasi: Fungsi interaksi_dengan_burung pertama-tama memeriksa apakah objek  merupakan Burung. Jika ya, ia memanggil metode terbang() dan bersuara() secara  polimorfik. Kemudian, ia menggunakan isinstance() lagi untuk pemeriksaan yang lebih  spesifik (Elang atau Pipit) dan memicu perilaku tambahan (berburu() atau  membangun_sarang()) yang hanya dimiliki oleh kelas anak tersebut. Jika objek bukan Burung,  pesan berbeda ditampilkan. Ini menunjukkan cara menggabungkan polimorfisme dinamis  (memanggil metode yang mungkin di-override) dengan pemeriksaan tipe eksplisit untuk  kontrol alur program yang lebih spesifik."
      ],
      "metadata": {
        "id": "zFidoLxgJ0-D"
      }
    }
  ]
}